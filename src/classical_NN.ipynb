{
 "cells": [
  {
   "cell_type": "code",
   "execution_count": 48,
   "id": "initial_id",
   "metadata": {
    "collapsed": true,
    "ExecuteTime": {
     "end_time": "2024-03-19T02:50:41.387523Z",
     "start_time": "2024-03-19T02:50:41.326454100Z"
    }
   },
   "outputs": [],
   "source": [
    "import tensorflow as tf\n",
    "import tensorflow_datasets as tfds\n",
    "import numpy as np\n",
    "# Construct a tf.data.Dataset\n",
    "ds = tfds.load('mnist', split='train', as_supervised=True, shuffle_files=True)"
   ]
  },
  {
   "cell_type": "code",
   "outputs": [],
   "source": [
    "test_img=[]\n",
    "for image, label in ds.take(60000):\n",
    "  test_img.append(image.numpy()[:,:,0])"
   ],
   "metadata": {
    "collapsed": false,
    "ExecuteTime": {
     "end_time": "2024-03-19T02:51:34.689111600Z",
     "start_time": "2024-03-19T02:51:28.286718100Z"
    }
   },
   "id": "16160a176a775e73",
   "execution_count": 52
  },
  {
   "cell_type": "code",
   "outputs": [],
   "source": [
    "test_img = np.array(test_img)"
   ],
   "metadata": {
    "collapsed": false,
    "ExecuteTime": {
     "end_time": "2024-03-19T02:53:40.789165800Z",
     "start_time": "2024-03-19T02:53:40.715743200Z"
    }
   },
   "id": "c57db47feccc2e9e",
   "execution_count": 54
  },
  {
   "cell_type": "code",
   "outputs": [],
   "source": [
    "test = tf.image.resize(test_img[..., tf.newaxis], [4,4], method='gaussian', antialias=True)\n",
    "test = np.reshape(test, (60000, 4*4))/127.5 - 1"
   ],
   "metadata": {
    "collapsed": false,
    "ExecuteTime": {
     "end_time": "2024-03-19T02:54:09.568859100Z",
     "start_time": "2024-03-19T02:54:09.428022400Z"
    }
   },
   "id": "a723d8b50b07b94b",
   "execution_count": 56
  },
  {
   "cell_type": "code",
   "outputs": [
    {
     "data": {
      "text/plain": "0.77054083"
     },
     "execution_count": 58,
     "metadata": {},
     "output_type": "execute_result"
    }
   ],
   "source": [
    "np.amax(test)"
   ],
   "metadata": {
    "collapsed": false,
    "ExecuteTime": {
     "end_time": "2024-03-19T02:54:21.820734200Z",
     "start_time": "2024-03-19T02:54:21.806049600Z"
    }
   },
   "id": "4bf2cdaf8ec28598",
   "execution_count": 58
  },
  {
   "cell_type": "code",
   "outputs": [
    {
     "name": "stdout",
     "output_type": "stream",
     "text": [
      "True\n"
     ]
    }
   ],
   "source": [],
   "metadata": {
    "collapsed": false,
    "ExecuteTime": {
     "end_time": "2024-03-19T02:50:56.632921Z",
     "start_time": "2024-03-19T02:50:56.536892100Z"
    }
   },
   "id": "781a80218caa0e16",
   "execution_count": 50
  },
  {
   "cell_type": "code",
   "outputs": [],
   "source": [],
   "metadata": {
    "collapsed": false
   },
   "id": "6e49033d7b4f41fc"
  }
 ],
 "metadata": {
  "kernelspec": {
   "display_name": "Python 3",
   "language": "python",
   "name": "python3"
  },
  "language_info": {
   "codemirror_mode": {
    "name": "ipython",
    "version": 2
   },
   "file_extension": ".py",
   "mimetype": "text/x-python",
   "name": "python",
   "nbconvert_exporter": "python",
   "pygments_lexer": "ipython2",
   "version": "2.7.6"
  }
 },
 "nbformat": 4,
 "nbformat_minor": 5
}

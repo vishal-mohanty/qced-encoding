{
 "cells": [
  {
   "cell_type": "code",
   "outputs": [],
   "source": [
    "\n",
    "import numpy as np\n",
    "import matplotlib\n",
    "from matplotlib import pyplot as plt\n",
    "matplotlib.use('Qt5Agg') \n",
    "from sklearn.linear_model import RidgeClassifier, LogisticRegression\n",
    "from qutip import *\n",
    "\n",
    "import src.encoding.evolution as evolution\n",
    "import importlib\n",
    "importlib.reload(evolution)\n",
    "from src.encoding.evolution import Evolve\n",
    "from tqdm import tqdm\n",
    "from src.helper_functions import *\n",
    "from src.encoding.classify import Classify\n"
   ],
   "metadata": {
    "collapsed": false,
    "ExecuteTime": {
     "end_time": "2024-07-17T02:31:51.358342600Z",
     "start_time": "2024-07-17T02:31:20.272849Z"
    }
   },
   "id": "c47ce878c3f286e3",
   "execution_count": 1
  },
  {
   "cell_type": "code",
   "outputs": [],
   "source": [
    "M = 2*np.eye(3)"
   ],
   "metadata": {
    "collapsed": false,
    "ExecuteTime": {
     "end_time": "2024-07-17T02:33:15.423769100Z",
     "start_time": "2024-07-17T02:33:15.415757700Z"
    }
   },
   "id": "5477cc53868fc869",
   "execution_count": 3
  },
  {
   "cell_type": "code",
   "outputs": [],
   "source": [
    "import dynamiqs as dq\n",
    "import jax.numpy as jnp"
   ],
   "metadata": {
    "collapsed": false,
    "ExecuteTime": {
     "end_time": "2024-07-16T04:00:39.389489700Z",
     "start_time": "2024-07-16T04:00:32.649417200Z"
    }
   },
   "id": "4f87a585b37e0e48",
   "execution_count": 1
  },
  {
   "cell_type": "code",
   "outputs": [],
   "source": [
    "\n",
    "result = dq.tensor(dq.fock_dm(2, 0), jnp.array([[dq.fock_dm(10, 1)], [dq.fock_dm(10, 2)]]))"
   ],
   "metadata": {
    "collapsed": false,
    "ExecuteTime": {
     "end_time": "2024-07-16T04:01:42.562360300Z",
     "start_time": "2024-07-16T04:01:42.450687700Z"
    }
   },
   "id": "38065088dcb025ba",
   "execution_count": 5
  },
  {
   "cell_type": "code",
   "outputs": [],
   "source": [
    "disps = jnp.array([dq.displace(10, 1), dq.displace(10,2)])"
   ],
   "metadata": {
    "collapsed": false,
    "ExecuteTime": {
     "end_time": "2024-07-16T04:10:05.831436100Z",
     "start_time": "2024-07-16T04:10:05.816783900Z"
    }
   },
   "id": "f60f921543e43a0c",
   "execution_count": 8
  },
  {
   "cell_type": "code",
   "outputs": [
    {
     "data": {
      "text/plain": "(2, 10, 10)"
     },
     "execution_count": 10,
     "metadata": {},
     "output_type": "execute_result"
    }
   ],
   "source": [
    "dq.dag(disps).shape"
   ],
   "metadata": {
    "collapsed": false,
    "ExecuteTime": {
     "end_time": "2024-07-16T04:10:19.604938100Z",
     "start_time": "2024-07-16T04:10:19.566818500Z"
    }
   },
   "id": "befa7dfeaa36abdd",
   "execution_count": 10
  },
  {
   "cell_type": "code",
   "outputs": [],
   "source": [
    "xvec = np.linspace(-3, 3, 100)\n",
    "yvec = np.linspace(-3, 3, 100)\n",
    "W = wigner(fock_dm(10, 1), xvec, yvec)\n",
    "fig, axes = plt.subplots(1, 1, figsize=(10,10))\n",
    "axes.contourf(xvec, yvec, W)\n",
    "plt.show()"
   ],
   "metadata": {
    "collapsed": false,
    "ExecuteTime": {
     "end_time": "2024-07-15T08:41:20.238516700Z",
     "start_time": "2024-07-15T08:24:10.270620900Z"
    }
   },
   "id": "80f289b73b27e80b",
   "execution_count": 7
  },
  {
   "cell_type": "code",
   "outputs": [],
   "source": [
    "def linspace(start, stop, step=1.):\n",
    "  \"\"\"\n",
    "    Like np.linspace but uses step instead of num\n",
    "    This is inclusive to stop, so if start=1, stop=3, step=0.5\n",
    "    Output is: array([1., 1.5, 2., 2.5, 3.])\n",
    "  \"\"\"\n",
    "  return np.linspace(start, stop, int((stop - start) / step + 1))\n"
   ],
   "metadata": {
    "collapsed": false,
    "ExecuteTime": {
     "end_time": "2024-07-10T02:25:24.364619700Z",
     "start_time": "2024-07-10T02:25:24.357422Z"
    }
   },
   "id": "6e1eaf0b881418bf",
   "execution_count": 3
  },
  {
   "cell_type": "code",
   "outputs": [],
   "source": [
    "cdim = 20\n",
    "qdim = 2\n",
    "\n",
    "chi = 1.467\n",
    "#kerr = 3e-3\n"
   ],
   "metadata": {
    "collapsed": false,
    "ExecuteTime": {
     "end_time": "2024-07-10T02:25:29.876247500Z",
     "start_time": "2024-07-10T02:25:29.868083Z"
    }
   },
   "id": "b02fc6e1cdfcf9ef",
   "execution_count": 5
  },
  {
   "cell_type": "code",
   "outputs": [],
   "source": [
    "a = tensor(qeye(qdim), destroy(cdim))\n",
    "ad = a.dag()\n",
    "\n",
    "q = tensor(destroy(qdim), qeye(cdim))\n",
    "qd = q.dag()\n",
    "X = tensor(qeye(qdim), position(cdim))\n",
    "P = tensor(qeye(qdim), momentum(cdim))"
   ],
   "metadata": {
    "collapsed": false,
    "ExecuteTime": {
     "end_time": "2024-07-10T02:25:30.324953600Z",
     "start_time": "2024-07-10T02:25:30.313330300Z"
    }
   },
   "id": "b8752e0152dfc903",
   "execution_count": 6
  },
  {
   "cell_type": "code",
   "outputs": [],
   "source": [
    "kerrs = linspace(1e-3, 5e-3, 0.5e-3)\n",
    "coeffs = []\n",
    "for kerr in kerrs:\n",
    "    H =   - np.pi * kerr * ad * ad * a * a\n",
    "    ns = linspace(1, 1, 0.1)\n",
    "    tlist = linspace(0, 15, 0.1)\n",
    "    grads = []\n",
    "    for n in ns:\n",
    "        rho0 = tensor(fock_dm(qdim, 0), coherent_dm(cdim, n))\n",
    "        result = mesolve(H, rho0, tlist=tlist).states\n",
    "        ms = [((r*X).tr().real/np.sqrt(2) - n, (r*P).tr().real) for r in result]\n",
    "        angles = [np.arctan2(*m[::-1]) for m in ms]\n",
    "        angles[0] = np.pi/2\n",
    "        grads.append(np.polyfit(tlist, angles ,1)[0])\n",
    "    coeffs.append(np.polyfit(ns, grads, 1)[0])"
   ],
   "metadata": {
    "collapsed": false,
    "ExecuteTime": {
     "end_time": "2024-07-09T07:46:21.737036500Z",
     "start_time": "2024-07-09T07:46:16.361796700Z"
    }
   },
   "id": "a70aeebc23b9bc92",
   "execution_count": 193
  },
  {
   "cell_type": "code",
   "outputs": [],
   "source": [
    "plt.plot(kerrs, coeffs)\n",
    "plt.show()"
   ],
   "metadata": {
    "collapsed": false,
    "ExecuteTime": {
     "end_time": "2024-07-09T07:46:26.282614500Z",
     "start_time": "2024-07-09T07:46:22.490859400Z"
    }
   },
   "id": "d65735ec05a34af8",
   "execution_count": 194
  },
  {
   "cell_type": "code",
   "outputs": [],
   "source": [
    "kerr = 3e-3\n",
    "H =   - np.pi * kerr * ad * ad * a * a\n",
    "t = 15\n",
    "step = 0.1\n",
    "ns = linspace(1, 1, 0.1)\n",
    "tlist = linspace(0, t, step)\n",
    "rho0 = tensor(fock_dm(qdim, 0), coherent_dm(cdim, 1))\n",
    "result = mesolve(H, rho0, tlist=tlist).states\n",
    "ms = [((r*X).tr().real/np.sqrt(2) - 1, (r*P).tr().real) for r in result]\n",
    "angles = [np.arctan2(*m[::-1]) for m in ms]\n",
    "angles[0] = np.pi/2\n",
    "scale = 4\n",
    "xvec = np.linspace(-scale+1, scale+1, 100)\n",
    "yvec = np.linspace(-scale, scale, 100)\n",
    "Ws = np.array([wigner(r, xvec, yvec) for r in result])"
   ],
   "metadata": {
    "collapsed": false,
    "ExecuteTime": {
     "end_time": "2024-07-10T02:26:20.318509100Z",
     "start_time": "2024-07-10T02:26:13.043923700Z"
    }
   },
   "id": "933854b729ac4caf",
   "execution_count": 9
  },
  {
   "cell_type": "code",
   "outputs": [],
   "source": [
    "\n",
    "# Define initial parameters\n",
    "\n",
    "# Create the figure and the line that we will manipulate\n",
    "fig, ax = plt.subplots(figsize=(10, 10))\n",
    "\n",
    "ax.contourf(xvec/np.sqrt(2)-1, yvec/np.sqrt(2), Ws[0], vmin=-0.2, vmax=0.6)\n",
    "p, = ax.plot(*ms[0], 'ro')\n",
    "angle = 0\n",
    "# adjust the main plot to make room for the sliders\n",
    "fig.subplots_adjust(left=0.25, bottom=0.25)\n",
    "ax.set_title(f\"angle: {angle}\")\n",
    "# Make a horizontal slider to control the frequency.\n",
    "axfreq = fig.add_axes([0.25, 0.1, 0.65, 0.03])\n",
    "freq_slider = Slider(\n",
    "    ax=axfreq,\n",
    "    label='Time [µs]',\n",
    "    valmin=0,\n",
    "    valmax=t,\n",
    "    valinit=0,\n",
    "    valstep=step\n",
    ")\n",
    "\n",
    "\n",
    "# The function to be called anytime a slider's value changes\n",
    "def update(val):\n",
    "    index = int(np.rint(freq_slider.val/step))\n",
    "    ax.contourf(xvec/np.sqrt(2)-1, yvec/np.sqrt(2), Ws[index], vmin=-0.2, vmax=0.6)\n",
    "    p.set_xdata([ms[index][0]])\n",
    "    p.set_ydata([ms[index][1]])\n",
    "    angle = angles[index]\n",
    "    ax.set_title(f\"angle: {angle}\")\n",
    "\n",
    "\n",
    "# register the update function with each slider\n",
    "freq_slider.on_changed(update)\n",
    "\n",
    "plt.show()"
   ],
   "metadata": {
    "collapsed": false,
    "ExecuteTime": {
     "end_time": "2024-07-10T02:26:48.919875600Z",
     "start_time": "2024-07-10T02:26:20.956355300Z"
    }
   },
   "id": "5655544619d8b617",
   "execution_count": 10
  },
  {
   "cell_type": "code",
   "outputs": [],
   "source": [],
   "metadata": {
    "collapsed": false,
    "ExecuteTime": {
     "end_time": "2024-07-09T07:24:02.181239300Z",
     "start_time": "2024-07-09T07:23:55.749394300Z"
    }
   },
   "id": "da78e7a6edb6be6b",
   "execution_count": 121
  },
  {
   "cell_type": "code",
   "outputs": [],
   "source": [],
   "metadata": {
    "collapsed": false
   },
   "id": "3a97504fc0e04586"
  }
 ],
 "metadata": {
  "kernelspec": {
   "display_name": "Python 3",
   "language": "python",
   "name": "python3"
  },
  "language_info": {
   "codemirror_mode": {
    "name": "ipython",
    "version": 2
   },
   "file_extension": ".py",
   "mimetype": "text/x-python",
   "name": "python",
   "nbconvert_exporter": "python",
   "pygments_lexer": "ipython2",
   "version": "2.7.6"
  }
 },
 "nbformat": 4,
 "nbformat_minor": 5
}

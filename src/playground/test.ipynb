{
 "cells": [
  {
   "cell_type": "code",
   "outputs": [],
   "source": [
    "import tensorflow as tf\n",
    "import tensorflow_datasets as tfds\n",
    "import numpy as np\n",
    "import matplotlib\n",
    "from matplotlib import pyplot as plt\n",
    "matplotlib.use('Qt5Agg') \n",
    "from sklearn.linear_model import RidgeClassifier, LogisticRegression\n",
    "from qutip import *\n",
    "\n",
    "import src.encoding.evolution as evolution\n",
    "import importlib\n",
    "importlib.reload(evolution)\n",
    "from src.encoding.evolution import Evolve\n",
    "from tqdm import tqdm\n",
    "from src.helper_functions import *"
   ],
   "metadata": {
    "collapsed": false,
    "ExecuteTime": {
     "end_time": "2024-05-30T06:49:00.013615700Z",
     "start_time": "2024-05-30T06:49:00.000127600Z"
    }
   },
   "id": "c47ce878c3f286e3",
   "execution_count": 38
  },
  {
   "cell_type": "code",
   "outputs": [
    {
     "data": {
      "text/plain": "1.0"
     },
     "execution_count": 35,
     "metadata": {},
     "output_type": "execute_result"
    }
   ],
   "source": [
    "\n",
    "fidelity(thermal_dm(10,0), fock_dm(10,0))"
   ],
   "metadata": {
    "collapsed": false,
    "ExecuteTime": {
     "end_time": "2024-05-30T06:38:46.351911400Z",
     "start_time": "2024-05-30T06:38:46.339990800Z"
    }
   },
   "id": "35fc7bb0946cd596",
   "execution_count": 35
  },
  {
   "cell_type": "code",
   "outputs": [],
   "source": [
    "def vectorize(y):\n",
    "    I = np.eye(10)\n",
    "    arr = []\n",
    "    for i in y: arr.append(I[i])\n",
    "    return np.column_stack(arr)\n",
    "def lreg(X, y):\n",
    "    x = X.T\n",
    "    X1 = np.vstack((np.ones(len(x[0])), x))\n",
    "    cM = vectorize(y)@np.linalg.pinv(X1)\n",
    "    c = cM[:, 0]\n",
    "    c = c[..., None]\n",
    "    M = cM[:, 1:]\n",
    "    return M, c\n",
    "\n"
   ],
   "metadata": {
    "collapsed": false
   },
   "id": "ddd5989811990a9c",
   "execution_count": null
  },
  {
   "cell_type": "code",
   "outputs": [],
   "source": [
    "(ds_train, ds_test), ds_info = tfds.load(\n",
    "    'mnist',\n",
    "    split=['train', 'test'],\n",
    "    shuffle_files=True,\n",
    "    as_supervised=True,\n",
    "    with_info=True,\n",
    ")\n"
   ],
   "metadata": {
    "collapsed": false,
    "ExecuteTime": {
     "end_time": "2024-05-30T02:30:11.791022300Z",
     "start_time": "2024-05-30T02:30:11.600171400Z"
    }
   },
   "id": "6ef3a849b6b92987",
   "execution_count": 3
  },
  {
   "cell_type": "code",
   "outputs": [],
   "source": [
    "def reshape(image, label):\n",
    "    #image = tf.image.resize(image, [n, n], method='gaussian', antialias=True)\n",
    "    image = tf.cast(image, tf.float32) / 255\n",
    "    return tf.reshape(image, [-1]), label\n",
    "\n",
    "\n",
    "ds_train = ds_train.map(reshape, num_parallel_calls=tf.data.AUTOTUNE)\n",
    "ds_test = ds_test.map(reshape, num_parallel_calls=tf.data.AUTOTUNE)"
   ],
   "metadata": {
    "collapsed": false,
    "ExecuteTime": {
     "end_time": "2024-05-30T02:30:22.043898600Z",
     "start_time": "2024-05-30T02:30:21.995139500Z"
    }
   },
   "id": "832db3be7b35f43d",
   "execution_count": 4
  },
  {
   "cell_type": "code",
   "outputs": [],
   "source": [
    "trainx = []\n",
    "trainy= []\n",
    "testx = []\n",
    "testy = []\n",
    "for i, l in ds_train.take(60000):\n",
    "    trainx.append(i.numpy())\n",
    "    trainy.append(l.numpy())\n",
    "for i, l in ds_test.take(10000):\n",
    "    testx.append(i.numpy())\n",
    "    testy.append(l.numpy())"
   ],
   "metadata": {
    "collapsed": false,
    "ExecuteTime": {
     "end_time": "2024-05-30T02:30:41.998530400Z",
     "start_time": "2024-05-30T02:30:24.333204700Z"
    }
   },
   "id": "6760e1cc28a2c13f",
   "execution_count": 5
  },
  {
   "cell_type": "code",
   "outputs": [],
   "source": [
    "trainx = np.array(trainx)\n",
    "trainy = np.array(trainy)\n",
    "testx = np.array(testx)\n",
    "testy = np.array(testy)"
   ],
   "metadata": {
    "collapsed": false,
    "ExecuteTime": {
     "end_time": "2024-05-30T02:30:45.923004100Z",
     "start_time": "2024-05-30T02:30:45.888470Z"
    }
   },
   "id": "9a558e237101ea8f",
   "execution_count": 7
  },
  {
   "cell_type": "code",
   "outputs": [],
   "source": [
    "from sklearn.decomposition import PCA\n",
    "pca = PCA(16)\n",
    "x_pca = pca.fit_transform(np.vstack((trainx, testx)))"
   ],
   "metadata": {
    "collapsed": false,
    "ExecuteTime": {
     "end_time": "2024-05-30T02:30:47.393058400Z",
     "start_time": "2024-05-30T02:30:46.566164300Z"
    }
   },
   "id": "cd037d212fc33a0",
   "execution_count": 8
  },
  {
   "cell_type": "code",
   "outputs": [],
   "source": [
    "from sklearn.preprocessing import normalize\n",
    "x_pca = normalize(x_pca)"
   ],
   "metadata": {
    "collapsed": false,
    "ExecuteTime": {
     "end_time": "2024-05-30T02:30:47.402933500Z",
     "start_time": "2024-05-30T02:30:47.398056500Z"
    }
   },
   "id": "8c8d0273b9cbbae4",
   "execution_count": 9
  },
  {
   "cell_type": "code",
   "outputs": [],
   "source": [
    "testx_pca = x_pca[60000:, :]\n",
    "trainx_pca = x_pca[:60000, :]"
   ],
   "metadata": {
    "collapsed": false,
    "ExecuteTime": {
     "end_time": "2024-05-30T02:30:47.476798300Z",
     "start_time": "2024-05-30T02:30:47.469790400Z"
    }
   },
   "id": "e210e9db56400cfc",
   "execution_count": 10
  },
  {
   "cell_type": "markdown",
   "source": [],
   "metadata": {
    "collapsed": false
   },
   "id": "ca90fdd367e3cd8f"
  },
  {
   "cell_type": "code",
   "outputs": [],
   "source": [
    "import src.encoding.evolution as evolution\n",
    "import importlib\n",
    "importlib.reload(evolution)\n",
    "from src.encoding.evolution import Evolve"
   ],
   "metadata": {
    "collapsed": false,
    "ExecuteTime": {
     "end_time": "2024-05-30T07:42:43.132283700Z",
     "start_time": "2024-05-30T07:42:43.122721400Z"
    }
   },
   "id": "7ce3b9ebfa63de11",
   "execution_count": 99
  },
  {
   "cell_type": "code",
   "outputs": [
    {
     "ename": "KeyboardInterrupt",
     "evalue": "",
     "output_type": "error",
     "traceback": [
      "\u001B[1;31m---------------------------------------------------------------------------\u001B[0m",
      "\u001B[1;31mKeyboardInterrupt\u001B[0m                         Traceback (most recent call last)",
      "Cell \u001B[1;32mIn[59], line 17\u001B[0m\n\u001B[0;32m     15\u001B[0m     plt\u001B[38;5;241m.\u001B[39mplot(\u001B[38;5;28mlist\u001B[39m(\u001B[38;5;28mrange\u001B[39m(xaxis)), photons)\n\u001B[0;32m     16\u001B[0m plt\u001B[38;5;241m.\u001B[39mlegend([\u001B[38;5;124mf\u001B[39m\u001B[38;5;124m\"\u001B[39m\u001B[38;5;124mt = \u001B[39m\u001B[38;5;132;01m{\u001B[39;00mnp\u001B[38;5;241m.\u001B[39mround(k,\u001B[38;5;241m2\u001B[39m)\u001B[38;5;132;01m}\u001B[39;00m\u001B[38;5;124me-6\u001B[39m\u001B[38;5;124m\"\u001B[39m \u001B[38;5;28;01mfor\u001B[39;00m k \u001B[38;5;129;01min\u001B[39;00m np\u001B[38;5;241m.\u001B[39mlinspace(\u001B[38;5;241m0\u001B[39m,tt,splits\u001B[38;5;241m+\u001B[39m\u001B[38;5;241m1\u001B[39m)[\u001B[38;5;241m1\u001B[39m:]])\n\u001B[1;32m---> 17\u001B[0m \u001B[43mplt\u001B[49m\u001B[38;5;241;43m.\u001B[39;49m\u001B[43mshow\u001B[49m\u001B[43m(\u001B[49m\u001B[43m)\u001B[49m\n",
      "File \u001B[1;32m~\\PycharmProjects\\qced-encoding\\.venv2\\Lib\\site-packages\\matplotlib\\pyplot.py:527\u001B[0m, in \u001B[0;36mshow\u001B[1;34m(*args, **kwargs)\u001B[0m\n\u001B[0;32m    483\u001B[0m \u001B[38;5;250m\u001B[39m\u001B[38;5;124;03m\"\"\"\u001B[39;00m\n\u001B[0;32m    484\u001B[0m \u001B[38;5;124;03mDisplay all open figures.\u001B[39;00m\n\u001B[0;32m    485\u001B[0m \n\u001B[1;32m   (...)\u001B[0m\n\u001B[0;32m    524\u001B[0m \u001B[38;5;124;03mexplicitly there.\u001B[39;00m\n\u001B[0;32m    525\u001B[0m \u001B[38;5;124;03m\"\"\"\u001B[39;00m\n\u001B[0;32m    526\u001B[0m _warn_if_gui_out_of_main_thread()\n\u001B[1;32m--> 527\u001B[0m \u001B[38;5;28;01mreturn\u001B[39;00m \u001B[43m_get_backend_mod\u001B[49m\u001B[43m(\u001B[49m\u001B[43m)\u001B[49m\u001B[38;5;241;43m.\u001B[39;49m\u001B[43mshow\u001B[49m\u001B[43m(\u001B[49m\u001B[38;5;241;43m*\u001B[39;49m\u001B[43margs\u001B[49m\u001B[43m,\u001B[49m\u001B[43m \u001B[49m\u001B[38;5;241;43m*\u001B[39;49m\u001B[38;5;241;43m*\u001B[39;49m\u001B[43mkwargs\u001B[49m\u001B[43m)\u001B[49m\n",
      "File \u001B[1;32m~\\PycharmProjects\\qced-encoding\\.venv2\\Lib\\site-packages\\matplotlib\\backend_bases.py:3457\u001B[0m, in \u001B[0;36m_Backend.show\u001B[1;34m(cls, block)\u001B[0m\n\u001B[0;32m   3455\u001B[0m     block \u001B[38;5;241m=\u001B[39m \u001B[38;5;129;01mnot\u001B[39;00m ipython_pylab \u001B[38;5;129;01mand\u001B[39;00m \u001B[38;5;129;01mnot\u001B[39;00m is_interactive()\n\u001B[0;32m   3456\u001B[0m \u001B[38;5;28;01mif\u001B[39;00m block:\n\u001B[1;32m-> 3457\u001B[0m     \u001B[38;5;28;43mcls\u001B[39;49m\u001B[38;5;241;43m.\u001B[39;49m\u001B[43mmainloop\u001B[49m\u001B[43m(\u001B[49m\u001B[43m)\u001B[49m\n",
      "File \u001B[1;32m~\\PycharmProjects\\qced-encoding\\.venv2\\Lib\\site-packages\\matplotlib\\backends\\backend_qt.py:593\u001B[0m, in \u001B[0;36mFigureManagerQT.start_main_loop\u001B[1;34m(cls)\u001B[0m\n\u001B[0;32m    591\u001B[0m qapp \u001B[38;5;241m=\u001B[39m QtWidgets\u001B[38;5;241m.\u001B[39mQApplication\u001B[38;5;241m.\u001B[39minstance()\n\u001B[0;32m    592\u001B[0m \u001B[38;5;28;01mif\u001B[39;00m qapp:\n\u001B[1;32m--> 593\u001B[0m \u001B[43m    \u001B[49m\u001B[38;5;28;43;01mwith\u001B[39;49;00m\u001B[43m \u001B[49m\u001B[43m_maybe_allow_interrupt\u001B[49m\u001B[43m(\u001B[49m\u001B[43mqapp\u001B[49m\u001B[43m)\u001B[49m\u001B[43m:\u001B[49m\n\u001B[0;32m    594\u001B[0m \u001B[43m        \u001B[49m\u001B[43mqt_compat\u001B[49m\u001B[38;5;241;43m.\u001B[39;49m\u001B[43m_exec\u001B[49m\u001B[43m(\u001B[49m\u001B[43mqapp\u001B[49m\u001B[43m)\u001B[49m\n",
      "File \u001B[1;32m~\\AppData\\Local\\Programs\\Python\\Python311\\Lib\\contextlib.py:144\u001B[0m, in \u001B[0;36m_GeneratorContextManager.__exit__\u001B[1;34m(self, typ, value, traceback)\u001B[0m\n\u001B[0;32m    142\u001B[0m \u001B[38;5;28;01mif\u001B[39;00m typ \u001B[38;5;129;01mis\u001B[39;00m \u001B[38;5;28;01mNone\u001B[39;00m:\n\u001B[0;32m    143\u001B[0m     \u001B[38;5;28;01mtry\u001B[39;00m:\n\u001B[1;32m--> 144\u001B[0m         \u001B[38;5;28mnext\u001B[39m(\u001B[38;5;28mself\u001B[39m\u001B[38;5;241m.\u001B[39mgen)\n\u001B[0;32m    145\u001B[0m     \u001B[38;5;28;01mexcept\u001B[39;00m \u001B[38;5;167;01mStopIteration\u001B[39;00m:\n\u001B[0;32m    146\u001B[0m         \u001B[38;5;28;01mreturn\u001B[39;00m \u001B[38;5;28;01mFalse\u001B[39;00m\n",
      "File \u001B[1;32m~\\PycharmProjects\\qced-encoding\\.venv2\\Lib\\site-packages\\matplotlib\\backends\\qt_compat.py:230\u001B[0m, in \u001B[0;36m_maybe_allow_interrupt\u001B[1;34m(qapp)\u001B[0m\n\u001B[0;32m    228\u001B[0m signal\u001B[38;5;241m.\u001B[39msignal(signal\u001B[38;5;241m.\u001B[39mSIGINT, old_sigint_handler)\n\u001B[0;32m    229\u001B[0m \u001B[38;5;28;01mif\u001B[39;00m handler_args \u001B[38;5;129;01mis\u001B[39;00m \u001B[38;5;129;01mnot\u001B[39;00m \u001B[38;5;28;01mNone\u001B[39;00m:\n\u001B[1;32m--> 230\u001B[0m     \u001B[43mold_sigint_handler\u001B[49m\u001B[43m(\u001B[49m\u001B[38;5;241;43m*\u001B[39;49m\u001B[43mhandler_args\u001B[49m\u001B[43m)\u001B[49m\n",
      "\u001B[1;31mKeyboardInterrupt\u001B[0m: "
     ]
    }
   ],
   "source": [
    "img = trainx_pca[12199]\n",
    "splits = 10\n",
    "x = .175e6\n",
    "tt = 18\n",
    "cdim = 30\n",
    "xaxis = 20\n",
    "e = Evolve(img, measurement='pns trace', cdim=cdim, dm=10, t_total=tt*1e-6, anharm=False, c_ops=True,\n",
    "                      ffilter=False, intervals=splits, nsteps=5000, pc_imag=x, pq_imag=x)\n",
    "e.vector('2qubit')\n",
    "\n",
    "rhos = e.rho_test()\n",
    "for rho in rhos:\n",
    "    rho = rho.ptrace(1)\n",
    "    photons =[(fock_dm(cdim, i)*rho).tr() for i in range(xaxis)]\n",
    "    \n",
    "    plt.plot(list(range(xaxis)), photons)\n",
    "plt.legend([f\"t = {np.round(k,2)}e-6\" for k in np.linspace(0,tt,splits+1)[1:]])\n",
    "plt.show()"
   ],
   "metadata": {
    "collapsed": false,
    "ExecuteTime": {
     "end_time": "2024-05-30T06:59:43.380791100Z",
     "start_time": "2024-05-30T06:58:58.217160100Z"
    }
   },
   "id": "615199711e118f0b",
   "execution_count": 59
  },
  {
   "cell_type": "code",
   "outputs": [],
   "source": [
    "import src.encoding.evolution as evolution\n",
    "import importlib\n",
    "importlib.reload(evolution)\n",
    "from src.encoding.evolution import Evolve"
   ],
   "metadata": {
    "collapsed": false,
    "ExecuteTime": {
     "end_time": "2024-05-30T07:54:02.421700200Z",
     "start_time": "2024-05-30T07:54:02.401873Z"
    }
   },
   "id": "42f033c67b766b91",
   "execution_count": 126
  },
  {
   "cell_type": "code",
   "outputs": [],
   "source": [
    "img = trainx_pca[12119]\n",
    "splits = 3\n",
    "x = .175e6\n",
    "tt = 18\n",
    "cdim = 13\n",
    "e = Evolve(img, measurement='pns trace', cdim=cdim, dm=10, t_total=tt*1e-6, anharm=False, c_ops=True,\n",
    "                      ffilter=False, intervals=splits, nsteps=5000, pc_imag=x, pq_imag=x)\n",
    "r1 = np.array(e.vector('2qubit'))\n",
    "e = Evolve(img, measurement='pns', cdim=cdim, dm=10, t_total=tt*1e-6, anharm=False, c_ops=True,\n",
    "                      ffilter=False, intervals=splits, nsteps=5000, pc_imag=x, pq_imag=x)\n",
    "r2 = np.array(e.vector('2qubit'))\n"
   ],
   "metadata": {
    "collapsed": false,
    "ExecuteTime": {
     "end_time": "2024-05-30T07:56:12.313575300Z",
     "start_time": "2024-05-30T07:55:55.861581500Z"
    }
   },
   "id": "fcde64a7f96852e7",
   "execution_count": 131
  },
  {
   "cell_type": "code",
   "outputs": [],
   "source": [
    "plt.plot(r1)\n",
    "plt.plot(r2)\n",
    "plt.show()"
   ],
   "metadata": {
    "collapsed": false,
    "ExecuteTime": {
     "end_time": "2024-05-30T07:56:21.347394600Z",
     "start_time": "2024-05-30T07:56:18.027291700Z"
    }
   },
   "id": "e0e030f748661f5",
   "execution_count": 132
  },
  {
   "cell_type": "code",
   "outputs": [
    {
     "data": {
      "text/plain": "-0.0002010437140480386"
     },
     "execution_count": 133,
     "metadata": {},
     "output_type": "execute_result"
    }
   ],
   "source": [
    "np.mean(r1-r2)"
   ],
   "metadata": {
    "collapsed": false,
    "ExecuteTime": {
     "end_time": "2024-05-30T07:56:23.106046700Z",
     "start_time": "2024-05-30T07:56:23.100026800Z"
    }
   },
   "id": "4c5b52e979d41b5d",
   "execution_count": 133
  },
  {
   "cell_type": "code",
   "outputs": [
    {
     "data": {
      "text/plain": "6.37560669337563e-05"
     },
     "execution_count": 134,
     "metadata": {},
     "output_type": "execute_result"
    }
   ],
   "source": [
    "np.std(r1-r2)"
   ],
   "metadata": {
    "collapsed": false,
    "ExecuteTime": {
     "end_time": "2024-05-30T07:56:23.854878100Z",
     "start_time": "2024-05-30T07:56:23.848347300Z"
    }
   },
   "id": "fe7064ecbcbd76a4",
   "execution_count": 134
  },
  {
   "cell_type": "code",
   "outputs": [],
   "source": [],
   "metadata": {
    "collapsed": false
   },
   "id": "bbc8e5fc7f10a3a0"
  },
  {
   "cell_type": "code",
   "outputs": [],
   "source": [
    "\n",
    "fig, axes = plt.subplots(3, 3, figsize=(7, 7))\n",
    "\n",
    "axes = np.array(axes).reshape(-1)\n",
    "for i in range(9):\n",
    "    pixels = trainx[i].reshape(28,28)\n",
    "    axes[i].imshow(pixels, cmap='gray')\n",
    "    axes[i].set_title(f\"{trainy[i]}\")\n",
    "    axes[i].axis('off')"
   ],
   "metadata": {
    "collapsed": false
   },
   "id": "e6c670b1debcaf79",
   "execution_count": 0
  },
  {
   "cell_type": "code",
   "outputs": [],
   "source": [
    "from sklearn.linear_model import RidgeClassifier, LogisticRegression\n",
    "clf = RidgeClassifier(alpha=0)\n",
    "clf.fit(trainx_pca, trainy)\n",
    "clf.score(testx_pca, testy)"
   ],
   "metadata": {
    "collapsed": false
   },
   "id": "2120c6ac43884137",
   "execution_count": null
  },
  {
   "cell_type": "code",
   "outputs": [],
   "source": [
    "train_noise = np.random.normal(0, 1e-3, size=trainx_pca.shape)\n",
    "test_noise = np.random.normal(0, 1e-3, size=testx_pca.shape)\n",
    "clf = LogisticRegression(max_iter=1000)\n",
    "clf.fit(trainx_pca + train_noise, trainy)\n",
    "clf.score(testx_pca + test_noise, testy)"
   ],
   "metadata": {
    "collapsed": false
   },
   "id": "54b8d32b0aa4f87e",
   "execution_count": null
  },
  {
   "cell_type": "code",
   "outputs": [],
   "source": [
    "M, C = lreg(trainx_pca, trainy)\n",
    "M"
   ],
   "metadata": {
    "collapsed": false
   },
   "id": "14a74eba65542df6",
   "execution_count": null
  },
  {
   "cell_type": "code",
   "outputs": [],
   "source": [
    "fig, axes = plt.subplots(3, 3, figsize=(5, 5))\n",
    "\n",
    "axes = np.array(axes).reshape(-1)\n",
    "for i in range(9):\n",
    "    pixels = trainx_pca[i].reshape(4,4)\n",
    "    axes[i].imshow(pixels, cmap='gray')\n",
    "    axes[i].set_title(f\"{trainy[i]}\")\n",
    "    axes[i].axis('off')\n",
    "plt.show()"
   ],
   "metadata": {
    "collapsed": false
   },
   "id": "ea469933c5ca6f4f",
   "execution_count": null
  },
  {
   "cell_type": "code",
   "outputs": [],
   "source": [
    "from scipy.fftpack import rfft, irfft, fftfreq\n",
    "def freq_filter(signal):\n",
    "    signal = np.repeat(signal,100)\n",
    "    #signal = np.pad(signal, (5, 5), 'constant')\n",
    "    W = fftfreq(signal.size, d=0.001)\n",
    "    f_signal = rfft(signal)\n",
    "    cut_f_signal = f_signal.copy()\n",
    "    cut_f_signal[(abs(W) > 12)] = 0\n",
    "    cut_signal = irfft(cut_f_signal)\n",
    "    return cut_signal"
   ],
   "metadata": {
    "collapsed": false
   },
   "id": "d1138b4aada310d5",
   "execution_count": null
  },
  {
   "cell_type": "code",
   "outputs": [],
   "source": [
    "plt.plot(freq_filter(list(trainx_pca[3])), color='r')\n",
    "plt.ylim(-1,1)\n",
    "plt.show()"
   ],
   "metadata": {
    "collapsed": false
   },
   "id": "eae018cf67ef3ae7",
   "execution_count": null
  },
  {
   "cell_type": "code",
   "outputs": [],
   "source": [
    "trainx_pca[3][1]"
   ],
   "metadata": {
    "collapsed": false
   },
   "id": "5de186d7d1882516",
   "execution_count": null
  },
  {
   "cell_type": "code",
   "outputs": [],
   "source": [],
   "metadata": {
    "collapsed": false
   },
   "id": "a70aeebc23b9bc92"
  }
 ],
 "metadata": {
  "kernelspec": {
   "display_name": "Python 3",
   "language": "python",
   "name": "python3"
  },
  "language_info": {
   "codemirror_mode": {
    "name": "ipython",
    "version": 2
   },
   "file_extension": ".py",
   "mimetype": "text/x-python",
   "name": "python",
   "nbconvert_exporter": "python",
   "pygments_lexer": "ipython2",
   "version": "2.7.6"
  }
 },
 "nbformat": 4,
 "nbformat_minor": 5
}

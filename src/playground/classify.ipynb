{
 "cells": [
  {
   "cell_type": "code",
   "outputs": [],
   "source": [
    "import dynamiqs as dq\n",
    "import jax.numpy as jnp\n",
    "from qutip import Qobj, fidelity, rand_dm, fock_dm\n",
    "import numpy as np\n",
    "import src.TK_basics as tk\n",
    "import src.helper_functions as hf\n",
    "import importlib\n",
    "importlib.reload(tk)\n",
    "importlib.reload(hf)\n",
    "from src.TK_basics import PSD_rho\n",
    "from src.helper_functions import rho2vec, trunc, linspace\n",
    "from sklearn.linear_model import RidgeClassifier, LogisticRegression\n",
    "import time\n",
    "import matplotlib\n",
    "from matplotlib import pyplot as plt\n",
    "matplotlib.use('Qt5Agg') \n",
    "from tqdm import tqdm\n",
    "import pickle\n",
    "from bisect import bisect_left\n",
    "import qutip"
   ],
   "metadata": {
    "collapsed": false,
    "ExecuteTime": {
     "end_time": "2024-08-13T08:35:13.899694600Z",
     "start_time": "2024-08-13T08:35:09.920729500Z"
    }
   },
   "id": "ee7a4ac5605554af",
   "execution_count": 1
  },
  {
   "cell_type": "code",
   "outputs": [],
   "source": [
    "import src.encoding.classify_sim as csim\n",
    "import src.encoding.classify_exp as cexp\n",
    "import importlib\n",
    "importlib.reload(csim)\n",
    "importlib.reload(cexp)\n",
    "from src.encoding.classify_sim import ClassifySim\n",
    "from src.encoding.classify_exp import ClassifyExp"
   ],
   "metadata": {
    "collapsed": false,
    "ExecuteTime": {
     "end_time": "2024-08-13T08:35:13.973958300Z",
     "start_time": "2024-08-13T08:35:13.900767200Z"
    }
   },
   "id": "74aa76c0e2f148c9",
   "execution_count": 2
  },
  {
   "cell_type": "markdown",
   "source": [
    "# Simulation of 4000 training images and 1000 testing images"
   ],
   "metadata": {
    "collapsed": false
   },
   "id": "10bc17e42a92401"
  },
  {
   "cell_type": "code",
   "outputs": [
    {
     "name": "stderr",
     "output_type": "stream",
     "text": [
      "|██████████| 100.0% ◆ total 04:41 ◆ remaining 00:00\n"
     ]
    }
   ],
   "source": [
    "cs = ClassifySim(compression=16, t_total=17.5, pc_imag=0.175, pq_imag=0.175,\n",
    "                 dm=10, intervals=3).evolve(4000, 1000, c_ops=True, shuffle=True)\n",
    "\n",
    "# compression refers to number of pixels in image\n",
    "# t_total is total time of evolution in microseconds\n",
    "# pc_imag, pq_imag are the (imaginary) qubit and cavity drives\n",
    "# dm is dimensions of hilbert space"
   ],
   "metadata": {
    "collapsed": false,
    "ExecuteTime": {
     "end_time": "2024-08-13T07:55:25.832375200Z",
     "start_time": "2024-08-13T07:50:37.234352600Z"
    }
   },
   "id": "dac04dbc5722c08c",
   "execution_count": 4
  },
  {
   "cell_type": "code",
   "outputs": [
    {
     "data": {
      "text/plain": "<src.encoding.classify_sim.ClassifySim at 0x18f0d965cd0>"
     },
     "execution_count": 7,
     "metadata": {},
     "output_type": "execute_result"
    }
   ],
   "source": [
    "cs.wig(9, scale=1.5, step=0.1) #qutip wigner function for 9 images"
   ],
   "metadata": {
    "collapsed": false,
    "ExecuteTime": {
     "end_time": "2024-08-13T07:56:11.017252400Z",
     "start_time": "2024-08-13T07:56:06.144438800Z"
    }
   },
   "id": "ddb6ceb9d9c827be",
   "execution_count": 7
  },
  {
   "cell_type": "code",
   "outputs": [],
   "source": [
    "# TODO: 12us and 0.26 as drive works"
   ],
   "metadata": {
    "collapsed": false
   },
   "id": "2ff143d2659d7273",
   "execution_count": null
  },
  {
   "cell_type": "code",
   "outputs": [
    {
     "name": "stdout",
     "output_type": "stream",
     "text": [
      "method=obs, init=True:  0.855\n"
     ]
    }
   ],
   "source": [
    "cs.score(\"obs\", init=True)"
   ],
   "metadata": {
    "collapsed": false,
    "ExecuteTime": {
     "end_time": "2024-08-13T07:59:12.981988900Z",
     "start_time": "2024-08-13T07:59:12.923799200Z"
    }
   },
   "id": "38f49d3f05f02e6",
   "execution_count": 13
  },
  {
   "cell_type": "code",
   "outputs": [
    {
     "name": "stdout",
     "output_type": "stream",
     "text": [
      "Applying mle (simulation)...\n"
     ]
    },
    {
     "name": "stderr",
     "output_type": "stream",
     "text": [
      "100%|██████████| 4000/4000 [01:41<00:00, 39.32it/s]\n",
      "100%|██████████| 1000/1000 [00:23<00:00, 43.06it/s]\n"
     ]
    },
    {
     "name": "stdout",
     "output_type": "stream",
     "text": [
      "method=final, init=True:  0.832\n"
     ]
    },
    {
     "data": {
      "text/plain": "<src.encoding.classify_sim.ClassifySim at 0x18f0d965cd0>"
     },
     "execution_count": 15,
     "metadata": {},
     "output_type": "execute_result"
    }
   ],
   "source": [
    "cs.mle().score(\"final\", init=True)"
   ],
   "metadata": {
    "collapsed": false,
    "ExecuteTime": {
     "end_time": "2024-08-13T08:02:06.683284500Z",
     "start_time": "2024-08-13T08:00:01.306904400Z"
    }
   },
   "id": "f09819f1407c61ba",
   "execution_count": 15
  },
  {
   "cell_type": "code",
   "outputs": [
    {
     "name": "stdout",
     "output_type": "stream",
     "text": [
      "Evolving states (simulation)...\n"
     ]
    },
    {
     "name": "stderr",
     "output_type": "stream",
     "text": [
      "|██████████| 100.0% ◆ total 00:32 ◆ remaining 00:00\n"
     ]
    },
    {
     "name": "stdout",
     "output_type": "stream",
     "text": [
      "method=obs, init=False:  0.844\n"
     ]
    }
   ],
   "source": [
    "c2 = ClassifySim(compression=16, t_total=17.5, pc_real=0, pc_imag=0.175, pq_real=0, pq_imag=0.175,\n",
    "             cdim=15, dm=10, intervals=3).evolve(4000,1000, shuffle=True\n",
    "             ).addError(10000).score(\"obs\", init=False, rscore=False)"
   ],
   "metadata": {
    "collapsed": false,
    "ExecuteTime": {
     "end_time": "2024-08-13T08:35:56.349198700Z",
     "start_time": "2024-08-13T08:35:13.976025900Z"
    }
   },
   "id": "ff3db8491f277fac",
   "execution_count": 3
  },
  {
   "cell_type": "code",
   "outputs": [
    {
     "name": "stdout",
     "output_type": "stream",
     "text": [
      "Applying mle (simulation)...\n"
     ]
    },
    {
     "name": "stderr",
     "output_type": "stream",
     "text": [
      " 71%|███████   | 2830/4000 [03:02<01:37, 11.98it/s]"
     ]
    }
   ],
   "source": [
    "c2.mle().score(\"final\", init=False)"
   ],
   "metadata": {
    "collapsed": false,
    "is_executing": true,
    "ExecuteTime": {
     "start_time": "2024-08-13T08:35:56.350294800Z"
    }
   },
   "id": "d76b643e1680aa05",
   "execution_count": null
  },
  {
   "cell_type": "code",
   "outputs": [],
   "source": [
    "c2.score(\"final\", init=True)"
   ],
   "metadata": {
    "collapsed": false,
    "is_executing": true
   },
   "id": "bd55e33eb8b1bfe3",
   "execution_count": null
  },
  {
   "cell_type": "markdown",
   "source": [
    "# FOR EXPERIMENT"
   ],
   "metadata": {
    "collapsed": false
   },
   "id": "3a3e1da76e0bf510"
  },
  {
   "cell_type": "code",
   "outputs": [],
   "source": [
    "import src.encoding.classify_sim as csim\n",
    "import src.encoding.classify_exp as cexp\n",
    "import importlib\n",
    "importlib.reload(csim)\n",
    "importlib.reload(cexp)\n",
    "from src.encoding.classify_sim import ClassifySim\n",
    "from src.encoding.classify_exp import ClassifyExp"
   ],
   "metadata": {
    "collapsed": false,
    "ExecuteTime": {
     "end_time": "2024-08-13T08:26:43.592402500Z",
     "start_time": "2024-08-13T08:26:43.551572700Z"
    }
   },
   "id": "7d3faca6237109bf",
   "execution_count": 17
  },
  {
   "cell_type": "code",
   "outputs": [],
   "source": [
    "ce = ClassifyExp().setData(4000, 1000)"
   ],
   "metadata": {
    "collapsed": false,
    "ExecuteTime": {
     "end_time": "2024-08-13T08:26:44.245873300Z",
     "start_time": "2024-08-13T08:26:44.190473800Z"
    }
   },
   "id": "89a12d7402e7c8d7",
   "execution_count": 18
  },
  {
   "cell_type": "code",
   "outputs": [],
   "source": [
    "ced = ce.getDrives()"
   ],
   "metadata": {
    "collapsed": false
   },
   "id": "bcba016e1735e7d7",
   "execution_count": null
  },
  {
   "cell_type": "code",
   "outputs": [],
   "source": [
    "'''GENERATING NPZ FILES FOR EXPERIMENT'''\n",
    "for i in range(len(ced[0])):\n",
    "    dt=1\n",
    "    QubitI, QubitQ, CavityI, CavityQ = ced[0][i]\n",
    "    np.savez(f\"..\\\\..\\\\data\\\\exp_data\\\\drives\\\\train\\\\train{i}\", dt=dt, CavityQ=CavityQ, CavityI=CavityI, QubitQ=QubitQ, QubitI=QubitI)\n",
    "'''GENERATING NPZ FILES FOR EXPERIMENT'''\n",
    "for i in range(len(ced[1])):\n",
    "    dt=1\n",
    "    QubitI, QubitQ, CavityI, CavityQ = ced[1][i]\n",
    "    np.savez(f\"..\\\\..\\\\data\\\\exp_data\\\\drives\\\\test\\\\test{i}\", dt=dt, CavityQ=CavityQ, CavityI=CavityI, QubitQ=QubitQ, QubitI=QubitI)"
   ],
   "metadata": {
    "collapsed": false
   },
   "id": "48cef1328724d839",
   "execution_count": null
  },
  {
   "cell_type": "code",
   "outputs": [
    {
     "name": "stdout",
     "output_type": "stream",
     "text": [
      "Appltying mle (experiment)...\n"
     ]
    },
    {
     "name": "stderr",
     "output_type": "stream",
     "text": [
      "100%|██████████| 4000/4000 [01:07<00:00, 59.66it/s]\n",
      "100%|██████████| 1000/1000 [00:17<00:00, 58.60it/s]\n",
      "|███▎      |  33.1% ◆ total 02:50 ◆ remaining 05:03"
     ]
    },
    {
     "ename": "RuntimeError",
     "evalue": "An internal JAX error interrupted the execution, please report this to the dynamiqs developers by opening an issue on GitHub or sending a message on dynamiqs Slack (links available at https://www.dynamiqs.org/getting_started/lets-talk.html).",
     "output_type": "error",
     "traceback": [
      "\u001B[1;31m---------------------------------------------------------------------------\u001B[0m",
      "\u001B[1;31mXlaRuntimeError\u001B[0m                           Traceback (most recent call last)",
      "File \u001B[1;32m~\\PycharmProjects\\qced-encoding\\.venv2\\Lib\\site-packages\\dynamiqs\\core\\_utils.py:40\u001B[0m, in \u001B[0;36mcatch_xla_runtime_error.<locals>.wrapper\u001B[1;34m(*args, **kwargs)\u001B[0m\n\u001B[0;32m     39\u001B[0m \u001B[38;5;28;01mtry\u001B[39;00m:\n\u001B[1;32m---> 40\u001B[0m     \u001B[38;5;28;01mreturn\u001B[39;00m \u001B[43mfunc\u001B[49m\u001B[43m(\u001B[49m\u001B[38;5;241;43m*\u001B[39;49m\u001B[43margs\u001B[49m\u001B[43m,\u001B[49m\u001B[43m \u001B[49m\u001B[38;5;241;43m*\u001B[39;49m\u001B[38;5;241;43m*\u001B[39;49m\u001B[43mkwargs\u001B[49m\u001B[43m)\u001B[49m\n\u001B[0;32m     41\u001B[0m \u001B[38;5;28;01mexcept\u001B[39;00m xla_client\u001B[38;5;241m.\u001B[39mXlaRuntimeError \u001B[38;5;28;01mas\u001B[39;00m e:\n\u001B[0;32m     42\u001B[0m     \u001B[38;5;66;03m# === `max_steps` reached error\u001B[39;00m\n",
      "    \u001B[1;31m[... skipping hidden 10 frame]\u001B[0m\n",
      "File \u001B[1;32m~\\PycharmProjects\\qced-encoding\\.venv2\\Lib\\site-packages\\jax\\_src\\interpreters\\pxla.py:1177\u001B[0m, in \u001B[0;36mExecuteReplicated.__call__\u001B[1;34m(self, *args)\u001B[0m\n\u001B[0;32m   1176\u001B[0m input_bufs \u001B[38;5;241m=\u001B[39m \u001B[38;5;28mself\u001B[39m\u001B[38;5;241m.\u001B[39m_add_tokens_to_inputs(input_bufs)\n\u001B[1;32m-> 1177\u001B[0m results \u001B[38;5;241m=\u001B[39m \u001B[38;5;28;43mself\u001B[39;49m\u001B[38;5;241;43m.\u001B[39;49m\u001B[43mxla_executable\u001B[49m\u001B[38;5;241;43m.\u001B[39;49m\u001B[43mexecute_sharded\u001B[49m\u001B[43m(\u001B[49m\n\u001B[0;32m   1178\u001B[0m \u001B[43m    \u001B[49m\u001B[43minput_bufs\u001B[49m\u001B[43m,\u001B[49m\u001B[43m \u001B[49m\u001B[43mwith_tokens\u001B[49m\u001B[38;5;241;43m=\u001B[39;49m\u001B[38;5;28;43;01mTrue\u001B[39;49;00m\n\u001B[0;32m   1179\u001B[0m \u001B[43m\u001B[49m\u001B[43m)\u001B[49m\n\u001B[0;32m   1180\u001B[0m result_token_bufs \u001B[38;5;241m=\u001B[39m results\u001B[38;5;241m.\u001B[39mdisassemble_prefix_into_single_device_arrays(\n\u001B[0;32m   1181\u001B[0m     \u001B[38;5;28mlen\u001B[39m(\u001B[38;5;28mself\u001B[39m\u001B[38;5;241m.\u001B[39mordered_effects))\n",
      "\u001B[1;31mXlaRuntimeError\u001B[0m: INTERNAL: Generated function failed: CpuCallback error: Traceback (most recent call last):\n  File \"<frozen runpy>\", line 198, in _run_module_as_main\n  File \"<frozen runpy>\", line 88, in _run_code\n  File \"C:\\Users\\phant\\PycharmProjects\\qced-encoding\\.venv2\\Lib\\site-packages\\ipykernel_launcher.py\", line 18, in <module>\n  File \"C:\\Users\\phant\\PycharmProjects\\qced-encoding\\.venv2\\Lib\\site-packages\\traitlets\\config\\application.py\", line 1075, in launch_instance\n  File \"C:\\Users\\phant\\PycharmProjects\\qced-encoding\\.venv2\\Lib\\site-packages\\ipykernel\\kernelapp.py\", line 739, in start\n  File \"C:\\Users\\phant\\PycharmProjects\\qced-encoding\\.venv2\\Lib\\site-packages\\tornado\\platform\\asyncio.py\", line 205, in start\n  File \"C:\\Users\\phant\\AppData\\Local\\Programs\\Python\\Python311\\Lib\\asyncio\\base_events.py\", line 608, in run_forever\n  File \"C:\\Users\\phant\\AppData\\Local\\Programs\\Python\\Python311\\Lib\\asyncio\\base_events.py\", line 1936, in _run_once\n  File \"C:\\Users\\phant\\AppData\\Local\\Programs\\Python\\Python311\\Lib\\asyncio\\events.py\", line 84, in _run\n  File \"C:\\Users\\phant\\PycharmProjects\\qced-encoding\\.venv2\\Lib\\site-packages\\ipykernel\\kernelbase.py\", line 545, in dispatch_queue\n  File \"C:\\Users\\phant\\PycharmProjects\\qced-encoding\\.venv2\\Lib\\site-packages\\ipykernel\\kernelbase.py\", line 534, in process_one\n  File \"C:\\Users\\phant\\PycharmProjects\\qced-encoding\\.venv2\\Lib\\site-packages\\ipykernel\\kernelbase.py\", line 437, in dispatch_shell\n  File \"C:\\Users\\phant\\PycharmProjects\\qced-encoding\\.venv2\\Lib\\site-packages\\ipykernel\\ipkernel.py\", line 359, in execute_request\n  File \"C:\\Users\\phant\\PycharmProjects\\qced-encoding\\.venv2\\Lib\\site-packages\\ipykernel\\kernelbase.py\", line 778, in execute_request\n  File \"C:\\Users\\phant\\PycharmProjects\\qced-encoding\\.venv2\\Lib\\site-packages\\ipykernel\\ipkernel.py\", line 446, in do_execute\n  File \"C:\\Users\\phant\\PycharmProjects\\qced-encoding\\.venv2\\Lib\\site-packages\\ipykernel\\zmqshell.py\", line 549, in run_cell\n  File \"C:\\Users\\phant\\PycharmProjects\\qced-encoding\\.venv2\\Lib\\site-packages\\IPython\\core\\interactiveshell.py\", line 3075, in run_cell\n  File \"C:\\Users\\phant\\PycharmProjects\\qced-encoding\\.venv2\\Lib\\site-packages\\IPython\\core\\interactiveshell.py\", line 3130, in _run_cell\n  File \"C:\\Users\\phant\\PycharmProjects\\qced-encoding\\.venv2\\Lib\\site-packages\\IPython\\core\\async_helpers.py\", line 129, in _pseudo_sync_runner\n  File \"C:\\Users\\phant\\PycharmProjects\\qced-encoding\\.venv2\\Lib\\site-packages\\IPython\\core\\interactiveshell.py\", line 3334, in run_cell_async\n  File \"C:\\Users\\phant\\PycharmProjects\\qced-encoding\\.venv2\\Lib\\site-packages\\IPython\\core\\interactiveshell.py\", line 3517, in run_ast_nodes\n  File \"C:\\Users\\phant\\PycharmProjects\\qced-encoding\\.venv2\\Lib\\site-packages\\IPython\\core\\interactiveshell.py\", line 3577, in run_code\n  File \"C:\\Users\\phant\\AppData\\Local\\Temp\\ipykernel_18180\\2442092516.py\", line 1, in <module>\n  File \"C:\\Users\\phant\\PycharmProjects\\qced-encoding\\src\\encoding\\classify_exp.py\", line 192, in getFidelity\n  File \"C:\\Users\\phant\\PycharmProjects\\qced-encoding\\src\\encoding\\classify_sim.py\", line 170, in evolve\n  File \"C:\\Users\\phant\\PycharmProjects\\qced-encoding\\.venv2\\Lib\\site-packages\\dynamiqs\\mesolve\\mesolve.py\", line 117, in mesolve\n  File \"C:\\Users\\phant\\PycharmProjects\\qced-encoding\\.venv2\\Lib\\site-packages\\dynamiqs\\core\\_utils.py\", line 40, in wrapper\n  File \"C:\\Users\\phant\\PycharmProjects\\qced-encoding\\.venv2\\Lib\\site-packages\\jax\\_src\\traceback_util.py\", line 179, in reraise_with_filtered_traceback\n  File \"C:\\Users\\phant\\PycharmProjects\\qced-encoding\\.venv2\\Lib\\site-packages\\jax\\_src\\pjit.py\", line 304, in cache_miss\n  File \"C:\\Users\\phant\\PycharmProjects\\qced-encoding\\.venv2\\Lib\\site-packages\\jax\\_src\\pjit.py\", line 181, in _python_pjit_helper\n  File \"C:\\Users\\phant\\PycharmProjects\\qced-encoding\\.venv2\\Lib\\site-packages\\jax\\_src\\core.py\", line 2789, in bind\n  File \"C:\\Users\\phant\\PycharmProjects\\qced-encoding\\.venv2\\Lib\\site-packages\\jax\\_src\\core.py\", line 391, in bind_with_trace\n  File \"C:\\Users\\phant\\PycharmProjects\\qced-encoding\\.venv2\\Lib\\site-packages\\jax\\_src\\core.py\", line 879, in process_primitive\n  File \"C:\\Users\\phant\\PycharmProjects\\qced-encoding\\.venv2\\Lib\\site-packages\\jax\\_src\\pjit.py\", line 1525, in _pjit_call_impl\n  File \"C:\\Users\\phant\\PycharmProjects\\qced-encoding\\.venv2\\Lib\\site-packages\\jax\\_src\\pjit.py\", line 1508, in call_impl_cache_miss\n  File \"C:\\Users\\phant\\PycharmProjects\\qced-encoding\\.venv2\\Lib\\site-packages\\jax\\_src\\pjit.py\", line 1462, in _pjit_call_impl_python\n  File \"C:\\Users\\phant\\PycharmProjects\\qced-encoding\\.venv2\\Lib\\site-packages\\jax\\_src\\profiler.py\", line 335, in wrapper\n  File \"C:\\Users\\phant\\PycharmProjects\\qced-encoding\\.venv2\\Lib\\site-packages\\jax\\_src\\interpreters\\pxla.py\", line 1177, in __call__\n  File \"C:\\Users\\phant\\PycharmProjects\\qced-encoding\\.venv2\\Lib\\site-packages\\jax\\_src\\interpreters\\mlir.py\", line 2482, in _wrapped_callback\nKeyboardInterrupt: ",
      "\nThe above exception was the direct cause of the following exception:\n",
      "\u001B[1;31mRuntimeError\u001B[0m                              Traceback (most recent call last)",
      "Cell \u001B[1;32mIn[19], line 1\u001B[0m\n\u001B[1;32m----> 1\u001B[0m \u001B[43mce\u001B[49m\u001B[38;5;241;43m.\u001B[39;49m\u001B[43msetObs\u001B[49m\u001B[43m(\u001B[49m\u001B[43m)\u001B[49m\u001B[38;5;241;43m.\u001B[39;49m\u001B[43mmle\u001B[49m\u001B[43m(\u001B[49m\u001B[43m)\u001B[49m\u001B[38;5;241;43m.\u001B[39;49m\u001B[43mgetFidelity\u001B[49m\u001B[43m(\u001B[49m\u001B[43m)\u001B[49m\n",
      "File \u001B[1;32m~\\PycharmProjects\\qced-encoding\\src\\encoding\\classify_exp.py:192\u001B[0m, in \u001B[0;36mClassifyExp.getFidelity\u001B[1;34m(self)\u001B[0m\n\u001B[0;32m    190\u001B[0m \u001B[38;5;28;01mdef\u001B[39;00m \u001B[38;5;21mgetFidelity\u001B[39m(\u001B[38;5;28mself\u001B[39m):\n\u001B[0;32m    191\u001B[0m     c \u001B[38;5;241m=\u001B[39m \u001B[43mClassifySim\u001B[49m\u001B[43m(\u001B[49m\u001B[38;5;28;43mself\u001B[39;49m\u001B[38;5;241;43m.\u001B[39;49m\u001B[43mcompression\u001B[49m\u001B[43m,\u001B[49m\u001B[43m \u001B[49m\u001B[38;5;28;43mself\u001B[39;49m\u001B[38;5;241;43m.\u001B[39;49m\u001B[43mt_total\u001B[49m\u001B[43m,\u001B[49m\u001B[43m \u001B[49m\u001B[38;5;28;43mself\u001B[39;49m\u001B[38;5;241;43m.\u001B[39;49m\u001B[43mpc_real\u001B[49m\u001B[43m,\u001B[49m\u001B[43m \u001B[49m\u001B[38;5;28;43mself\u001B[39;49m\u001B[38;5;241;43m.\u001B[39;49m\u001B[43mpc_imag\u001B[49m\u001B[43m,\u001B[49m\u001B[43m \u001B[49m\u001B[38;5;28;43mself\u001B[39;49m\u001B[38;5;241;43m.\u001B[39;49m\u001B[43mpq_real\u001B[49m\u001B[43m,\u001B[49m\u001B[43m \u001B[49m\u001B[38;5;28;43mself\u001B[39;49m\u001B[38;5;241;43m.\u001B[39;49m\u001B[43mpq_imag\u001B[49m\u001B[43m,\u001B[49m\n\u001B[1;32m--> 192\u001B[0m \u001B[43m                    \u001B[49m\u001B[38;5;28;43mself\u001B[39;49m\u001B[38;5;241;43m.\u001B[39;49m\u001B[43mcdim\u001B[49m\u001B[43m,\u001B[49m\u001B[43m \u001B[49m\u001B[38;5;28;43mself\u001B[39;49m\u001B[38;5;241;43m.\u001B[39;49m\u001B[43mdm\u001B[49m\u001B[43m,\u001B[49m\u001B[43m \u001B[49m\u001B[38;5;28;43mself\u001B[39;49m\u001B[38;5;241;43m.\u001B[39;49m\u001B[43mintervals\u001B[49m\u001B[43m)\u001B[49m\u001B[38;5;241;43m.\u001B[39;49m\u001B[43mevolve\u001B[49m\u001B[43m(\u001B[49m\u001B[38;5;28;43mlist\u001B[39;49m\u001B[43m(\u001B[49m\u001B[38;5;28;43mself\u001B[39;49m\u001B[38;5;241;43m.\u001B[39;49m\u001B[43mitems_train\u001B[49m\u001B[43m)\u001B[49m\u001B[43m,\u001B[49m\u001B[43m \u001B[49m\u001B[38;5;28;43mlist\u001B[39;49m\u001B[43m(\u001B[49m\u001B[38;5;28;43mself\u001B[39;49m\u001B[38;5;241;43m.\u001B[39;49m\u001B[43mitems_test\u001B[49m\u001B[43m)\u001B[49m\u001B[43m,\u001B[49m\n\u001B[0;32m    193\u001B[0m \u001B[43m                    \u001B[49m\u001B[43mc_ops\u001B[49m\u001B[38;5;241;43m=\u001B[39;49m\u001B[38;5;28;43;01mTrue\u001B[39;49;00m\u001B[43m)\u001B[49m\u001B[38;5;241m.\u001B[39maddError(\u001B[38;5;241m0\u001B[39m)\u001B[38;5;241m.\u001B[39mmle()\n\u001B[0;32m    194\u001B[0m     \u001B[38;5;28mself\u001B[39m\u001B[38;5;241m.\u001B[39mtrainX_cmp \u001B[38;5;241m=\u001B[39m \u001B[38;5;28mself\u001B[39m\u001B[38;5;241m.\u001B[39m__cmpfidelity(\u001B[38;5;28mself\u001B[39m\u001B[38;5;241m.\u001B[39mtrainX_rhos, c\u001B[38;5;241m.\u001B[39mtrainX_rhos)\n\u001B[0;32m    195\u001B[0m     \u001B[38;5;28mself\u001B[39m\u001B[38;5;241m.\u001B[39mtestX_cmp \u001B[38;5;241m=\u001B[39m \u001B[38;5;28mself\u001B[39m\u001B[38;5;241m.\u001B[39m__cmpfidelity(\u001B[38;5;28mself\u001B[39m\u001B[38;5;241m.\u001B[39mtestX_rhos, c\u001B[38;5;241m.\u001B[39mtestX_rhos)\n",
      "File \u001B[1;32m~\\PycharmProjects\\qced-encoding\\src\\encoding\\classify_sim.py:170\u001B[0m, in \u001B[0;36mClassifySim.evolve\u001B[1;34m(self, trainSize, testSize, c_ops, shuffle)\u001B[0m\n\u001B[0;32m    162\u001B[0m     rho_i \u001B[38;5;241m=\u001B[39m dq\u001B[38;5;241m.\u001B[39mtensor(dq\u001B[38;5;241m.\u001B[39mfock_dm(\u001B[38;5;28mself\u001B[39m\u001B[38;5;241m.\u001B[39mqdim, \u001B[38;5;241m0\u001B[39m), thermal_dq(\u001B[38;5;28mself\u001B[39m\u001B[38;5;241m.\u001B[39mcdim, nbar_cav))\n\u001B[0;32m    164\u001B[0m     jops \u001B[38;5;241m=\u001B[39m [\n\u001B[0;32m    165\u001B[0m         jnp\u001B[38;5;241m.\u001B[39msqrt(\u001B[38;5;241m1\u001B[39m \u001B[38;5;241m/\u001B[39m T1) \u001B[38;5;241m*\u001B[39m q,\n\u001B[0;32m    166\u001B[0m         jnp\u001B[38;5;241m.\u001B[39msqrt(\u001B[38;5;241m2\u001B[39m \u001B[38;5;241m/\u001B[39m Tphi) \u001B[38;5;241m*\u001B[39m qd \u001B[38;5;241m@\u001B[39m q,\n\u001B[0;32m    167\u001B[0m         jnp\u001B[38;5;241m.\u001B[39msqrt((\u001B[38;5;241m1\u001B[39m \u001B[38;5;241m+\u001B[39m nbar_cav) \u001B[38;5;241m/\u001B[39m cavT1) \u001B[38;5;241m*\u001B[39m a,\n\u001B[0;32m    168\u001B[0m         jnp\u001B[38;5;241m.\u001B[39msqrt(nbar_cav \u001B[38;5;241m/\u001B[39m cavT1) \u001B[38;5;241m*\u001B[39m ad,\n\u001B[0;32m    169\u001B[0m     ]\n\u001B[1;32m--> 170\u001B[0m     result \u001B[38;5;241m=\u001B[39m \u001B[43mdq\u001B[49m\u001B[38;5;241;43m.\u001B[39;49m\u001B[43mmesolve\u001B[49m\u001B[43m(\u001B[49m\u001B[43mH\u001B[49m\u001B[43m,\u001B[49m\u001B[43m \u001B[49m\u001B[43mjops\u001B[49m\u001B[43m,\u001B[49m\u001B[43m \u001B[49m\u001B[43mrho_i\u001B[49m\u001B[43m,\u001B[49m\u001B[43m \u001B[49m\u001B[38;5;28;43mself\u001B[39;49m\u001B[38;5;241;43m.\u001B[39;49m\u001B[43mtsave\u001B[49m\u001B[43m)\u001B[49m\n\u001B[0;32m    171\u001B[0m \u001B[38;5;28;01melse\u001B[39;00m:\n\u001B[0;32m    172\u001B[0m     rho_i \u001B[38;5;241m=\u001B[39m dq\u001B[38;5;241m.\u001B[39mtensor(dq\u001B[38;5;241m.\u001B[39mfock(\u001B[38;5;28mself\u001B[39m\u001B[38;5;241m.\u001B[39mqdim, \u001B[38;5;241m0\u001B[39m), dq\u001B[38;5;241m.\u001B[39mfock(\u001B[38;5;28mself\u001B[39m\u001B[38;5;241m.\u001B[39mcdim, \u001B[38;5;241m0\u001B[39m))\n",
      "File \u001B[1;32m~\\PycharmProjects\\qced-encoding\\.venv2\\Lib\\site-packages\\dynamiqs\\mesolve\\mesolve.py:117\u001B[0m, in \u001B[0;36mmesolve\u001B[1;34m(H, jump_ops, rho0, tsave, exp_ops, solver, gradient, options)\u001B[0m\n\u001B[0;32m    113\u001B[0m rho0 \u001B[38;5;241m=\u001B[39m todm(rho0)\n\u001B[0;32m    115\u001B[0m \u001B[38;5;66;03m# we implement the jitted vectorization in another function to pre-convert QuTiP\u001B[39;00m\n\u001B[0;32m    116\u001B[0m \u001B[38;5;66;03m# objects (which are not JIT-compatible) to JAX arrays\u001B[39;00m\n\u001B[1;32m--> 117\u001B[0m \u001B[38;5;28;01mreturn\u001B[39;00m \u001B[43m_vectorized_mesolve\u001B[49m\u001B[43m(\u001B[49m\n\u001B[0;32m    118\u001B[0m \u001B[43m    \u001B[49m\u001B[43mH\u001B[49m\u001B[43m,\u001B[49m\u001B[43m \u001B[49m\u001B[43mjump_ops\u001B[49m\u001B[43m,\u001B[49m\u001B[43m \u001B[49m\u001B[43mrho0\u001B[49m\u001B[43m,\u001B[49m\u001B[43m \u001B[49m\u001B[43mtsave\u001B[49m\u001B[43m,\u001B[49m\u001B[43m \u001B[49m\u001B[43mexp_ops\u001B[49m\u001B[43m,\u001B[49m\u001B[43m \u001B[49m\u001B[43msolver\u001B[49m\u001B[43m,\u001B[49m\u001B[43m \u001B[49m\u001B[43mgradient\u001B[49m\u001B[43m,\u001B[49m\u001B[43m \u001B[49m\u001B[43moptions\u001B[49m\n\u001B[0;32m    119\u001B[0m \u001B[43m\u001B[49m\u001B[43m)\u001B[49m\n",
      "File \u001B[1;32m~\\PycharmProjects\\qced-encoding\\.venv2\\Lib\\site-packages\\dynamiqs\\core\\_utils.py:55\u001B[0m, in \u001B[0;36mcatch_xla_runtime_error.<locals>.wrapper\u001B[1;34m(*args, **kwargs)\u001B[0m\n\u001B[0;32m     48\u001B[0m     \u001B[38;5;28;01mraise\u001B[39;00m \u001B[38;5;167;01mRuntimeError\u001B[39;00m(\n\u001B[0;32m     49\u001B[0m         \u001B[38;5;124m'\u001B[39m\u001B[38;5;124mThe maximum number of solver steps has been reached (the default\u001B[39m\u001B[38;5;124m'\u001B[39m\n\u001B[0;32m     50\u001B[0m         \u001B[38;5;124mf\u001B[39m\u001B[38;5;124m'\u001B[39m\u001B[38;5;124m value is `max_steps=\u001B[39m\u001B[38;5;132;01m{\u001B[39;00mdefault_max_steps\u001B[38;5;132;01m:\u001B[39;00m\u001B[38;5;124m_\u001B[39m\u001B[38;5;132;01m}\u001B[39;00m\u001B[38;5;124m`). Try increasing\u001B[39m\u001B[38;5;124m'\u001B[39m\n\u001B[0;32m     51\u001B[0m         \u001B[38;5;124m'\u001B[39m\u001B[38;5;124m `max_steps` with the `solver` argument, e.g.\u001B[39m\u001B[38;5;124m'\u001B[39m\n\u001B[0;32m     52\u001B[0m         \u001B[38;5;124m'\u001B[39m\u001B[38;5;124m `solver=dq.solver.Tsit5(max_steps=1_000_000)`.\u001B[39m\u001B[38;5;124m'\u001B[39m\n\u001B[0;32m     53\u001B[0m     ) \u001B[38;5;28;01mfrom\u001B[39;00m \u001B[38;5;21;01me\u001B[39;00m\n\u001B[0;32m     54\u001B[0m \u001B[38;5;66;03m# === other errors\u001B[39;00m\n\u001B[1;32m---> 55\u001B[0m \u001B[38;5;28;01mraise\u001B[39;00m \u001B[38;5;167;01mRuntimeError\u001B[39;00m(\n\u001B[0;32m     56\u001B[0m     \u001B[38;5;124m'\u001B[39m\u001B[38;5;124mAn internal JAX error interrupted the execution, please report this to\u001B[39m\u001B[38;5;124m'\u001B[39m\n\u001B[0;32m     57\u001B[0m     \u001B[38;5;124m'\u001B[39m\u001B[38;5;124m the dynamiqs developers by opening an issue on GitHub or sending a\u001B[39m\u001B[38;5;124m'\u001B[39m\n\u001B[0;32m     58\u001B[0m     \u001B[38;5;124m'\u001B[39m\u001B[38;5;124m message on dynamiqs Slack (links available at\u001B[39m\u001B[38;5;124m'\u001B[39m\n\u001B[0;32m     59\u001B[0m     \u001B[38;5;124m'\u001B[39m\u001B[38;5;124m https://www.dynamiqs.org/getting_started/lets-talk.html).\u001B[39m\u001B[38;5;124m'\u001B[39m\n\u001B[0;32m     60\u001B[0m ) \u001B[38;5;28;01mfrom\u001B[39;00m \u001B[38;5;21;01me\u001B[39;00m\n",
      "\u001B[1;31mRuntimeError\u001B[0m: An internal JAX error interrupted the execution, please report this to the dynamiqs developers by opening an issue on GitHub or sending a message on dynamiqs Slack (links available at https://www.dynamiqs.org/getting_started/lets-talk.html)."
     ]
    }
   ],
   "source": [
    "ce.setObs().mle().getFidelity()"
   ],
   "metadata": {
    "collapsed": false,
    "ExecuteTime": {
     "end_time": "2024-08-13T08:31:27.935628900Z",
     "start_time": "2024-08-13T08:26:45.023234500Z"
    }
   },
   "id": "338fc2f7d11888fd",
   "execution_count": 19
  }
 ],
 "metadata": {
  "kernelspec": {
   "display_name": "Python 3",
   "language": "python",
   "name": "python3"
  },
  "language_info": {
   "codemirror_mode": {
    "name": "ipython",
    "version": 2
   },
   "file_extension": ".py",
   "mimetype": "text/x-python",
   "name": "python",
   "nbconvert_exporter": "python",
   "pygments_lexer": "ipython2",
   "version": "2.7.6"
  }
 },
 "nbformat": 4,
 "nbformat_minor": 5
}

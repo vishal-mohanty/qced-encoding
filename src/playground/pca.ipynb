{
 "cells": [
  {
   "cell_type": "code",
   "execution_count": null,
   "id": "initial_id",
   "metadata": {
    "collapsed": true
   },
   "outputs": [],
   "source": [
    "\n",
    "import numpy as np\n",
    "import matplotlib\n",
    "from matplotlib import pyplot as plt\n",
    "matplotlib.use('Qt5Agg') \n",
    "from sklearn.linear_model import RidgeClassifier, LogisticRegression\n",
    "from qutip import *\n",
    "\n",
    "import src.encoding.evolution as evolution\n",
    "import importlib\n",
    "importlib.reload(evolution)\n",
    "from src.encoding.evolution import Evolve\n",
    "from tqdm import tqdm\n",
    "from src.helper_functions import *\n",
    "from src.encoding.classify import Classify\n",
    "from matplotlib.widgets import Slider"
   ]
  },
  {
   "cell_type": "code",
   "outputs": [],
   "source": [
    "X = np.load(\"..\\\\..\\\\data\\\\compressed16\\\\trainX16.npy\")"
   ],
   "metadata": {
    "collapsed": false
   },
   "id": "8afd1122647f39a",
   "execution_count": null
  },
  {
   "cell_type": "code",
   "outputs": [
    {
     "name": "stdout",
     "output_type": "stream",
     "text": [
      "Accuracy of Logistic Regression: 83.7%\n"
     ]
    }
   ],
   "source": [
    "import tensorflow as tf\n",
    "import tensorflow_datasets as tfds\n",
    "from sklearn.linear_model import LogisticRegression\n",
    "from sklearn.decomposition import PCA\n",
    "from sklearn.preprocessing import normalize\n",
    "trainSize = 4000\n",
    "testSize = 1000\n",
    "\n",
    "\n",
    "\n",
    "# Load datasets from tensorflow, and take a random sample of images\n",
    "ds_train, ds_test = tfds.load('mnist', split=['train', 'test'], as_supervised=True, shuffle_files=True)\n",
    "trainSize_total = ds_train.cardinality().numpy()\n",
    "testSize_total = ds_test.cardinality().numpy()\n",
    "ds_train = ds_train.shuffle(trainSize_total)\n",
    "ds_test = ds_test.shuffle(testSize_total)\n",
    "\n",
    "train_X, train_y, test_X, test_y = [], [], [], []\n",
    "for x, y in ds_train.take(trainSize):\n",
    "    train_X.append(x.numpy().reshape(-1))\n",
    "    train_y.append(y.numpy())\n",
    "for x, y in ds_test.take(testSize):\n",
    "    test_X.append(x.numpy().reshape(-1))\n",
    "    test_y.append(y.numpy())\n",
    "    \n",
    "pca = PCA(16)\n",
    "train_X_pca = pca.fit_transform(train_X)\n",
    "test_X_pca = pca.transform(test_X)\n",
    "train_X = normalize(train_X_pca)\n",
    "test_X = normalize(test_X_pca)\n",
    "\n",
    "# Logistic Regression Model\n",
    "clf = LogisticRegression(max_iter=1000)\n",
    "clf.fit(train_X, train_y)\n",
    "score = clf.score(test_X, test_y)\n",
    "print(f\"Accuracy of Logistic Regression: {score*100}%\")"
   ],
   "metadata": {
    "collapsed": false,
    "ExecuteTime": {
     "end_time": "2024-07-10T02:43:46.944159400Z",
     "start_time": "2024-07-10T02:43:45.506925400Z"
    }
   },
   "id": "67d074cff2426baf",
   "execution_count": 18
  },
  {
   "cell_type": "code",
   "outputs": [],
   "source": [
    "np.array(train_X).shape"
   ],
   "metadata": {
    "collapsed": false
   },
   "id": "fe8e57f86382f662",
   "execution_count": null
  },
  {
   "cell_type": "code",
   "outputs": [],
   "source": [],
   "metadata": {
    "collapsed": false
   },
   "id": "7ec6605d8ef735b5",
   "execution_count": null
  }
 ],
 "metadata": {
  "kernelspec": {
   "display_name": "Python 3",
   "language": "python",
   "name": "python3"
  },
  "language_info": {
   "codemirror_mode": {
    "name": "ipython",
    "version": 2
   },
   "file_extension": ".py",
   "mimetype": "text/x-python",
   "name": "python",
   "nbconvert_exporter": "python",
   "pygments_lexer": "ipython2",
   "version": "2.7.6"
  }
 },
 "nbformat": 4,
 "nbformat_minor": 5
}

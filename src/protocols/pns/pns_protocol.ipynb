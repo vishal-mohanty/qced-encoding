{
 "cells": [
  {
   "cell_type": "code",
   "outputs": [],
   "source": [
    "import matplotlib.pyplot as plt\n",
    "import time\n",
    "import numpy as np\n",
    "from qutip import *\n",
    "from scipy.optimize import minimize\n",
    "import h5py\n",
    "import scipy as sc\n",
    "from os import walk\n",
    "erf = sc.special.erf\n",
    "start_time = time.time()#checking how long the code takes\n",
    "\n",
    "AL = np.linspace(-2,2,20)#final_disps#the displacements\n",
    "\n",
    "### Simulations\n",
    "T1 = 84e-6  #in s\n",
    "T2 = 21e-6  #in s\n",
    "Tphi = - 1/(1/2/T1 - 1/T2)\n",
    "cavT1 = 1.21e-3  #in s\n",
    "nbar_cav = 0\n",
    "nbar_qb = 0\n",
    "\n",
    "qdim = 2\n",
    "q = destroy(qdim)\n",
    "qd = create(qdim)\n",
    "ug = basis(qdim,0)\n",
    "ue = basis(qdim,1)\n",
    "\n",
    "chi = 1.359e6  #in Hz\n",
    "Kerr = 6e3  #in Hz\n",
    "cdim = 30\n",
    "\n",
    "Q = tensor(destroy(qdim), qeye(cdim))\n",
    "C = tensor(qeye(qdim), destroy(cdim))\n",
    "\n",
    "Cd, Qd = C.dag(), Q.dag()\n",
    "\n",
    "# Contains information about the (pulse amplitude, pulse sigma, pulse chop)\n",
    "calibration = [\n",
    "    (1, 250e-9, 4),#tuple\n",
    "]\n",
    "\n",
    "A, sigma, chop = calibration[0]\n",
    "\n",
    "matrix_elements = None\n",
    "peak_heights = None\n",
    "num_split_plot = None\n",
    "\n",
    "freq_detune = -np.arange(0,11)*chi\n",
    "\n",
    "if 1:\n",
    "    '''\n",
    "    Power Rabi: Use this to calibrate the amplitude needed to drive a qubit pi pulse\n",
    "    '''\n",
    "    amp = np.linspace(0, 1.5, 199)\n",
    "    output = []\n",
    "\n",
    "    for Ax in amp:\n",
    "        A = np.sqrt(2/np.pi) / erf(np.sqrt(2))*np.pi/(4*sigma)/2/np.pi#initial guess\n",
    "        A0 = A#keep it for later\n",
    "\n",
    "        frq = 0#resonant driving\n",
    "\n",
    "        A *= Ax#coefficient for the Gaussian pulse\n",
    "\n",
    "        H0 = 2*np.pi*frq * qd*q\n",
    "        Hd = 2*np.pi*A*1j*(qd - q)#or with other part \n",
    "        # Hd = 2*np.pi*A*(qd + q)\n",
    "\n",
    "        def pulse(t, *arg):\n",
    "            global sigma, chop\n",
    "            t0 = sigma*chop/2\n",
    "\n",
    "            g = np.exp( - 1/2 * (t - t0)**2 / sigma**2)\n",
    "\n",
    "            return g\n",
    "\n",
    "        H = [H0, [Hd, pulse]]\n",
    "\n",
    "        #initial state\n",
    "        # psi = basis(2, 0)\n",
    "        rhoq = thermal_dm(qdim, nbar_qb)#ket2dm(psi)\n",
    "\n",
    "        tlist = np.linspace(0, sigma*chop, 101)\n",
    "\n",
    "        c_ops = [\n",
    "            np.sqrt((1 + nbar_qb)/T1)*q,\n",
    "            np.sqrt(nbar_qb/T1) * qd,\n",
    "            np.sqrt(2/Tphi)*qd*q#changed\n",
    "        ]\n",
    "\n",
    "        e_ops = [qd*q,]\n",
    "\n",
    "        # options = Options(max_step = 1, nsteps = 1e6)\n",
    "\n",
    "        results = mesolve(H, rhoq, tlist, c_ops= c_ops, e_ops = e_ops)#, options= options)#, progress_bar = True)\n",
    "\n",
    "        output += [results.expect[0][-1],]\n",
    "    \n",
    "    # plt.plot(amp, output)\n",
    "    # plt.ylabel(r\"pe\")\n",
    "    # plt.xlabel(\"Amplitude Scale\")\n",
    "    # plt.title(\"Power Rabi\")\n",
    "    # plt.grid()\n",
    "    # plt.show()\n",
    "\n",
    "    # print(max(output), output.index(max(output)), amp[output.index(max(output))])\n",
    "    A = A0*amp[output.index(max(output))]#this is the correct coeff\n",
    "\n",
    "\n",
    "\n"
   ],
   "metadata": {
    "collapsed": false,
    "ExecuteTime": {
     "end_time": "2024-05-01T16:48:14.451605700Z",
     "start_time": "2024-05-01T16:48:10.092525800Z"
    }
   },
   "id": "310328a8cc6ffe62",
   "execution_count": 1
  },
  {
   "cell_type": "code",
   "outputs": [
    {
     "name": "stdout",
     "output_type": "stream",
     "text": [
      "417959.5502351346\n"
     ]
    }
   ],
   "source": [
    "print(A)"
   ],
   "metadata": {
    "collapsed": false,
    "ExecuteTime": {
     "end_time": "2024-05-01T16:48:35.783276200Z",
     "start_time": "2024-05-01T16:48:35.763778500Z"
    }
   },
   "id": "1379ca13dbd94546",
   "execution_count": 2
  },
  {
   "cell_type": "code",
   "outputs": [],
   "source": [
    "#new jump ops\n",
    "c_ops = [\n",
    "    # Qubit Relaxation\n",
    "    np.sqrt((1 + nbar_qb)/T1) * Q,\n",
    "    # Qubit Thermal Excitations\n",
    "    np.sqrt(nbar_qb/T1) * Qd,\n",
    "    # Qubit Dephasing, changed\n",
    "    np.sqrt(2/Tphi)*Qd*Q,\n",
    "    # Cavity Relaxation\n",
    "    np.sqrt((1 + nbar_cav)/cavT1) * C,\n",
    "    # Cavity Thermal Excitations\n",
    "    np.sqrt(nbar_cav/cavT1) * Cd,\n",
    "]\n",
    "\n",
    "def pns_sim(RHO_tar,frq):\n",
    "        # frq = freq_detune[kk]\n",
    "        H0 = -2*np.pi*frq * Qd*Q - 2*np.pi*chi*Qd*Q*Cd*C - 2*np.pi*Kerr/2*Cd*Cd*C*C\n",
    "        Hd = 2*np.pi*1j*(Qd - Q)\n",
    "        # Hd = 2*np.pi*(Qd + Q)\n",
    "\n",
    "        def pulse(t, *arg):\n",
    "            t0 = sigma*chop/2\n",
    "            g = A*np.exp( - 1/2 * (t - t0)**2 / sigma**2)\n",
    "\n",
    "            return g\n",
    "\n",
    "        H = [H0, [Hd, pulse]]\n",
    "\n",
    "        e_ops = [Qd*Q,]\n",
    "\n",
    "        # options = Options(max_step = 4, nsteps = 1e6)\n",
    "        results = mesolve(H, RHO_tar, tlist, c_ops= c_ops, e_ops = e_ops)#, options = options)#, progress_bar = True)\n",
    "\n",
    "        return results.expect[0][-1].real"
   ],
   "metadata": {
    "collapsed": false,
    "ExecuteTime": {
     "end_time": "2024-05-01T16:48:36.332300500Z",
     "start_time": "2024-05-01T16:48:36.327480500Z"
    }
   },
   "id": "2ea4fabf26e96d1c",
   "execution_count": 3
  },
  {
   "cell_type": "code",
   "outputs": [
    {
     "data": {
      "text/plain": "array([        0.,  -1359000.,  -2718000.,  -4077000.,  -5436000.,\n        -6795000.,  -8154000.,  -9513000., -10872000., -12231000.,\n       -13590000.])"
     },
     "execution_count": 4,
     "metadata": {},
     "output_type": "execute_result"
    }
   ],
   "source": [
    "freq_detune"
   ],
   "metadata": {
    "collapsed": false,
    "ExecuteTime": {
     "end_time": "2024-05-01T16:48:37.137105400Z",
     "start_time": "2024-05-01T16:48:37.123926800Z"
    }
   },
   "id": "5d43275be54ab375",
   "execution_count": 4
  },
  {
   "cell_type": "code",
   "outputs": [
    {
     "data": {
      "text/plain": "[<matplotlib.lines.Line2D at 0x1839d0cddd0>]"
     },
     "execution_count": 5,
     "metadata": {},
     "output_type": "execute_result"
    },
    {
     "data": {
      "text/plain": "<Figure size 640x480 with 1 Axes>",
      "image/png": "[encoded data removed]"
     },
     "metadata": {},
     "output_type": "display_data"
    }
   ],
   "source": [
    "pns = np.zeros(len(AL))\n",
    "pns_id = np.zeros(len(AL))\n",
    "#The PNS simulation\n",
    "RHO_tar0 = tensor(thermal_dm(qdim,nbar_qb), thermal_dm(cdim,nbar_cav))\n",
    "w=0\n",
    "for v1 in range(len(AL)):\n",
    "    RHO_tar = tensor(qeye(qdim),displace(cdim, -AL[w]))*RHO_tar0*tensor(qeye(qdim),displace(cdim, AL[w]))\n",
    "    pns[w] = pns_sim(RHO_tar,freq_detune[2])\n",
    "    pns_id[w] = RHO_tar.ptrace(1)[2,2].real\n",
    "    w += 1\n",
    "# for v2 in np.arange(TM2):\n",
    "#     RHO_tar = tensor(qeye(qdim),displace(cdim, -AL[w]))*RHO_tar0*tensor(qeye(qdim),displace(cdim, AL[w]))\n",
    "#     Pid[w] = pns_sim(RHO_tar,freq_detune[2])\n",
    "#     Pidid[w] = RHO_tar.ptrace(1)[2,2].real\n",
    "#     w += 1\n",
    "# for v3 in np.arange(TM3):\n",
    "#     RHO_tar = tensor(qeye(qdim),displace(cdim, -AL[w]))*RHO_tar0*tensor(qeye(qdim),displace(cdim, AL[w]))\n",
    "#     Pid[w] = pns_sim(RHO_tar,freq_detune[3])\n",
    "#     Pidid[w] = RHO_tar.ptrace(1)[3,3].real\n",
    "#     w += 1\n",
    "# for v4 in np.arange(TM4):\n",
    "#     RHO_tar = tensor(qeye(qdim),displace(cdim, -AL[w]))*RHO_tar0*tensor(qeye(qdim),displace(cdim, AL[w]))\n",
    "#     Pid[w] = pns_sim(RHO_tar,freq_detune[4])\n",
    "#     Pidid[w] = RHO_tar.ptrace(1)[4,4].real\n",
    "#     w += 1\n",
    "# for v5 in np.arange(TM5):\n",
    "#     RHO_tar = tensor(qeye(qdim),displace(cdim, -AL[w]))*RHO_tar0*tensor(qeye(qdim),displace(cdim, AL[w]))\n",
    "#     Pid[w] = pns_sim(RHO_tar,freq_detune[5])\n",
    "#     Pidid[w] = RHO_tar.ptrace(1)[5,5].real\n",
    "#     w += 1\n",
    "\n",
    "plt.plot(AL,pns,'ok')\n",
    "plt.plot(AL,pns_id,'r--')\n"
   ],
   "metadata": {
    "collapsed": false,
    "ExecuteTime": {
     "end_time": "2024-05-01T16:48:39.878318100Z",
     "start_time": "2024-05-01T16:48:38.027596100Z"
    }
   },
   "id": "2ac34cdc0db463be",
   "execution_count": 5
  },
  {
   "cell_type": "code",
   "outputs": [],
   "source": [],
   "metadata": {
    "collapsed": false,
    "ExecuteTime": {
     "end_time": "2024-05-01T16:48:39.891895100Z",
     "start_time": "2024-05-01T16:48:39.889031200Z"
    }
   },
   "id": "5ce896fdc056fdd9",
   "execution_count": 5
  },
  {
   "cell_type": "code",
   "outputs": [],
   "source": [],
   "metadata": {
    "collapsed": false
   },
   "id": "79469757572f018b"
  }
 ],
 "metadata": {
  "kernelspec": {
   "display_name": "Python 3",
   "language": "python",
   "name": "python3"
  },
  "language_info": {
   "codemirror_mode": {
    "name": "ipython",
    "version": 2
   },
   "file_extension": ".py",
   "mimetype": "text/x-python",
   "name": "python",
   "nbconvert_exporter": "python",
   "pygments_lexer": "ipython2",
   "version": "2.7.6"
  }
 },
 "nbformat": 4,
 "nbformat_minor": 5
}

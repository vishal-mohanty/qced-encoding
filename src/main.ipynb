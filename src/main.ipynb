{
 "cells": [
  {
   "cell_type": "code",
   "outputs": [],
   "source": [
    "# TODO: CREATE VISUALS FOR IMAGES\n",
    "# TODO: Ridge regression, alpha = 0"
   ],
   "metadata": {
    "collapsed": false
   },
   "id": "2d200ab298dde1f7",
   "execution_count": null
  },
  {
   "cell_type": "code",
   "outputs": [],
   "source": [
    "''' DEFAULT PARAMETERS\n",
    "# Hamiltonian parameters\n",
    "N = 11\n",
    "\n",
    "# Time parameters of evolution\n",
    "t_total = 2e-6\n",
    "nsteps = 2000\n",
    "\n",
    "# Coefficients of pump\n",
    "pc_real = 0.238e6\n",
    "pq_real = 0.238e6\n",
    "\n",
    "'''\n",
    "import matplotlib\n",
    "matplotlib.use('Qt5Agg') \n",
    "import importlib\n",
    "from src.encoding.classify import Classify\n",
    "import numpy as np\n",
    "from helper_functions import *\n",
    "import helper_functions as hf\n",
    "import TK_basics as tk\n",
    "importlib.reload(hf)\n",
    "importlib.reload(tk)\n",
    "from TK_basics import *\n",
    "from multiprocess.pool import Pool\n",
    "from sklearn.linear_model import LogisticRegressionCV, RidgeClassifier, LogisticRegression\n",
    "import src.encoding.classify as cl\n",
    "import src.encoding.evolution as el\n",
    "\n",
    "importlib.reload(cl)\n",
    "importlib.reload(el)\n",
    "import pickle"
   ],
   "metadata": {
    "collapsed": true,
    "ExecuteTime": {
     "end_time": "2024-06-06T02:16:26.140446300Z",
     "start_time": "2024-06-06T02:16:13.367776400Z"
    }
   },
   "id": "initial_id",
   "execution_count": 1
  },
  {
   "cell_type": "markdown",
   "source": [
    "# mnist"
   ],
   "metadata": {
    "collapsed": false
   },
   "id": "bb2903f67a5972ec"
  },
  {
   "cell_type": "markdown",
   "source": [
    "# N = 16"
   ],
   "metadata": {
    "collapsed": false
   },
   "id": "d0b5008355f973d5"
  },
  {
   "cell_type": "code",
   "outputs": [],
   "source": [
    "# TODO: x = 0.175e6, tt = 18e-6 works best so far\n",
    "\n",
    "# TODO: CHECK x = 0.175e6 to 0.18e6, tt = 17e-6 to 18e-6\n",
    "\n",
    "# TODO: TRY DYNAMIQS\n",
    "\n",
    "# TODO: ORGANISE CODE\n",
    "\n",
    "# TODO: PLOT WIGNER\n",
    "\n",
    "# TODO: TRY CDIM=40"
   ],
   "metadata": {
    "collapsed": false,
    "ExecuteTime": {
     "end_time": "2024-06-03T17:46:38.945349700Z",
     "start_time": "2024-06-03T17:46:38.942734500Z"
    }
   },
   "id": "8b29094a12908723",
   "execution_count": 21
  },
  {
   "cell_type": "code",
   "outputs": [],
   "source": [
    "split=3\n",
    "cdim=13\n",
    "dm=10\n",
    "nsteps=5000\n",
    "x = .26\n",
    "tt = 12"
   ],
   "metadata": {
    "collapsed": false,
    "ExecuteTime": {
     "end_time": "2024-06-05T14:54:15.214416300Z",
     "start_time": "2024-06-05T14:54:15.199574500Z"
    }
   },
   "id": "b9adaa7740718edc",
   "execution_count": 2
  },
  {
   "cell_type": "code",
   "outputs": [
    {
     "name": "stdout",
     "output_type": "stream",
     "text": [
      "Evolving Hamiltonians for each Image...\n"
     ]
    },
    {
     "name": "stderr",
     "output_type": "stream",
     "text": [
      "100%|██████████| 4000/4000 [04:45<00:00, 14.00it/s]\n",
      "100%|██████████| 1000/1000 [01:18<00:00, 12.78it/s]\n",
      "100%|██████████| 4000/4000 [02:02<00:00, 32.70it/s]\n",
      "100%|██████████| 1000/1000 [00:38<00:00, 26.07it/s]\n"
     ]
    },
    {
     "name": "stdout",
     "output_type": "stream",
     "text": [
      "std=0:  0.901\n"
     ]
    },
    {
     "data": {
      "text/plain": "<src.encoding.classify.Classify at 0x1c218600f50>"
     },
     "execution_count": 3,
     "metadata": {},
     "output_type": "execute_result"
    }
   ],
   "source": [
    "data = Classify(compression=16, t_total= tt, pc_imag=x, pq_imag=x, nsteps=nsteps, \n",
    "                        intervals=split, cdim=13, dm=10, measurement='pns trace', c_ops=True, anharm=False, ffilter=False,\n",
    "                                 method=\"2qubit\").train(trainSize=4000, testSize=1000, max_pool=13)\n",
    "data.std(0)"
   ],
   "metadata": {
    "collapsed": false,
    "ExecuteTime": {
     "end_time": "2024-06-05T15:03:12.807534500Z",
     "start_time": "2024-06-05T14:54:23.406712600Z"
    }
   },
   "id": "426a14ead5172b06",
   "execution_count": 3
  },
  {
   "cell_type": "code",
   "outputs": [
    {
     "name": "stderr",
     "output_type": "stream",
     "text": [
      "100%|██████████| 4000/4000 [01:51<00:00, 35.93it/s]\n",
      "100%|██████████| 1000/1000 [00:36<00:00, 27.50it/s]\n"
     ]
    },
    {
     "name": "stdout",
     "output_type": "stream",
     "text": [
      "samples=10000:  0.869\n"
     ]
    },
    {
     "data": {
      "text/plain": "<src.encoding.classify.Classify at 0x1c218600f50>"
     },
     "execution_count": 4,
     "metadata": {},
     "output_type": "execute_result"
    }
   ],
   "source": [
    "data.std(10000)"
   ],
   "metadata": {
    "collapsed": false,
    "ExecuteTime": {
     "end_time": "2024-06-05T15:33:49.421636100Z",
     "start_time": "2024-06-05T15:31:21.202432Z"
    }
   },
   "id": "f453da79be04ff87",
   "execution_count": 4
  },
  {
   "cell_type": "code",
   "outputs": [],
   "source": [
    "import src.encoding.classify as cl\n",
    "import src.encoding.evolution as el\n",
    "\n",
    "importlib.reload(cl)\n",
    "importlib.reload(el)\n",
    "from src.encoding.classify import Classify\n"
   ],
   "metadata": {
    "collapsed": false,
    "ExecuteTime": {
     "end_time": "2024-06-06T02:16:43.237020200Z",
     "start_time": "2024-06-06T02:16:43.224854Z"
    }
   },
   "id": "e5e325643a253a02",
   "execution_count": 2
  },
  {
   "cell_type": "code",
   "outputs": [],
   "source": [
    "\n",
    "x = 0.175\n",
    "nsteps=5000\n",
    "dm=10\n",
    "v = Classify(compression=16, t_total= 17.5, pc_imag=x, pq_imag=x, nsteps=nsteps, \n",
    "                        intervals=3, cdim=40, dm=dm, measurement='pns trace', c_ops=True, anharm=False, ffilter=False,\n",
    "                                 method=\"2qubit\")"
   ],
   "metadata": {
    "collapsed": false,
    "ExecuteTime": {
     "end_time": "2024-06-06T02:17:31.877173600Z",
     "start_time": "2024-06-06T02:17:29.072658600Z"
    }
   },
   "id": "9b844a5704b8f179",
   "execution_count": 4
  },
  {
   "cell_type": "code",
   "outputs": [
    {
     "name": "stderr",
     "output_type": "stream",
     "text": [
      "100%|██████████| 4/4 [00:16<00:00,  4.07s/it]\n"
     ]
    },
    {
     "data": {
      "text/plain": "<src.encoding.classify.Classify at 0x1eb1f6e2790>"
     },
     "execution_count": 6,
     "metadata": {},
     "output_type": "execute_result"
    }
   ],
   "source": [
    "v.visualize(\"wigner\", 4, shuffle=True, max_pool=4, wig_scale=10, \n",
    "            items=[11,22,33,44])"
   ],
   "metadata": {
    "collapsed": false,
    "ExecuteTime": {
     "end_time": "2024-06-06T02:25:12.246234600Z",
     "start_time": "2024-06-06T02:24:51.142215200Z"
    }
   },
   "id": "f6e5f53e62181a35",
   "execution_count": 6
  },
  {
   "cell_type": "code",
   "outputs": [
    {
     "name": "stderr",
     "output_type": "stream",
     "text": [
      "100%|██████████| 9/9 [00:11<00:00,  1.33s/it]\n"
     ]
    },
    {
     "data": {
      "text/plain": "<src.encoding.classify.Classify at 0x1eb1f6e2790>"
     },
     "execution_count": 7,
     "metadata": {},
     "output_type": "execute_result"
    }
   ],
   "source": [
    "v.visualize(\"wigner\", 9, shuffle=True, max_pool=9, wig_scale=6)"
   ],
   "metadata": {
    "collapsed": false,
    "ExecuteTime": {
     "end_time": "2024-06-06T02:25:30.099512300Z",
     "start_time": "2024-06-06T02:25:12.235402700Z"
    }
   },
   "id": "24b443aae23ef738",
   "execution_count": 7
  },
  {
   "cell_type": "markdown",
   "source": [
    "## Testing multiple (overnight)"
   ],
   "metadata": {
    "collapsed": false
   },
   "id": "a94fba653644fa9b"
  },
  {
   "cell_type": "code",
   "outputs": [],
   "source": [
    "\n",
    "split=3\n",
    "d=10\n",
    "nsteps=5000\n",
    "for x in [0.175e6, 0.1765e6, 0.178e6, 0.173e6]:\n",
    "    for tt in [18e-6, 17.5e-6, 18.5e-6, 19e-6]:\n",
    "        print(f\"x: {x/1e6}, t_total: {tt/1e-6}\")\n",
    "        data = Classify(compression=16, t_total= tt, pc_imag=x, pq_imag=x, nsteps=nsteps, \n",
    "                        intervals=split, cdim=d+3, dm=d, measurement='pns trace', c_ops=True, anharm=False, ffilter=False,\n",
    "                                 method=\"2qubit\").train(trainSize=4000, testSize=1000, max_pool=13)\n",
    "        data.std(0)\n",
    "        data.std(1000)\n",
    "        data.std(10000)"
   ],
   "metadata": {
    "collapsed": false
   },
   "id": "8ca7163fddb6c2c5",
   "execution_count": null
  },
  {
   "cell_type": "code",
   "outputs": [],
   "source": [
    "with open(\"data_pns.pickle\", \"rb\") as f:\n",
    "    data9b = pickle.load(f)\n"
   ],
   "metadata": {
    "collapsed": false
   },
   "id": "241a13732860c24",
   "execution_count": null
  },
  {
   "cell_type": "code",
   "outputs": [],
   "source": [
    "from helper_functions import std as stdd\n",
    "stdd(data9b, 10000)"
   ],
   "metadata": {
    "collapsed": false
   },
   "id": "a6ab01f23eda2927",
   "execution_count": null
  },
  {
   "cell_type": "code",
   "outputs": [],
   "source": [],
   "metadata": {
    "collapsed": false
   },
   "id": "83f210e5d27aa0c0"
  }
 ],
 "metadata": {
  "kernelspec": {
   "display_name": "Python 3",
   "language": "python",
   "name": "python3"
  },
  "language_info": {
   "codemirror_mode": {
    "name": "ipython",
    "version": 2
   },
   "file_extension": ".py",
   "mimetype": "text/x-python",
   "name": "python",
   "nbconvert_exporter": "python",
   "pygments_lexer": "ipython2",
   "version": "2.7.6"
  }
 },
 "nbformat": 4,
 "nbformat_minor": 5
}

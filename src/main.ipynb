{
 "cells": [
  {
   "cell_type": "code",
   "outputs": [],
   "source": [
    "# TODO: REPORT STATS, DYNAMIC DATASETS (SIGH)"
   ],
   "metadata": {
    "collapsed": false
   },
   "id": "2d200ab298dde1f7"
  },
  {
   "cell_type": "code",
   "outputs": [],
   "source": [
    "''' DEFAULT PARAMETERS\n",
    "# Hamiltonian parameters\n",
    "N = 20\n",
    "g = 1\n",
    "\n",
    "# Time parameters of evolution\n",
    "t_total = 12\n",
    "t_steps = 50\n",
    "\n",
    "# Coefficients of pump\n",
    "coef_pc = 0.25\n",
    "coef_pq = 0.25\n",
    "\n",
    "# Wigner Range\n",
    "xRange = (-2.5, 2)\n",
    "yRange=(-2, 4.5)\n",
    "'''\n",
    "import src.encoding.classify as cl\n",
    "import importlib\n",
    "importlib.reload(cl)\n",
    "from src.encoding.classify import Classify\n"
   ],
   "metadata": {
    "collapsed": true,
    "ExecuteTime": {
     "end_time": "2024-03-12T03:01:27.199114Z",
     "start_time": "2024-03-12T03:01:24.832387Z"
    }
   },
   "id": "initial_id",
   "execution_count": 2
  },
  {
   "cell_type": "code",
   "outputs": [
    {
     "name": "stderr",
     "output_type": "stream",
     "text": [
      "100%|██████████| 60000/60000 [12:19<00:00, 81.10it/s]  \n",
      "100%|██████████| 10000/10000 [02:30<00:00, 66.56it/s]\n"
     ]
    }
   ],
   "source": [
    "if __name__ == \"__main__\":\n",
    "    data4 = Classify(compression=4, t_total=12, t_steps=50, coef_pc=.25, coef_pq=.25\n",
    "             ).train(trainSize=60000, testSize=10000, max_pool=1)"
   ],
   "metadata": {
    "collapsed": false,
    "ExecuteTime": {
     "end_time": "2024-03-11T08:26:38.947629500Z",
     "start_time": "2024-03-11T08:11:48.795005800Z"
    }
   },
   "id": "1bf3888033e045e1",
   "execution_count": 25
  },
  {
   "cell_type": "code",
   "outputs": [
    {
     "name": "stderr",
     "output_type": "stream",
     "text": [
      "100%|██████████| 60000/60000 [45:00<00:00, 22.22it/s]  \n",
      "100%|██████████| 10000/10000 [10:07<00:00, 16.47it/s]\n"
     ]
    },
    {
     "name": "stdout",
     "output_type": "stream",
     "text": [
      "Ridge Classifier (Without Quantum processing) yields: 0.7384\n",
      "Logistic Regression (Without Quantum processing) yields: 0.8189\n",
      "Ridge Classifier (With Quantum processing) yields: 0.9126\n",
      "Logistic Regression (With Quantum processing) yields: 0.7702\n",
      "Ridge Classifier (Without Quantum processing) yields: 0.7383\n"
     ]
    }
   ],
   "source": [
    "data4.process(copies=8)\n",
    "data4.score(q_alpha=0, n_regressors=(), q_regressors=(\"Ridge\",))"
   ],
   "metadata": {
    "collapsed": false,
    "ExecuteTime": {
     "end_time": "2024-03-11T04:12:05.902818700Z",
     "start_time": "2024-03-11T03:07:20.411452Z"
    }
   },
   "id": "39acf29b009b0a06",
   "execution_count": 7
  },
  {
   "cell_type": "code",
   "outputs": [
    {
     "name": "stderr",
     "output_type": "stream",
     "text": [
      "100%|██████████| 60000/60000 [12:34<00:00, 79.54it/s] \n",
      "100%|██████████| 10000/10000 [01:04<00:00, 155.63it/s]\n"
     ]
    },
    {
     "name": "stdout",
     "output_type": "stream",
     "text": [
      "Ridge Classifier (With Quantum processing) yields: 0.8673\n"
     ]
    }
   ],
   "source": [
    "data4.process(copies=4, res=8)\n",
    "data4.score(q_alpha=0, n_regressors=(), q_regressors=(\"Ridge\",))"
   ],
   "metadata": {
    "collapsed": false,
    "ExecuteTime": {
     "end_time": "2024-03-11T08:40:18.854432600Z",
     "start_time": "2024-03-11T08:26:38.947629500Z"
    }
   },
   "id": "43616aef58ae016d",
   "execution_count": 26
  },
  {
   "cell_type": "code",
   "outputs": [
    {
     "name": "stderr",
     "output_type": "stream",
     "text": [
      "100%|██████████| 60000/60000 [03:56<00:00, 253.63it/s]\n",
      "100%|██████████| 10000/10000 [00:45<00:00, 220.24it/s]\n"
     ]
    },
    {
     "name": "stdout",
     "output_type": "stream",
     "text": [
      "Ridge Classifier (Without Quantum processing) yields: 0.7384\n",
      "Logistic Regression (Without Quantum processing) yields: 0.8189\n",
      "Ridge Classifier (With Quantum processing) yields: 0.854\n",
      "Logistic Regression (With Quantum processing) yields: 0.682\n",
      "Ridge Classifier (Without Quantum processing) yields: 0.7383\n"
     ]
    }
   ],
   "source": [
    "data4.process(copies=1)\n",
    "data4.score(q_alpha=0, n_regressors=(), q_regressors=(\"Ridge\",))"
   ],
   "metadata": {
    "collapsed": false,
    "ExecuteTime": {
     "end_time": "2024-03-11T06:12:55.036798700Z",
     "start_time": "2024-03-11T06:07:23.881970200Z"
    }
   },
   "id": "777d8282dbf1634",
   "execution_count": 18
  },
  {
   "cell_type": "code",
   "outputs": [
    {
     "name": "stderr",
     "output_type": "stream",
     "text": [
      "100%|██████████| 30000/30000 [05:24<00:00, 92.55it/s] \n",
      "100%|██████████| 6000/6000 [01:03<00:00, 93.83it/s] \n"
     ]
    }
   ],
   "source": [
    "if __name__ == \"__main__\":\n",
    "    data7 = Classify(compression=7, t_total=12, t_steps=50, coef_pc=.25, coef_pq=.25\n",
    "             ).train(trainSize=30000, testSize=6000, max_pool=1)"
   ],
   "metadata": {
    "collapsed": false,
    "ExecuteTime": {
     "end_time": "2024-03-11T06:30:11.224268900Z",
     "start_time": "2024-03-11T06:23:43.100262Z"
    }
   },
   "id": "f26fc8715e053af9",
   "execution_count": 2
  },
  {
   "cell_type": "code",
   "outputs": [
    {
     "name": "stderr",
     "output_type": "stream",
     "text": [
      "100%|██████████| 30000/30000 [05:47<00:00, 86.28it/s] \n",
      "100%|██████████| 6000/6000 [01:16<00:00, 78.45it/s] \n"
     ]
    },
    {
     "name": "stdout",
     "output_type": "stream",
     "text": [
      "Logistic Regression (Without Quantum processing) yields: 0.8866666666666667\n",
      "Ridge Classifier (With Quantum processing) yields: 0.9346666666666666\n"
     ]
    }
   ],
   "source": [
    "data7.process(copies=4)\n",
    "data7.score(q_alpha=0, n_regressors=(\"Log\",), q_regressors=(\"Ridge\",))"
   ],
   "metadata": {
    "collapsed": false,
    "ExecuteTime": {
     "end_time": "2024-03-11T06:37:59.856300400Z",
     "start_time": "2024-03-11T06:30:11.218298900Z"
    }
   },
   "id": "41edbcf065995e9",
   "execution_count": 3
  },
  {
   "cell_type": "code",
   "outputs": [
    {
     "name": "stderr",
     "output_type": "stream",
     "text": [
      "100%|██████████| 30000/30000 [01:30<00:00, 332.81it/s]\n",
      "100%|██████████| 6000/6000 [00:18<00:00, 330.19it/s]\n"
     ]
    },
    {
     "name": "stdout",
     "output_type": "stream",
     "text": [
      "Logistic Regression (Without Quantum processing) yields: 0.8866666666666667\n",
      "Ridge Classifier (With Quantum processing) yields: 0.8983333333333333\n"
     ]
    }
   ],
   "source": [
    "data7.process(copies=1)\n",
    "data7.score(q_alpha=0, n_regressors=(\"Log\",), q_regressors=(\"Ridge\",))"
   ],
   "metadata": {
    "collapsed": false,
    "ExecuteTime": {
     "end_time": "2024-03-11T06:01:05.419520Z",
     "start_time": "2024-03-11T05:59:09.669691400Z"
    }
   },
   "id": "a24dd7873f07b0bf",
   "execution_count": 15
  },
  {
   "cell_type": "code",
   "outputs": [
    {
     "name": "stderr",
     "output_type": "stream",
     "text": [
      "100%|██████████| 30000/30000 [06:26<00:00, 77.56it/s]  \n",
      "100%|██████████| 6000/6000 [01:27<00:00, 68.82it/s]\n"
     ]
    }
   ],
   "source": [
    "if __name__ == \"__main__\":\n",
    "    data10 = Classify(compression=10, t_total=12, t_steps=50, coef_pc=.25, coef_pq=.25\n",
    "             ).train(trainSize=30000, testSize=6000, max_pool=1)\n"
   ],
   "metadata": {
    "collapsed": false,
    "ExecuteTime": {
     "end_time": "2024-03-11T06:45:53.898682900Z",
     "start_time": "2024-03-11T06:37:59.839202900Z"
    }
   },
   "id": "3036c5ce50b81917",
   "execution_count": 4
  },
  {
   "cell_type": "code",
   "outputs": [
    {
     "name": "stderr",
     "output_type": "stream",
     "text": [
      "100%|██████████| 30000/30000 [02:52<00:00, 173.80it/s]\n",
      "100%|██████████| 6000/6000 [00:27<00:00, 218.93it/s]\n"
     ]
    },
    {
     "name": "stdout",
     "output_type": "stream",
     "text": [
      "Ridge Classifier (With Quantum processing) yields: 0.9241666666666667\n"
     ]
    }
   ],
   "source": [
    "data10.process(copies=2)\n",
    "data10.score(n_regressors=(), q_regressors=(\"Ridge\",))"
   ],
   "metadata": {
    "collapsed": false,
    "ExecuteTime": {
     "end_time": "2024-03-11T06:59:30.834425100Z",
     "start_time": "2024-03-11T06:55:55.384423100Z"
    }
   },
   "id": "a17ce015e1a00f26",
   "execution_count": 6
  },
  {
   "cell_type": "code",
   "outputs": [
    {
     "name": "stderr",
     "output_type": "stream",
     "text": [
      " 56%|█████▌    | 5610/10000 [08:26<41:19,  1.77it/s]  "
     ]
    }
   ],
   "source": [
    "if __name__ == \"__main__\":\n",
    "    data13 = Classify(compression=13, t_total=12, t_steps=50, coef_pc=.25, coef_pq=.25\n",
    "             ).train(trainSize=10000, testSize=2000, max_pool=13)"
   ],
   "metadata": {
    "collapsed": false,
    "is_executing": true,
    "ExecuteTime": {
     "start_time": "2024-03-12T03:03:31.053180400Z"
    }
   },
   "id": "aa01d358711826b2",
   "execution_count": null
  },
  {
   "cell_type": "code",
   "outputs": [],
   "source": [
    "data13.process(copies=8)\n",
    "data13.score(q_alpha=1e-19, n_regressors=(), q_regressors=(\"Ridge\",))\n",
    "data13.score(q_alpha=0, n_regressors=(), q_regressors=(\"Ridge\",))"
   ],
   "metadata": {
    "collapsed": false,
    "is_executing": true
   },
   "id": "a18d4fa43875d51b",
   "execution_count": null
  },
  {
   "cell_type": "code",
   "outputs": [],
   "source": [
    "data13.process(copies=4)\n",
    "data13.score(q_alpha=1e-19, n_regressors=(), q_regressors=(\"Ridge\",))\n",
    "data13.score(q_alpha=0, n_regressors=(), q_regressors=(\"Ridge\",))"
   ],
   "metadata": {
    "collapsed": false,
    "is_executing": true
   },
   "id": "7f5e53b1cbc22446",
   "execution_count": null
  },
  {
   "cell_type": "code",
   "outputs": [],
   "source": [
    "data13.process(copies=1)\n",
    "data13.score(q_alpha=1e-19, n_regressors=(), q_regressors=(\"Ridge\",))\n",
    "data13.score(q_alpha=0, n_regressors=(), q_regressors=(\"Ridge\",))"
   ],
   "metadata": {
    "collapsed": false,
    "is_executing": true
   },
   "id": "184a7acc040d9ab9",
   "execution_count": null
  },
  {
   "cell_type": "code",
   "outputs": [
    {
     "name": "stderr",
     "output_type": "stream",
     "text": [
      "100%|██████████| 20000/20000 [05:19<00:00, 62.53it/s] \n",
      "100%|██████████| 4000/4000 [00:21<00:00, 188.98it/s]\n"
     ]
    }
   ],
   "source": [
    "if __name__ == \"__main__\":\n",
    "    data28 = Classify(compression=28, t_total=12, t_steps=50, coef_pc=.25, coef_pq=.25\n",
    "             ).train(trainSize=20000, testSize=4000, max_pool=1)"
   ],
   "metadata": {
    "collapsed": false,
    "ExecuteTime": {
     "end_time": "2024-03-12T02:14:20.242751200Z",
     "start_time": "2024-03-12T02:08:38.939452900Z"
    }
   },
   "id": "227a58183af548b",
   "execution_count": 2
  },
  {
   "cell_type": "code",
   "outputs": [],
   "source": [
    "data28.process(copies=8)\n",
    "data28.score(q_alpha=1e-39, n_regressors=(\"Log\",), q_regressors=(\"Ridge\",))\n",
    "data28.score(q_alpha=0, n_regressors=(), q_regressors=(\"Ridge\",))"
   ],
   "metadata": {
    "collapsed": false,
    "is_executing": true
   },
   "id": "86d83038dd192f2c",
   "execution_count": null
  },
  {
   "cell_type": "code",
   "outputs": [
    {
     "name": "stderr",
     "output_type": "stream",
     "text": [
      "100%|██████████| 20000/20000 [15:44<00:00, 21.17it/s]\n",
      "100%|██████████| 4000/4000 [03:50<00:00, 17.33it/s]\n"
     ]
    },
    {
     "name": "stdout",
     "output_type": "stream",
     "text": [
      "Ridge Classifier (With Quantum processing) yields: 0.90825\n"
     ]
    }
   ],
   "source": [
    "data28.process(copies=16)\n",
    "data28.score(q_alpha=1e-39, n_regressors=(), q_regressors=(\"Ridge\",))\n",
    "data28.score(q_alpha=0, n_regressors=(), q_regressors=(\"Ridge\",))"
   ],
   "metadata": {
    "collapsed": false,
    "is_executing": true,
    "ExecuteTime": {
     "start_time": "2024-03-12T02:15:00.002582600Z"
    }
   },
   "id": "1687fc5ec920de98"
  },
  {
   "cell_type": "code",
   "outputs": [
    {
     "name": "stderr",
     "output_type": "stream",
     "text": [
      "100%|██████████| 20000/20000 [02:49<00:00, 117.86it/s]\n",
      "100%|██████████| 4000/4000 [00:35<00:00, 113.88it/s]\n"
     ]
    },
    {
     "name": "stdout",
     "output_type": "stream",
     "text": [
      "Logistic Regression (Without Quantum processing) yields: 0.89625\n",
      "Ridge Classifier (With Quantum processing) yields: 0.8545\n",
      "Ridge Classifier (With Quantum processing) yields: 0.85225\n"
     ]
    }
   ],
   "source": [
    "data28.process(copies=4)\n",
    "data28.score(q_alpha=1e-29, n_regressors=(\"Log\",), q_regressors=(\"Ridge\",))\n",
    "data28.score(q_alpha=0, n_regressors=(), q_regressors=(\"Ridge\",))"
   ],
   "metadata": {
    "collapsed": false,
    "ExecuteTime": {
     "end_time": "2024-03-11T20:33:58.187274600Z",
     "start_time": "2024-03-11T20:29:28.092754500Z"
    }
   },
   "id": "ad18f8642d599972",
   "execution_count": 6
  },
  {
   "cell_type": "code",
   "outputs": [
    {
     "name": "stderr",
     "output_type": "stream",
     "text": [
      "100%|██████████| 20000/20000 [00:43<00:00, 464.11it/s]\n",
      "100%|██████████| 4000/4000 [00:08<00:00, 458.46it/s]\n"
     ]
    },
    {
     "name": "stdout",
     "output_type": "stream",
     "text": [
      "Logistic Regression (Without Quantum processing) yields: 0.89625\n",
      "Ridge Classifier (With Quantum processing) yields: 0.7415\n",
      "Ridge Classifier (With Quantum processing) yields: 0.73825\n"
     ]
    }
   ],
   "source": [
    "data28.process(copies=1)\n",
    "data28.score(q_alpha=1e-29, n_regressors=(\"Log\",), q_regressors=(\"Ridge\",))\n",
    "data28.score(q_alpha=0, n_regressors=(), q_regressors=(\"Ridge\",))"
   ],
   "metadata": {
    "collapsed": false,
    "ExecuteTime": {
     "end_time": "2024-03-11T20:35:13.527272200Z",
     "start_time": "2024-03-11T20:33:58.190453500Z"
    }
   },
   "id": "838768cd3bbebfa9",
   "execution_count": 7
  }
 ],
 "metadata": {
  "kernelspec": {
   "display_name": "Python 3",
   "language": "python",
   "name": "python3"
  },
  "language_info": {
   "codemirror_mode": {
    "name": "ipython",
    "version": 2
   },
   "file_extension": ".py",
   "mimetype": "text/x-python",
   "name": "python",
   "nbconvert_exporter": "python",
   "pygments_lexer": "ipython2",
   "version": "2.7.6"
  }
 },
 "nbformat": 4,
 "nbformat_minor": 5
}

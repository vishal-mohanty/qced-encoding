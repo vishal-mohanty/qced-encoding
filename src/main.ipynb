{
 "cells": [
  {
   "cell_type": "code",
   "outputs": [],
   "source": [
    "# TODO: REPORT STATS, DYNAMIC DATASETS (SIGH)"
   ],
   "metadata": {
    "collapsed": false
   },
   "id": "2d200ab298dde1f7"
  },
  {
   "cell_type": "code",
   "outputs": [],
   "source": [
    "''' DEFAULT PARAMETERS\n",
    "# Hamiltonian parameters\n",
    "N = 20\n",
    "g = 1\n",
    "\n",
    "# Time parameters of evolution\n",
    "t_total = 12\n",
    "t_steps = 50\n",
    "\n",
    "# Coefficients of pump\n",
    "coef_pc = 0.25\n",
    "coef_pq = 0.25\n",
    "\n",
    "# Wigner Range\n",
    "xRange = (-2.5, 2)\n",
    "yRange=(-2, 4.5)\n",
    "'''\n",
    "import src.encoding.classify as cl\n",
    "import src.encoding.evolution as el\n",
    "import importlib\n",
    "importlib.reload(cl)\n",
    "importlib.reload(el)\n",
    "from src.encoding.classify import Classify\n",
    "import numpy as np"
   ],
   "metadata": {
    "collapsed": true,
    "ExecuteTime": {
     "end_time": "2024-03-13T08:24:30.319790300Z",
     "start_time": "2024-03-13T08:24:30.308343500Z"
    }
   },
   "id": "initial_id",
   "execution_count": 84
  },
  {
   "cell_type": "code",
   "outputs": [
    {
     "name": "stderr",
     "output_type": "stream",
     "text": [
      "100%|██████████| 10000/10000 [01:38<00:00, 101.72it/s]\n",
      "100%|██████████| 2000/2000 [00:23<00:00, 84.79it/s]\n"
     ]
    }
   ],
   "source": [
    "if __name__ == \"__main__\":\n",
    "    c = 0.25\n",
    "    data4 = Classify(compression=4, t_total=12, t_steps=50, coef_pc=c, coef_pq=c\n",
    "             ).train(trainSize=10000, testSize=2000, max_pool=1)"
   ],
   "metadata": {
    "collapsed": false,
    "ExecuteTime": {
     "end_time": "2024-03-13T08:27:02.018041Z",
     "start_time": "2024-03-13T08:25:00.049757800Z"
    }
   },
   "id": "34a9318392bee09a",
   "execution_count": 85
  },
  {
   "cell_type": "code",
   "outputs": [
    {
     "name": "stderr",
     "output_type": "stream",
     "text": [
      "100%|██████████| 10000/10000 [00:00<00:00, 25021.34it/s]\n",
      "100%|██████████| 2000/2000 [00:00<00:00, 24989.30it/s]\n"
     ]
    },
    {
     "name": "stdout",
     "output_type": "stream",
     "text": [
      "Logistic Regression (Without Quantum processing) yields: 0.7565\n",
      "Ridge Classifier (With Quantum processing) yields: 0.8\n"
     ]
    }
   ],
   "source": [
    "data4.process_rho()\n",
    "data4.score(q_alpha=1e-12, n_regressors=(\"Log\",), q_regressors=(\"Ridge\",))"
   ],
   "metadata": {
    "collapsed": false,
    "ExecuteTime": {
     "end_time": "2024-03-13T08:27:03.267367400Z",
     "start_time": "2024-03-13T08:27:02.014036800Z"
    }
   },
   "id": "a4284b9c4ee336dc",
   "execution_count": 86
  },
  {
   "cell_type": "code",
   "outputs": [
    {
     "name": "stderr",
     "output_type": "stream",
     "text": [
      "100%|██████████| 10000/10000 [01:58<00:00, 84.36it/s]\n",
      "100%|██████████| 2000/2000 [00:23<00:00, 84.70it/s]\n",
      "100%|██████████| 10000/10000 [00:00<00:00, 26643.78it/s]\n",
      "100%|██████████| 2000/2000 [00:00<00:00, 26329.10it/s]\n"
     ]
    },
    {
     "name": "stdout",
     "output_type": "stream",
     "text": [
      "Logistic Regression (Without Quantum processing) yields: 0.7565\n",
      "Ridge Classifier (With Quantum processing) yields: 0.801\n"
     ]
    }
   ],
   "source": [
    "if __name__ == \"__main__\":\n",
    "    c = 0.25\n",
    "    data4 = Classify(compression=4, t_total=12, t_steps=4, coef_pc=c, coef_pq=c\n",
    "             ).train(trainSize=10000, testSize=2000, max_pool=13)\n",
    "data4.process_rho()\n",
    "data4.score(q_alpha=1e-12, n_regressors=(\"Log\",), q_regressors=(\"Ridge\",))"
   ],
   "metadata": {
    "collapsed": false,
    "ExecuteTime": {
     "end_time": "2024-03-13T08:29:29.113582300Z",
     "start_time": "2024-03-13T08:27:03.259778400Z"
    }
   },
   "id": "1bf3888033e045e1",
   "execution_count": 87
  },
  {
   "cell_type": "code",
   "outputs": [
    {
     "name": "stderr",
     "output_type": "stream",
     "text": [
      " 45%|████▌     | 4501/10000 [10:40<10:28,  8.74it/s]   "
     ]
    }
   ],
   "source": [
    "if __name__ == \"__main__\":\n",
    "    c = np.linspace(0.6, 0.1, 16)\n",
    "    data4 = Classify(compression=4, t_total=12, t_steps=50, coef_pc=c, coef_pq=c\n",
    "             ).train(trainSize=10000, testSize=2000, max_pool=12, onlyLast=True)\n",
    "data4.process_rho()\n",
    "data4.score(q_alpha=1e-19, n_regressors=(\"Log\",), q_regressors=(\"Ridge\",))\n",
    "data4.score(q_alpha=0, n_regressors=(), q_regressors=(\"Ridge\",))"
   ],
   "metadata": {
    "collapsed": false,
    "is_executing": true,
    "ExecuteTime": {
     "start_time": "2024-03-13T07:05:18.001644200Z"
    }
   },
   "id": "7a74a3566fcdb0d0",
   "execution_count": null
  },
  {
   "cell_type": "code",
   "outputs": [
    {
     "name": "stderr",
     "output_type": "stream",
     "text": [
      "100%|██████████| 2000/2000 [05:26<00:00,  6.13it/s]\n",
      "100%|██████████| 400/400 [01:00<00:00,  6.62it/s]\n"
     ]
    }
   ],
   "source": [],
   "metadata": {
    "collapsed": false,
    "ExecuteTime": {
     "end_time": "2024-03-13T06:37:21.014633100Z",
     "start_time": "2024-03-13T06:30:54.350968800Z"
    }
   },
   "id": "39acf29b009b0a06",
   "execution_count": 18
  },
  {
   "cell_type": "code",
   "outputs": [
    {
     "name": "stderr",
     "output_type": "stream",
     "text": [
      "100%|██████████| 2000/2000 [00:00<00:00, 26218.09it/s]\n",
      "100%|██████████| 400/400 [00:00<00:00, 24553.94it/s]\n",
      "C:\\Users\\phant\\PycharmProjects\\qced-encoding\\.venv2\\Lib\\site-packages\\sklearn\\linear_model\\_ridge.py:204: LinAlgWarning: Ill-conditioned matrix (rcond=7.55058e-19): result may not be accurate.\n",
      "  return linalg.solve(A, Xy, assume_a=\"pos\", overwrite_a=True).T\n"
     ]
    },
    {
     "name": "stdout",
     "output_type": "stream",
     "text": [
      "Logistic Regression (Without Quantum processing) yields: 0.7\n",
      "Ridge Classifier (With Quantum processing) yields: 0.8225\n",
      "Ridge Classifier (With Quantum processing) yields: 0.8225\n"
     ]
    },
    {
     "name": "stderr",
     "output_type": "stream",
     "text": [
      "C:\\Users\\phant\\PycharmProjects\\qced-encoding\\.venv2\\Lib\\site-packages\\sklearn\\linear_model\\_ridge.py:204: LinAlgWarning: Ill-conditioned matrix (rcond=7.55057e-19): result may not be accurate.\n",
      "  return linalg.solve(A, Xy, assume_a=\"pos\", overwrite_a=True).T\n"
     ]
    }
   ],
   "source": [],
   "metadata": {
    "collapsed": false,
    "ExecuteTime": {
     "end_time": "2024-03-13T06:37:21.218812800Z",
     "start_time": "2024-03-13T06:37:21.007008Z"
    }
   },
   "id": "43616aef58ae016d",
   "execution_count": 19
  },
  {
   "cell_type": "code",
   "outputs": [
    {
     "name": "stderr",
     "output_type": "stream",
     "text": [
      "100%|██████████| 2000/2000 [04:40<00:00,  7.12it/s]\n",
      "100%|██████████| 400/400 [01:00<00:00,  6.66it/s]\n"
     ]
    }
   ],
   "source": [
    "if __name__ == \"__main__\":\n",
    "    c = np.linspace(0.5, 0.2, 16)\n",
    "    data4 = Classify(compression=4, t_total=12, t_steps=50, coef_pc=c, coef_pq=c\n",
    "             ).train(trainSize=2000, testSize=400, max_pool=12, onlyLast=True)"
   ],
   "metadata": {
    "collapsed": false,
    "ExecuteTime": {
     "end_time": "2024-03-13T06:44:58.639109100Z",
     "start_time": "2024-03-13T06:39:17.211911800Z"
    }
   },
   "id": "777d8282dbf1634",
   "execution_count": 25
  },
  {
   "cell_type": "code",
   "outputs": [
    {
     "name": "stderr",
     "output_type": "stream",
     "text": [
      "100%|██████████| 2000/2000 [00:00<00:00, 25567.15it/s]\n",
      "100%|██████████| 400/400 [00:00<00:00, 23535.41it/s]\n"
     ]
    },
    {
     "name": "stdout",
     "output_type": "stream",
     "text": [
      "Logistic Regression (Without Quantum processing) yields: 0.7\n",
      "Ridge Classifier (With Quantum processing) yields: 0.8175\n",
      "Ridge Classifier (With Quantum processing) yields: 0.8175\n"
     ]
    }
   ],
   "source": [
    "data4.process_rho()\n",
    "data4.score(q_alpha=1e-19, n_regressors=(\"Log\",), q_regressors=(\"Ridge\",))\n",
    "data4.score(q_alpha=0, n_regressors=(), q_regressors=(\"Ridge\",))"
   ],
   "metadata": {
    "collapsed": false,
    "ExecuteTime": {
     "end_time": "2024-03-13T06:44:59.245860600Z",
     "start_time": "2024-03-13T06:44:58.634760700Z"
    }
   },
   "id": "f26fc8715e053af9",
   "execution_count": 26
  },
  {
   "cell_type": "code",
   "outputs": [
    {
     "name": "stderr",
     "output_type": "stream",
     "text": [
      "100%|██████████| 2000/2000 [06:49<00:00,  4.88it/s]\n",
      "100%|██████████| 400/400 [01:26<00:00,  4.61it/s]\n"
     ]
    }
   ],
   "source": [
    "if __name__ == \"__main__\":\n",
    "    c = np.linspace(0.7, 0.1, 16)\n",
    "    data4 = Classify(compression=4, t_total=12, t_steps=50, coef_pc=c, coef_pq=c\n",
    "             ).train(trainSize=2000, testSize=400, max_pool=12, onlyLast=True)"
   ],
   "metadata": {
    "collapsed": false,
    "ExecuteTime": {
     "end_time": "2024-03-13T06:53:32.592571400Z",
     "start_time": "2024-03-13T06:45:15.978734300Z"
    }
   },
   "id": "41edbcf065995e9",
   "execution_count": 28
  },
  {
   "cell_type": "code",
   "outputs": [
    {
     "name": "stderr",
     "output_type": "stream",
     "text": [
      "100%|██████████| 2000/2000 [00:00<00:00, 28511.44it/s]\n",
      "100%|██████████| 400/400 [00:00<00:00, 22765.44it/s]\n"
     ]
    },
    {
     "name": "stdout",
     "output_type": "stream",
     "text": [
      "Logistic Regression (Without Quantum processing) yields: 0.7\n",
      "Ridge Classifier (With Quantum processing) yields: 0.81\n",
      "Ridge Classifier (With Quantum processing) yields: 0.81\n"
     ]
    }
   ],
   "source": [
    "data4.process_rho()\n",
    "data4.score(q_alpha=1e-19, n_regressors=(\"Log\",), q_regressors=(\"Ridge\",))\n",
    "data4.score(q_alpha=0, n_regressors=(), q_regressors=(\"Ridge\",))"
   ],
   "metadata": {
    "collapsed": false,
    "ExecuteTime": {
     "end_time": "2024-03-13T06:53:32.796338100Z",
     "start_time": "2024-03-13T06:53:32.593582800Z"
    }
   },
   "id": "a24dd7873f07b0bf",
   "execution_count": 29
  },
  {
   "cell_type": "code",
   "outputs": [
    {
     "name": "stderr",
     "output_type": "stream",
     "text": [
      "100%|██████████| 30000/30000 [06:26<00:00, 77.56it/s]  \n",
      "100%|██████████| 6000/6000 [01:27<00:00, 68.82it/s]\n"
     ]
    }
   ],
   "source": [
    "if __name__ == \"__main__\":\n",
    "    data10 = Classify(compression=10, t_total=12, t_steps=50, coef_pc=.25, coef_pq=.25\n",
    "             ).train(trainSize=30000, testSize=6000, max_pool=1)\n"
   ],
   "metadata": {
    "collapsed": false,
    "ExecuteTime": {
     "end_time": "2024-03-11T06:45:53.898682900Z",
     "start_time": "2024-03-11T06:37:59.839202900Z"
    }
   },
   "id": "3036c5ce50b81917",
   "execution_count": 4
  },
  {
   "cell_type": "code",
   "outputs": [
    {
     "name": "stderr",
     "output_type": "stream",
     "text": [
      "100%|██████████| 30000/30000 [02:52<00:00, 173.80it/s]\n",
      "100%|██████████| 6000/6000 [00:27<00:00, 218.93it/s]\n"
     ]
    },
    {
     "name": "stdout",
     "output_type": "stream",
     "text": [
      "Ridge Classifier (With Quantum processing) yields: 0.9241666666666667\n"
     ]
    }
   ],
   "source": [
    "data10.process(copies=2)\n",
    "data10.score(n_regressors=(), q_regressors=(\"Ridge\",))"
   ],
   "metadata": {
    "collapsed": false,
    "ExecuteTime": {
     "end_time": "2024-03-11T06:59:30.834425100Z",
     "start_time": "2024-03-11T06:55:55.384423100Z"
    }
   },
   "id": "a17ce015e1a00f26",
   "execution_count": 6
  },
  {
   "cell_type": "code",
   "outputs": [
    {
     "name": "stderr",
     "output_type": "stream",
     "text": [
      " 56%|█████▌    | 5610/10000 [08:26<41:19,  1.77it/s]  "
     ]
    }
   ],
   "source": [
    "if __name__ == \"__main__\":\n",
    "    data13 = Classify(compression=13, t_total=12, t_steps=50, coef_pc=.25, coef_pq=.25\n",
    "             ).train(trainSize=10000, testSize=2000, max_pool=13)"
   ],
   "metadata": {
    "collapsed": false,
    "is_executing": true,
    "ExecuteTime": {
     "start_time": "2024-03-12T03:03:31.053180400Z"
    }
   },
   "id": "aa01d358711826b2",
   "execution_count": null
  },
  {
   "cell_type": "code",
   "outputs": [],
   "source": [
    "data13.process(copies=8)\n",
    "data13.score(q_alpha=1e-19, n_regressors=(), q_regressors=(\"Ridge\",))\n",
    "data13.score(q_alpha=0, n_regressors=(), q_regressors=(\"Ridge\",))"
   ],
   "metadata": {
    "collapsed": false,
    "is_executing": true
   },
   "id": "a18d4fa43875d51b",
   "execution_count": null
  },
  {
   "cell_type": "code",
   "outputs": [],
   "source": [
    "data13.process(copies=4)\n",
    "data13.score(q_alpha=1e-19, n_regressors=(), q_regressors=(\"Ridge\",))\n",
    "data13.score(q_alpha=0, n_regressors=(), q_regressors=(\"Ridge\",))"
   ],
   "metadata": {
    "collapsed": false,
    "is_executing": true
   },
   "id": "7f5e53b1cbc22446",
   "execution_count": null
  },
  {
   "cell_type": "code",
   "outputs": [],
   "source": [
    "data13.process(copies=1)\n",
    "data13.score(q_alpha=1e-19, n_regressors=(), q_regressors=(\"Ridge\",))\n",
    "data13.score(q_alpha=0, n_regressors=(), q_regressors=(\"Ridge\",))"
   ],
   "metadata": {
    "collapsed": false,
    "is_executing": true
   },
   "id": "184a7acc040d9ab9",
   "execution_count": null
  },
  {
   "cell_type": "code",
   "outputs": [
    {
     "name": "stderr",
     "output_type": "stream",
     "text": [
      "100%|██████████| 20000/20000 [05:19<00:00, 62.53it/s] \n",
      "100%|██████████| 4000/4000 [00:21<00:00, 188.98it/s]\n"
     ]
    }
   ],
   "source": [
    "if __name__ == \"__main__\":\n",
    "    data28 = Classify(compression=28, t_total=12, t_steps=50, coef_pc=.25, coef_pq=.25\n",
    "             ).train(trainSize=20000, testSize=4000, max_pool=1)"
   ],
   "metadata": {
    "collapsed": false,
    "ExecuteTime": {
     "end_time": "2024-03-12T02:14:20.242751200Z",
     "start_time": "2024-03-12T02:08:38.939452900Z"
    }
   },
   "id": "227a58183af548b",
   "execution_count": 2
  },
  {
   "cell_type": "code",
   "outputs": [],
   "source": [
    "data28.process(copies=8)\n",
    "data28.score(q_alpha=1e-39, n_regressors=(\"Log\",), q_regressors=(\"Ridge\",))\n",
    "data28.score(q_alpha=0, n_regressors=(), q_regressors=(\"Ridge\",))"
   ],
   "metadata": {
    "collapsed": false,
    "is_executing": true
   },
   "id": "86d83038dd192f2c",
   "execution_count": null
  },
  {
   "cell_type": "code",
   "outputs": [
    {
     "name": "stderr",
     "output_type": "stream",
     "text": [
      "100%|██████████| 20000/20000 [15:44<00:00, 21.17it/s]\n",
      "100%|██████████| 4000/4000 [03:50<00:00, 17.33it/s]\n"
     ]
    },
    {
     "name": "stdout",
     "output_type": "stream",
     "text": [
      "Ridge Classifier (With Quantum processing) yields: 0.90825\n"
     ]
    }
   ],
   "source": [
    "data28.process(copies=16)\n",
    "data28.score(q_alpha=1e-39, n_regressors=(), q_regressors=(\"Ridge\",))\n",
    "data28.score(q_alpha=0, n_regressors=(), q_regressors=(\"Ridge\",))"
   ],
   "metadata": {
    "collapsed": false,
    "is_executing": true,
    "ExecuteTime": {
     "start_time": "2024-03-12T02:15:00.002582600Z"
    }
   },
   "id": "1687fc5ec920de98"
  },
  {
   "cell_type": "code",
   "outputs": [
    {
     "name": "stderr",
     "output_type": "stream",
     "text": [
      "100%|██████████| 20000/20000 [02:49<00:00, 117.86it/s]\n",
      "100%|██████████| 4000/4000 [00:35<00:00, 113.88it/s]\n"
     ]
    },
    {
     "name": "stdout",
     "output_type": "stream",
     "text": [
      "Logistic Regression (Without Quantum processing) yields: 0.89625\n",
      "Ridge Classifier (With Quantum processing) yields: 0.8545\n",
      "Ridge Classifier (With Quantum processing) yields: 0.85225\n"
     ]
    }
   ],
   "source": [
    "data28.process(copies=4)\n",
    "data28.score(q_alpha=1e-29, n_regressors=(\"Log\",), q_regressors=(\"Ridge\",))\n",
    "data28.score(q_alpha=0, n_regressors=(), q_regressors=(\"Ridge\",))"
   ],
   "metadata": {
    "collapsed": false,
    "ExecuteTime": {
     "end_time": "2024-03-11T20:33:58.187274600Z",
     "start_time": "2024-03-11T20:29:28.092754500Z"
    }
   },
   "id": "ad18f8642d599972",
   "execution_count": 6
  },
  {
   "cell_type": "code",
   "outputs": [
    {
     "name": "stderr",
     "output_type": "stream",
     "text": [
      "100%|██████████| 20000/20000 [00:43<00:00, 464.11it/s]\n",
      "100%|██████████| 4000/4000 [00:08<00:00, 458.46it/s]\n"
     ]
    },
    {
     "name": "stdout",
     "output_type": "stream",
     "text": [
      "Logistic Regression (Without Quantum processing) yields: 0.89625\n",
      "Ridge Classifier (With Quantum processing) yields: 0.7415\n",
      "Ridge Classifier (With Quantum processing) yields: 0.73825\n"
     ]
    }
   ],
   "source": [
    "data28.process(copies=1)\n",
    "data28.score(q_alpha=1e-29, n_regressors=(\"Log\",), q_regressors=(\"Ridge\",))\n",
    "data28.score(q_alpha=0, n_regressors=(), q_regressors=(\"Ridge\",))"
   ],
   "metadata": {
    "collapsed": false,
    "ExecuteTime": {
     "end_time": "2024-03-11T20:35:13.527272200Z",
     "start_time": "2024-03-11T20:33:58.190453500Z"
    }
   },
   "id": "838768cd3bbebfa9",
   "execution_count": 7
  }
 ],
 "metadata": {
  "kernelspec": {
   "display_name": "Python 3",
   "language": "python",
   "name": "python3"
  },
  "language_info": {
   "codemirror_mode": {
    "name": "ipython",
    "version": 2
   },
   "file_extension": ".py",
   "mimetype": "text/x-python",
   "name": "python",
   "nbconvert_exporter": "python",
   "pygments_lexer": "ipython2",
   "version": "2.7.6"
  }
 },
 "nbformat": 4,
 "nbformat_minor": 5
}

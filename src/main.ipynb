{
 "cells": [
  {
   "cell_type": "code",
   "outputs": [],
   "source": [
    "# TODO: CREATE VISUALS FOR IMAGES"
   ],
   "metadata": {
    "collapsed": false,
    "ExecuteTime": {
     "end_time": "2024-04-03T02:39:55.578313100Z",
     "start_time": "2024-04-03T02:39:55.570762Z"
    }
   },
   "id": "2d200ab298dde1f7",
   "execution_count": 1
  },
  {
   "cell_type": "code",
   "outputs": [],
   "source": [
    "''' DEFAULT PARAMETERS\n",
    "# Hamiltonian parameters\n",
    "N = 20\n",
    "g = 1\n",
    "\n",
    "# Time parameters of evolution\n",
    "t_total = 12\n",
    "t_steps = 50\n",
    "\n",
    "# Coefficients of pump\n",
    "coef_pc = 0.25\n",
    "coef_pq = 0.25\n",
    "\n",
    "# Wigner Range\n",
    "xRange = (-2.5, 2)\n",
    "yRange=(-2, 4.5)\n",
    "'''\n",
    "import src.encoding.classify as cl\n",
    "import src.encoding.evolution as el\n",
    "import importlib\n",
    "importlib.reload(cl)\n",
    "importlib.reload(el)\n",
    "from src.encoding.classify import Classify\n",
    "import numpy as np\n",
    "from IPython.display import clear_output\n",
    "from tqdm import tqdm\n",
    "from qutip import *\n",
    "import matplotlib.pyplot as plt\n",
    "from scipy.optimize import minimize\n"
   ],
   "metadata": {
    "collapsed": true,
    "ExecuteTime": {
     "end_time": "2024-04-04T07:56:52.023400400Z",
     "start_time": "2024-04-04T07:56:52.012765800Z"
    }
   },
   "id": "initial_id",
   "execution_count": 86
  },
  {
   "cell_type": "markdown",
   "source": [
    "# 4x4"
   ],
   "metadata": {
    "collapsed": false
   },
   "id": "bb2903f67a5972ec"
  },
  {
   "cell_type": "code",
   "outputs": [
    {
     "name": "stdout",
     "output_type": "stream",
     "text": [
      "Retrieving datasets...\n"
     ]
    },
    {
     "name": "stderr",
     "output_type": "stream",
     "text": [
      "100%|██████████| 3000/3000 [00:00<00:00, 6040.47it/s]\n",
      "100%|██████████| 750/750 [00:00<00:00, 4381.39it/s]\n"
     ]
    },
    {
     "name": "stdout",
     "output_type": "stream",
     "text": [
      "Evolving Hamiltonians for each Image...\n"
     ]
    },
    {
     "name": "stderr",
     "output_type": "stream",
     "text": [
      "100%|██████████| 3000/3000 [15:27<00:00,  3.23it/s]  \n",
      " 86%|████████▌ | 642/750 [03:39<00:46,  2.34it/s]  "
     ]
    }
   ],
   "source": [
    "c = 0.238*1e6\n",
    "data = Classify(compression=4, t_total=2*1e-6, pc_real=c, pq_real=c, nsteps=2000, intervals=5, N=11\n",
    "                 ).train(trainSize=3000, testSize=750, max_pool=13)\n",
    "data.scoreR()"
   ],
   "metadata": {
    "collapsed": false,
    "is_executing": true,
    "ExecuteTime": {
     "start_time": "2024-04-04T07:56:52.608787700Z"
    }
   },
   "id": "ae654c2d81b0ad24",
   "execution_count": null
  },
  {
   "cell_type": "code",
   "outputs": [
    {
     "name": "stdout",
     "output_type": "stream",
     "text": [
      "Retrieving datasets...\n"
     ]
    },
    {
     "name": "stderr",
     "output_type": "stream",
     "text": [
      "100%|██████████| 4000/4000 [00:01<00:00, 2679.93it/s]\n",
      "100%|██████████| 1000/1000 [00:00<00:00, 4728.80it/s]\n"
     ]
    },
    {
     "name": "stdout",
     "output_type": "stream",
     "text": [
      "Evolving Hamiltonians for each Image...\n"
     ]
    },
    {
     "name": "stderr",
     "output_type": "stream",
     "text": [
      "100%|██████████| 4000/4000 [02:11<00:00, 30.52it/s]\n",
      "100%|██████████| 1000/1000 [00:30<00:00, 32.45it/s]\n"
     ]
    },
    {
     "name": "stdout",
     "output_type": "stream",
     "text": [
      "Vectorizing quantum states...\n"
     ]
    },
    {
     "name": "stderr",
     "output_type": "stream",
     "text": [
      "100%|██████████| 4000/4000 [04:02<00:00, 16.49it/s]\n",
      "100%|██████████| 1000/1000 [01:01<00:00, 16.27it/s]\n",
      "C:\\Users\\phant\\PycharmProjects\\qced-encoding\\.venv2\\Lib\\site-packages\\sklearn\\linear_model\\_ridge.py:204: LinAlgWarning: Ill-conditioned matrix (rcond=8.3029e-17): result may not be accurate.\n",
      "  return linalg.solve(A, Xy, assume_a=\"pos\", overwrite_a=True).T\n"
     ]
    },
    {
     "data": {
      "text/plain": "0.883"
     },
     "execution_count": 19,
     "metadata": {},
     "output_type": "execute_result"
    }
   ],
   "source": [
    "c = 0.238*1e6\n",
    "data = Classify(compression=4, t_total=2*1e-6, pc_real=c, pq_real=c, nsteps=2000, intervals=5, N=11, g=1.4*1e6\n",
    "                 ).train(trainSize=4000, testSize=1000, max_pool=13)\n",
    "data.process_disp()\n",
    "data.scoreR()"
   ],
   "metadata": {
    "collapsed": false,
    "ExecuteTime": {
     "end_time": "2024-04-03T05:03:22.725606600Z",
     "start_time": "2024-04-03T04:55:30.408850100Z"
    }
   },
   "id": "35bc599fd1989d9e",
   "execution_count": 19
  },
  {
   "cell_type": "code",
   "outputs": [
    {
     "name": "stdout",
     "output_type": "stream",
     "text": [
      "Vectorizing quantum states...\n"
     ]
    },
    {
     "name": "stderr",
     "output_type": "stream",
     "text": [
      "100%|██████████| 4000/4000 [00:00<00:00, 4463.37it/s]\n",
      "100%|██████████| 1000/1000 [00:00<00:00, 4623.31it/s]\n",
      "C:\\Users\\phant\\PycharmProjects\\qced-encoding\\.venv2\\Lib\\site-packages\\sklearn\\linear_model\\_ridge.py:204: LinAlgWarning: Ill-conditioned matrix (rcond=2.32835e-18): result may not be accurate.\n",
      "  return linalg.solve(A, Xy, assume_a=\"pos\", overwrite_a=True).T\n"
     ]
    },
    {
     "data": {
      "text/plain": "0.897"
     },
     "execution_count": 20,
     "metadata": {},
     "output_type": "execute_result"
    }
   ],
   "source": [
    "data.process_rho()\n",
    "data.scoreR()"
   ],
   "metadata": {
    "collapsed": false,
    "ExecuteTime": {
     "end_time": "2024-04-03T05:03:42.944725900Z",
     "start_time": "2024-04-03T05:03:38.866522600Z"
    }
   },
   "id": "4b4816c0c6d5f37a",
   "execution_count": 20
  },
  {
   "cell_type": "code",
   "outputs": [
    {
     "name": "stdout",
     "output_type": "stream",
     "text": [
      "Retrieving datasets...\n"
     ]
    },
    {
     "name": "stderr",
     "output_type": "stream",
     "text": [
      "100%|██████████| 4000/4000 [00:01<00:00, 2509.25it/s]\n",
      "100%|██████████| 1000/1000 [00:00<00:00, 2324.49it/s]\n"
     ]
    },
    {
     "name": "stdout",
     "output_type": "stream",
     "text": [
      "Evolving Hamiltonians for each Image...\n"
     ]
    },
    {
     "name": "stderr",
     "output_type": "stream",
     "text": [
      "100%|██████████| 4000/4000 [02:14<00:00, 29.77it/s]\n",
      "100%|██████████| 1000/1000 [00:41<00:00, 24.18it/s]\n"
     ]
    },
    {
     "name": "stdout",
     "output_type": "stream",
     "text": [
      "Vectorizing quantum states...\n"
     ]
    },
    {
     "name": "stderr",
     "output_type": "stream",
     "text": [
      "100%|██████████| 4000/4000 [04:10<00:00, 16.00it/s]\n",
      "100%|██████████| 1000/1000 [01:01<00:00, 16.18it/s]\n",
      "C:\\Users\\phant\\PycharmProjects\\qced-encoding\\.venv2\\Lib\\site-packages\\sklearn\\linear_model\\_ridge.py:204: LinAlgWarning: Ill-conditioned matrix (rcond=8.38777e-17): result may not be accurate.\n",
      "  return linalg.solve(A, Xy, assume_a=\"pos\", overwrite_a=True).T\n"
     ]
    },
    {
     "name": "stdout",
     "output_type": "stream",
     "text": [
      "0.875\n"
     ]
    }
   ],
   "source": [
    "c = 0.238*1e6\n",
    "m = []\n",
    "for i in range(1):\n",
    "    data = Classify(compression=4, t_total=2*1e-6, pc_real=c, pq_real=c, nsteps=2000, intervals=5, N=11, g=1.4*1e6\n",
    "                 ).train(trainSize=4000, testSize=1000, max_pool=13)\n",
    "    data.process_disp()\n",
    "    m.append(data.scoreR())\n",
    "m=np.array(m)\n",
    "print(m.mean())"
   ],
   "metadata": {
    "collapsed": false,
    "ExecuteTime": {
     "end_time": "2024-04-03T06:40:27.842203Z",
     "start_time": "2024-04-03T06:32:13.497789500Z"
    }
   },
   "id": "72e0d9ae67e11019",
   "execution_count": 28
  },
  {
   "cell_type": "code",
   "outputs": [
    {
     "name": "stdout",
     "output_type": "stream",
     "text": [
      "Vectorizing quantum states...\n"
     ]
    },
    {
     "name": "stderr",
     "output_type": "stream",
     "text": [
      "100%|██████████| 4000/4000 [00:00<00:00, 4924.96it/s]\n",
      "100%|██████████| 1000/1000 [00:00<00:00, 4785.65it/s]\n",
      "C:\\Users\\phant\\PycharmProjects\\qced-encoding\\.venv2\\Lib\\site-packages\\sklearn\\linear_model\\_ridge.py:204: LinAlgWarning: Ill-conditioned matrix (rcond=2.66642e-18): result may not be accurate.\n",
      "  return linalg.solve(A, Xy, assume_a=\"pos\", overwrite_a=True).T\n"
     ]
    },
    {
     "data": {
      "text/plain": "0.869"
     },
     "execution_count": 17,
     "metadata": {},
     "output_type": "execute_result"
    }
   ],
   "source": [
    "data.process_rho()\n",
    "data.scoreR()"
   ],
   "metadata": {
    "collapsed": false,
    "ExecuteTime": {
     "end_time": "2024-04-03T04:54:20.630737800Z",
     "start_time": "2024-04-03T04:54:16.508981400Z"
    }
   },
   "id": "66848918543846b",
   "execution_count": 17
  },
  {
   "cell_type": "code",
   "outputs": [],
   "source": [
    "c = 0.238*1e6\n",
    "data = Classify(compression=4, t_total=2*1e-6, pc_real=c, pq_real=c, nsteps=1000, intervals=4, N=12, g=1.4*1e6\n",
    "                 ).train(trainSize=60000, testSize=10000, max_pool=13).process_rho()\n",
    "data.score(q_alpha=1e-9, n_regressors=(\"Log\",), q_regressors=(\"Ridge\",))\n",
    "data.score(q_alpha=1e-15, n_regressors=(), q_regressors=(\"Ridge\",))\n",
    "data.score(q_alpha=1e-19, n_regressors=(), q_regressors=(\"Ridge\",))\n",
    "data.score(q_alpha=1e-24, n_regressors=(), q_regressors=(\"Ridge\",))\n",
    "data.score(q_alpha=0, n_regressors=(), q_regressors=(\"Ridge\",))"
   ],
   "metadata": {
    "collapsed": false,
    "ExecuteTime": {
     "start_time": "2024-03-19T03:53:13.764462500Z"
    }
   },
   "id": "618c6dc0ea106d1",
   "execution_count": null
  },
  {
   "cell_type": "code",
   "outputs": [
    {
     "name": "stderr",
     "output_type": "stream",
     "text": [
      "100%|██████████| 8000/8000 [01:44<00:00, 76.83it/s]\n",
      "100%|██████████| 2000/2000 [00:25<00:00, 77.29it/s]\n",
      "100%|██████████| 8000/8000 [00:01<00:00, 6339.79it/s]\n",
      "100%|██████████| 2000/2000 [00:00<00:00, 6964.86it/s]\n"
     ]
    },
    {
     "name": "stdout",
     "output_type": "stream",
     "text": [
      "Logistic Regression (Without Quantum processing) yields: 0.792\n",
      "Ridge Classifier (With Quantum processing) yields: 0.877\n",
      "Ridge Classifier (With Quantum processing) yields: 0.893\n"
     ]
    },
    {
     "name": "stderr",
     "output_type": "stream",
     "text": [
      "C:\\Users\\phant\\PycharmProjects\\qced-encoding\\.venv2\\Lib\\site-packages\\sklearn\\linear_model\\_ridge.py:204: LinAlgWarning: Ill-conditioned matrix (rcond=1.1478e-19): result may not be accurate.\n",
      "  return linalg.solve(A, Xy, assume_a=\"pos\", overwrite_a=True).T\n"
     ]
    },
    {
     "name": "stdout",
     "output_type": "stream",
     "text": [
      "Ridge Classifier (With Quantum processing) yields: 0.8975\n",
      "Ridge Classifier (With Quantum processing) yields: 0.8965\n",
      "Ridge Classifier (With Quantum processing) yields: 0.8985\n"
     ]
    }
   ],
   "source": [
    "c = 0.238*1e6\n",
    "data = Classify(compression=4, t_total=2*1e-6, pc_real=c, pq_real=c, nsteps=1000, intervals=4, N=11, g=1.4*1e6\n",
    "                 ).train(trainSize=8000, testSize=2000, max_pool=13).process_rho()\n",
    "data.score(q_alpha=1e-9, n_regressors=(\"Log\",), q_regressors=(\"Ridge\",))\n",
    "data.score(q_alpha=1e-15, n_regressors=(), q_regressors=(\"Ridge\",))\n",
    "data.score(q_alpha=1e-19, n_regressors=(), q_regressors=(\"Ridge\",))\n",
    "data.score(q_alpha=1e-24, n_regressors=(), q_regressors=(\"Ridge\",))\n",
    "data.score(q_alpha=0, n_regressors=(), q_regressors=(\"Ridge\",))"
   ],
   "metadata": {
    "collapsed": false,
    "ExecuteTime": {
     "end_time": "2024-03-18T08:37:23.464251300Z",
     "start_time": "2024-03-18T08:35:08.641859Z"
    }
   },
   "id": "4c1ea0a5b9f781d6",
   "execution_count": 68
  },
  {
   "cell_type": "markdown",
   "source": [
    "# 13x13"
   ],
   "metadata": {
    "collapsed": false
   },
   "id": "2e7441f827f13fe2"
  }
 ],
 "metadata": {
  "kernelspec": {
   "display_name": "Python 3",
   "language": "python",
   "name": "python3"
  },
  "language_info": {
   "codemirror_mode": {
    "name": "ipython",
    "version": 2
   },
   "file_extension": ".py",
   "mimetype": "text/x-python",
   "name": "python",
   "nbconvert_exporter": "python",
   "pygments_lexer": "ipython2",
   "version": "2.7.6"
  }
 },
 "nbformat": 4,
 "nbformat_minor": 5
}

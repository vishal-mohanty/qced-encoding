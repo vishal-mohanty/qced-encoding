{
 "cells": [
  {
   "cell_type": "code",
   "outputs": [],
   "source": [
    "# TODO: REPORT STATS, DYNAMIC DATASETS (SIGH)"
   ],
   "metadata": {
    "collapsed": false
   },
   "id": "2d200ab298dde1f7"
  },
  {
   "cell_type": "code",
   "outputs": [],
   "source": [
    "''' DEFAULT PARAMETERS\n",
    "# Hamiltonian parameters\n",
    "N = 20\n",
    "g = 1\n",
    "\n",
    "# Time parameters of evolution\n",
    "t_total = 12\n",
    "t_steps = 50\n",
    "\n",
    "# Coefficients of pump\n",
    "coef_pc = 0.25\n",
    "coef_pq = 0.25\n",
    "\n",
    "# Wigner Range\n",
    "xRange = (-2.5, 2)\n",
    "yRange=(-2, 4.5)\n",
    "'''\n",
    "import src.encoding.classify as cl\n",
    "import src.encoding.evolution as el\n",
    "import importlib\n",
    "importlib.reload(cl)\n",
    "importlib.reload(el)\n",
    "from src.encoding.classify import Classify\n",
    "import numpy as np"
   ],
   "metadata": {
    "collapsed": true,
    "ExecuteTime": {
     "end_time": "2024-03-14T10:34:47.550396Z",
     "start_time": "2024-03-14T10:34:47.539162100Z"
    }
   },
   "id": "initial_id",
   "execution_count": 65
  },
  {
   "cell_type": "markdown",
   "source": [
    "# 4x4"
   ],
   "metadata": {
    "collapsed": false
   },
   "id": "bb2903f67a5972ec"
  },
  {
   "cell_type": "code",
   "outputs": [],
   "source": [
    "n=4"
   ],
   "metadata": {
    "collapsed": false,
    "ExecuteTime": {
     "end_time": "2024-03-14T10:37:36.683273700Z",
     "start_time": "2024-03-14T10:37:36.671754400Z"
    }
   },
   "id": "580e1968c1b8ee26",
   "execution_count": 70
  },
  {
   "cell_type": "code",
   "outputs": [],
   "source": [
    "trainSize=20000\n",
    "testSize=4000"
   ],
   "metadata": {
    "collapsed": false,
    "ExecuteTime": {
     "end_time": "2024-03-14T10:37:36.857427600Z",
     "start_time": "2024-03-14T10:37:36.852530500Z"
    }
   },
   "id": "3a254f372c2e9239",
   "execution_count": 71
  },
  {
   "cell_type": "code",
   "outputs": [
    {
     "name": "stderr",
     "output_type": "stream",
     "text": [
      "100%|██████████| 20000/20000 [05:03<00:00, 65.81it/s]\n",
      "100%|██████████| 4000/4000 [01:00<00:00, 66.08it/s]\n",
      "100%|██████████| 20000/20000 [00:00<00:00, 25884.25it/s]\n",
      "100%|██████████| 4000/4000 [00:00<00:00, 24149.05it/s]\n"
     ]
    },
    {
     "name": "stdout",
     "output_type": "stream",
     "text": [
      "Logistic Regression (Without Quantum processing) yields: 0.8105\n",
      "Ridge Classifier (With Quantum processing) yields: 0.8275\n"
     ]
    },
    {
     "name": "stderr",
     "output_type": "stream",
     "text": [
      "C:\\Users\\phant\\PycharmProjects\\qced-encoding\\.venv2\\Lib\\site-packages\\sklearn\\linear_model\\_ridge.py:204: LinAlgWarning: Ill-conditioned matrix (rcond=5.70715e-17): result may not be accurate.\n",
      "  return linalg.solve(A, Xy, assume_a=\"pos\", overwrite_a=True).T\n"
     ]
    },
    {
     "name": "stdout",
     "output_type": "stream",
     "text": [
      "Ridge Classifier (With Quantum processing) yields: 0.8365\n",
      "Ridge Classifier (With Quantum processing) yields: 0.84225\n",
      "Ridge Classifier (With Quantum processing) yields: 0.84575\n"
     ]
    }
   ],
   "source": [
    "c = 0.25\n",
    "datag = Classify(compression=n, t_total=12, coef_pc=c, coef_pq=c, nsteps=1000, matrix=True\n",
    "         ).train(trainSize=trainSize, testSize=testSize, max_pool=13)\n",
    "datag.process_rho()\n",
    "datag.score(q_alpha=1e-12, n_regressors=(\"Log\",), q_regressors=(\"Ridge\",))\n",
    "datag.score(q_alpha=1e-15, n_regressors=(), q_regressors=(\"Ridge\",))\n",
    "datag.score(q_alpha=1e-19, n_regressors=(), q_regressors=(\"Ridge\",))\n",
    "datag.score(q_alpha=1e-24, n_regressors=(), q_regressors=(\"Ridge\",))"
   ],
   "metadata": {
    "collapsed": false,
    "ExecuteTime": {
     "end_time": "2024-03-14T10:43:46.217144300Z",
     "start_time": "2024-03-14T10:37:37.051547Z"
    }
   },
   "id": "77c9fbeb5f2d3df6",
   "execution_count": 72
  },
  {
   "cell_type": "code",
   "outputs": [
    {
     "name": "stderr",
     "output_type": "stream",
     "text": [
      "100%|██████████| 20000/20000 [05:07<00:00, 64.96it/s]\n",
      "100%|██████████| 4000/4000 [01:00<00:00, 66.29it/s]\n",
      "100%|██████████| 20000/20000 [00:00<00:00, 27333.07it/s]\n",
      "100%|██████████| 4000/4000 [00:00<00:00, 25631.09it/s]\n"
     ]
    },
    {
     "name": "stdout",
     "output_type": "stream",
     "text": [
      "Logistic Regression (Without Quantum processing) yields: 0.808\n",
      "Ridge Classifier (With Quantum processing) yields: 0.83075\n"
     ]
    },
    {
     "name": "stderr",
     "output_type": "stream",
     "text": [
      "C:\\Users\\phant\\PycharmProjects\\qced-encoding\\.venv2\\Lib\\site-packages\\sklearn\\linear_model\\_ridge.py:204: LinAlgWarning: Ill-conditioned matrix (rcond=7.89722e-17): result may not be accurate.\n",
      "  return linalg.solve(A, Xy, assume_a=\"pos\", overwrite_a=True).T\n"
     ]
    },
    {
     "name": "stdout",
     "output_type": "stream",
     "text": [
      "Ridge Classifier (With Quantum processing) yields: 0.8395\n",
      "Ridge Classifier (With Quantum processing) yields: 0.84525\n",
      "Ridge Classifier (With Quantum processing) yields: 0.84875\n"
     ]
    }
   ],
   "source": [
    "c = 0.25\n",
    "data = Classify(compression=n, t_total=12, coef_pc=c, coef_pq=c, nsteps=1000\n",
    "         ).train(trainSize=trainSize, testSize=testSize, max_pool=13)\n",
    "data.process_rho()\n",
    "data.score(q_alpha=1e-12, n_regressors=(\"Log\",), q_regressors=(\"Ridge\",))\n",
    "data.score(q_alpha=1e-15, n_regressors=(), q_regressors=(\"Ridge\",))\n",
    "data.score(q_alpha=1e-19, n_regressors=(), q_regressors=(\"Ridge\",))\n",
    "data.score(q_alpha=1e-24, n_regressors=(), q_regressors=(\"Ridge\",))"
   ],
   "metadata": {
    "collapsed": false,
    "ExecuteTime": {
     "end_time": "2024-03-14T10:49:59.794080200Z",
     "start_time": "2024-03-14T10:43:46.213978200Z"
    }
   },
   "id": "34f7ee5b9f34f17",
   "execution_count": 73
  },
  {
   "cell_type": "code",
   "outputs": [
    {
     "name": "stdout",
     "output_type": "stream",
     "text": [
      "Logistic Regression (Without Quantum processing) yields: 0.791\n",
      "Ridge Classifier (With Quantum processing) yields: 0.873\n"
     ]
    }
   ],
   "source": [],
   "metadata": {
    "collapsed": false,
    "ExecuteTime": {
     "end_time": "2024-03-14T09:42:39.225330900Z",
     "start_time": "2024-03-14T09:42:28.812095Z"
    }
   },
   "id": "b1016568f4f0a27f",
   "execution_count": 36
  },
  {
   "cell_type": "markdown",
   "source": [
    "# 7x7"
   ],
   "metadata": {
    "collapsed": false
   },
   "id": "643c217ddab5879f"
  },
  {
   "cell_type": "markdown",
   "source": [
    "# 10x10"
   ],
   "metadata": {
    "collapsed": false
   },
   "id": "2e7441f827f13fe2"
  },
  {
   "cell_type": "markdown",
   "source": [
    "# 28x28"
   ],
   "metadata": {
    "collapsed": false
   },
   "id": "63d42c67cbb9716a"
  }
 ],
 "metadata": {
  "kernelspec": {
   "display_name": "Python 3",
   "language": "python",
   "name": "python3"
  },
  "language_info": {
   "codemirror_mode": {
    "name": "ipython",
    "version": 2
   },
   "file_extension": ".py",
   "mimetype": "text/x-python",
   "name": "python",
   "nbconvert_exporter": "python",
   "pygments_lexer": "ipython2",
   "version": "2.7.6"
  }
 },
 "nbformat": 4,
 "nbformat_minor": 5
}

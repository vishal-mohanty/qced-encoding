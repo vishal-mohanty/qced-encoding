{
 "cells": [
  {
   "cell_type": "code",
   "outputs": [],
   "source": [
    "# TODO: CREATE VISUALS FOR IMAGES\n",
    "# TODO: Ridge regression, alpha = 0"
   ],
   "metadata": {
    "collapsed": false
   },
   "id": "2d200ab298dde1f7",
   "execution_count": null
  },
  {
   "cell_type": "code",
   "outputs": [],
   "source": [
    "''' DEFAULT PARAMETERS\n",
    "# Hamiltonian parameters\n",
    "N = 11\n",
    "\n",
    "# Time parameters of evolution\n",
    "t_total = 2e-6\n",
    "nsteps = 2000\n",
    "\n",
    "# Coefficients of pump\n",
    "pc_real = 0.238e6\n",
    "pq_real = 0.238e6\n",
    "\n",
    "'''\n",
    "import matplotlib\n",
    "matplotlib.use('Qt5Agg') \n",
    "import src.encoding.classify as cl\n",
    "import src.encoding.evolution as el\n",
    "import importlib\n",
    "importlib.reload(cl)\n",
    "importlib.reload(el)\n",
    "from src.encoding.classify import Classify\n",
    "import numpy as np\n",
    "from helper_functions import *\n",
    "import helper_functions as hf\n",
    "import TK_basics as tk\n",
    "importlib.reload(hf)\n",
    "importlib.reload(tk)\n",
    "from TK_basics import *\n",
    "from multiprocess.pool import Pool\n",
    "from sklearn.linear_model import LogisticRegressionCV, RidgeClassifier, LogisticRegression\n",
    "import pickle"
   ],
   "metadata": {
    "collapsed": true,
    "ExecuteTime": {
     "end_time": "2024-06-03T01:59:18.171665Z",
     "start_time": "2024-06-03T01:59:01.024700200Z"
    }
   },
   "id": "initial_id",
   "execution_count": 1
  },
  {
   "cell_type": "markdown",
   "source": [
    "# mnist"
   ],
   "metadata": {
    "collapsed": false
   },
   "id": "bb2903f67a5972ec"
  },
  {
   "cell_type": "markdown",
   "source": [
    "# N = 16"
   ],
   "metadata": {
    "collapsed": false
   },
   "id": "d0b5008355f973d5"
  },
  {
   "cell_type": "code",
   "outputs": [],
   "source": [
    "# TODO: x = 0.175e6, tt = 18e-6 works best so far\n",
    "\n",
    "# TODO: CHECK x = 0.175e6 to 0.18e6, tt = 17e-6 to 18e-6\n",
    "\n",
    "# TODO: PNS WITHOUT TRACE\n",
    "\n",
    "# TODO: STD SHLD BE IN CLASSIFY\n",
    "\n",
    "# TODO: TRY DYNAMIQS\n",
    "\n",
    "# TODO: ORGANISE CODE\n",
    "\n",
    "# TODO: PLOT WIGNER"
   ],
   "metadata": {
    "collapsed": false,
    "ExecuteTime": {
     "end_time": "2024-05-30T07:00:15.179600600Z",
     "start_time": "2024-05-30T07:00:15.175323800Z"
    }
   },
   "id": "8b29094a12908723",
   "execution_count": 73
  },
  {
   "cell_type": "code",
   "outputs": [
    {
     "name": "stdout",
     "output_type": "stream",
     "text": [
      "Retrieving datasets...\n"
     ]
    },
    {
     "name": "stderr",
     "output_type": "stream",
     "text": [
      "100%|██████████| 4000/4000 [00:00<00:00, 4884.66it/s]\n",
      "100%|██████████| 1000/1000 [00:00<00:00, 4407.57it/s]\n"
     ]
    },
    {
     "name": "stdout",
     "output_type": "stream",
     "text": [
      "Evolving Hamiltonians for each Image...\n"
     ]
    },
    {
     "name": "stderr",
     "output_type": "stream",
     "text": [
      "100%|██████████| 4000/4000 [03:44<00:00, 17.86it/s]\n",
      "100%|██████████| 1000/1000 [00:50<00:00, 19.77it/s]\n",
      "100%|██████████| 4000/4000 [00:11<00:00, 357.46it/s]\n",
      "100%|██████████| 1000/1000 [00:04<00:00, 217.22it/s]\n"
     ]
    },
    {
     "name": "stdout",
     "output_type": "stream",
     "text": [
      "std=0:  0.867\n"
     ]
    },
    {
     "name": "stderr",
     "output_type": "stream",
     "text": [
      "100%|██████████| 4000/4000 [00:11<00:00, 347.98it/s]\n",
      "100%|██████████| 1000/1000 [00:04<00:00, 217.79it/s]\n"
     ]
    },
    {
     "name": "stdout",
     "output_type": "stream",
     "text": [
      "samples=1000:  0.814\n"
     ]
    },
    {
     "name": "stderr",
     "output_type": "stream",
     "text": [
      "100%|██████████| 4000/4000 [00:11<00:00, 345.69it/s]\n",
      "100%|██████████| 1000/1000 [00:04<00:00, 216.91it/s]"
     ]
    },
    {
     "name": "stdout",
     "output_type": "stream",
     "text": [
      "samples=10000:  0.854\n"
     ]
    },
    {
     "name": "stderr",
     "output_type": "stream",
     "text": [
      "\n"
     ]
    },
    {
     "data": {
      "text/plain": "0.854"
     },
     "execution_count": 3,
     "metadata": {},
     "output_type": "execute_result"
    }
   ],
   "source": [
    "split=2\n",
    "cdim=13\n",
    "dm=10\n",
    "nsteps=5000\n",
    "x = .175e6\n",
    "tt = 18e-6\n",
    "data = Classify(compression=16, t_total= tt, pc_imag=x, pq_imag=x, nsteps=nsteps, \n",
    "                        intervals=split, cdim=cdim, dm=dm, measurement='pns trace', c_ops=True, anharm=False, ffilter=False,\n",
    "                                 method=\"2qubit\").train(trainSize=4000, testSize=1000, max_pool=13)\n",
    "std(data, 0)\n",
    "std(data, 1000)\n",
    "std(data, 10000)"
   ],
   "metadata": {
    "collapsed": false,
    "ExecuteTime": {
     "end_time": "2024-05-31T02:31:35.016051Z",
     "start_time": "2024-05-31T02:26:09.035161600Z"
    }
   },
   "id": "6ba22f55e12bd520",
   "execution_count": 3
  },
  {
   "cell_type": "code",
   "outputs": [
    {
     "name": "stdout",
     "output_type": "stream",
     "text": [
      "Retrieving datasets...\n"
     ]
    },
    {
     "name": "stderr",
     "output_type": "stream",
     "text": [
      "100%|██████████| 4000/4000 [00:00<00:00, 4963.83it/s]\n",
      "100%|██████████| 1000/1000 [00:00<00:00, 4757.67it/s]\n"
     ]
    },
    {
     "name": "stdout",
     "output_type": "stream",
     "text": [
      "Evolving Hamiltonians for each Image...\n"
     ]
    },
    {
     "name": "stderr",
     "output_type": "stream",
     "text": [
      "100%|██████████| 4000/4000 [05:31<00:00, 12.08it/s]\n",
      "100%|██████████| 1000/1000 [01:19<00:00, 12.60it/s]\n",
      "100%|██████████| 4000/4000 [00:19<00:00, 205.05it/s]\n",
      "100%|██████████| 1000/1000 [00:06<00:00, 149.64it/s]\n"
     ]
    },
    {
     "name": "stdout",
     "output_type": "stream",
     "text": [
      "std=0:  0.912\n"
     ]
    },
    {
     "name": "stderr",
     "output_type": "stream",
     "text": [
      "100%|██████████| 4000/4000 [00:19<00:00, 207.00it/s]\n",
      "100%|██████████| 1000/1000 [00:06<00:00, 149.93it/s]\n"
     ]
    },
    {
     "name": "stdout",
     "output_type": "stream",
     "text": [
      "samples=1000:  0.85\n"
     ]
    },
    {
     "name": "stderr",
     "output_type": "stream",
     "text": [
      "100%|██████████| 4000/4000 [00:19<00:00, 206.85it/s]\n",
      "100%|██████████| 1000/1000 [00:06<00:00, 149.78it/s]\n"
     ]
    },
    {
     "name": "stdout",
     "output_type": "stream",
     "text": [
      "samples=10000:  0.903\n"
     ]
    },
    {
     "data": {
      "text/plain": "0.903"
     },
     "execution_count": 4,
     "metadata": {},
     "output_type": "execute_result"
    }
   ],
   "source": [
    "split=4\n",
    "cdim=13\n",
    "dm=10\n",
    "nsteps=5000\n",
    "x = .175e6\n",
    "tt = 18e-6\n",
    "data = Classify(compression=16, t_total= tt, pc_imag=x, pq_imag=x, nsteps=nsteps, \n",
    "                        intervals=split, cdim=cdim, dm=dm, measurement='pns trace', c_ops=True, anharm=False, ffilter=False,\n",
    "                                 method=\"2qubit\").train(trainSize=4000, testSize=1000, max_pool=13)\n",
    "std(data, 0)\n",
    "std(data, 1000)\n",
    "std(data, 10000)"
   ],
   "metadata": {
    "collapsed": false,
    "ExecuteTime": {
     "end_time": "2024-05-31T02:39:47.234375600Z",
     "start_time": "2024-05-31T02:31:35.012588100Z"
    }
   },
   "id": "661c2b8c08425175",
   "execution_count": 4
  },
  {
   "cell_type": "code",
   "outputs": [
    {
     "name": "stdout",
     "output_type": "stream",
     "text": [
      "Retrieving datasets...\n"
     ]
    },
    {
     "name": "stderr",
     "output_type": "stream",
     "text": [
      "100%|██████████| 4000/4000 [00:00<00:00, 5026.86it/s]\n",
      "100%|██████████| 1000/1000 [00:00<00:00, 4778.50it/s]\n"
     ]
    },
    {
     "name": "stdout",
     "output_type": "stream",
     "text": [
      "Evolving Hamiltonians for each Image...\n"
     ]
    },
    {
     "name": "stderr",
     "output_type": "stream",
     "text": [
      "100%|██████████| 4000/4000 [02:28<00:00, 26.85it/s]\n",
      "100%|██████████| 1000/1000 [00:34<00:00, 28.82it/s]\n",
      "100%|██████████| 4000/4000 [00:11<00:00, 341.38it/s]\n",
      "100%|██████████| 1000/1000 [00:04<00:00, 210.70it/s]\n"
     ]
    },
    {
     "name": "stdout",
     "output_type": "stream",
     "text": [
      "std=0:  0.872\n"
     ]
    },
    {
     "name": "stderr",
     "output_type": "stream",
     "text": [
      "100%|██████████| 4000/4000 [00:11<00:00, 342.14it/s]\n",
      "100%|██████████| 1000/1000 [00:04<00:00, 210.25it/s]\n"
     ]
    },
    {
     "name": "stdout",
     "output_type": "stream",
     "text": [
      "samples=1000:  0.842\n"
     ]
    },
    {
     "name": "stderr",
     "output_type": "stream",
     "text": [
      "100%|██████████| 4000/4000 [00:11<00:00, 343.37it/s]\n",
      "100%|██████████| 1000/1000 [00:04<00:00, 211.55it/s]"
     ]
    },
    {
     "name": "stdout",
     "output_type": "stream",
     "text": [
      "samples=10000:  0.854\n"
     ]
    },
    {
     "name": "stderr",
     "output_type": "stream",
     "text": [
      "\n"
     ]
    },
    {
     "data": {
      "text/plain": "0.854"
     },
     "execution_count": 5,
     "metadata": {},
     "output_type": "execute_result"
    }
   ],
   "source": [
    "split=3\n",
    "cdim=10\n",
    "dm=7\n",
    "nsteps=5000\n",
    "x = .175e6\n",
    "tt = 18e-6\n",
    "data = Classify(compression=16, t_total= tt, pc_imag=x, pq_imag=x, nsteps=nsteps, \n",
    "                        intervals=split, cdim=cdim, dm=dm, measurement='pns trace', c_ops=True, anharm=False, ffilter=False,\n",
    "                                 method=\"2qubit\").train(trainSize=4000, testSize=1000, max_pool=13)\n",
    "std(data, 0)\n",
    "std(data, 1000)\n",
    "std(data, 10000)"
   ],
   "metadata": {
    "collapsed": false,
    "ExecuteTime": {
     "end_time": "2024-05-31T02:43:42.690727200Z",
     "start_time": "2024-05-31T02:39:47.230248900Z"
    }
   },
   "id": "91c312768a1846d",
   "execution_count": 5
  },
  {
   "cell_type": "code",
   "outputs": [
    {
     "name": "stdout",
     "output_type": "stream",
     "text": [
      "Retrieving datasets...\n"
     ]
    },
    {
     "name": "stderr",
     "output_type": "stream",
     "text": [
      "100%|██████████| 8000/8000 [00:01<00:00, 6773.37it/s]\n",
      "100%|██████████| 2000/2000 [00:00<00:00, 6446.91it/s]\n"
     ]
    },
    {
     "name": "stdout",
     "output_type": "stream",
     "text": [
      "Evolving Hamiltonians for each Image...\n"
     ]
    },
    {
     "name": "stderr",
     "output_type": "stream",
     "text": [
      "100%|██████████| 8000/8000 [09:10<00:00, 14.53it/s]\n",
      "100%|██████████| 2000/2000 [02:20<00:00, 14.25it/s]\n",
      "100%|██████████| 8000/8000 [00:30<00:00, 265.37it/s]\n",
      "100%|██████████| 2000/2000 [00:09<00:00, 210.01it/s]\n"
     ]
    },
    {
     "name": "stdout",
     "output_type": "stream",
     "text": [
      "std=0:  0.894\n"
     ]
    },
    {
     "name": "stderr",
     "output_type": "stream",
     "text": [
      "100%|██████████| 8000/8000 [00:30<00:00, 264.65it/s]\n",
      "100%|██████████| 2000/2000 [00:09<00:00, 211.67it/s]\n"
     ]
    },
    {
     "name": "stdout",
     "output_type": "stream",
     "text": [
      "samples=1000:  0.8485\n"
     ]
    },
    {
     "name": "stderr",
     "output_type": "stream",
     "text": [
      "100%|██████████| 8000/8000 [00:29<00:00, 266.80it/s]\n",
      "100%|██████████| 2000/2000 [00:09<00:00, 211.51it/s]\n"
     ]
    },
    {
     "name": "stdout",
     "output_type": "stream",
     "text": [
      "samples=10000:  0.88\n"
     ]
    },
    {
     "data": {
      "text/plain": "0.88"
     },
     "execution_count": 6,
     "metadata": {},
     "output_type": "execute_result"
    }
   ],
   "source": [
    "split=3\n",
    "cdim=13\n",
    "dm=10\n",
    "nsteps=5000\n",
    "x = .175e6\n",
    "tt = 18e-6\n",
    "data = Classify(compression=16, t_total= tt, pc_imag=x, pq_imag=x, nsteps=nsteps, \n",
    "                        intervals=split, cdim=cdim, dm=dm, measurement='pns trace', c_ops=True, anharm=False, ffilter=False,\n",
    "                                 method=\"2qubit\").train(trainSize=8000, testSize=2000, max_pool=13)\n",
    "std(data, 0)\n",
    "std(data, 1000)\n",
    "std(data, 10000)"
   ],
   "metadata": {
    "collapsed": false,
    "ExecuteTime": {
     "end_time": "2024-05-31T02:57:16.681752300Z",
     "start_time": "2024-05-31T02:43:42.694697400Z"
    }
   },
   "id": "60c03ff9d659ae0",
   "execution_count": 6
  },
  {
   "cell_type": "code",
   "outputs": [
    {
     "name": "stdout",
     "output_type": "stream",
     "text": [
      "Retrieving datasets...\n"
     ]
    },
    {
     "name": "stderr",
     "output_type": "stream",
     "text": [
      "100%|██████████| 8000/8000 [00:01<00:00, 6584.52it/s]\n",
      "100%|██████████| 2000/2000 [00:00<00:00, 6279.35it/s]\n"
     ]
    },
    {
     "name": "stdout",
     "output_type": "stream",
     "text": [
      "Evolving Hamiltonians for each Image...\n"
     ]
    },
    {
     "name": "stderr",
     "output_type": "stream",
     "text": [
      "100%|██████████| 8000/8000 [07:20<00:00, 18.17it/s]\n",
      "100%|██████████| 2000/2000 [01:47<00:00, 18.56it/s]\n",
      "100%|██████████| 8000/8000 [00:21<00:00, 373.79it/s]\n",
      "100%|██████████| 2000/2000 [00:07<00:00, 274.56it/s]\n"
     ]
    },
    {
     "name": "stdout",
     "output_type": "stream",
     "text": [
      "std=0:  0.893\n"
     ]
    },
    {
     "name": "stderr",
     "output_type": "stream",
     "text": [
      "100%|██████████| 8000/8000 [00:21<00:00, 377.65it/s]\n",
      "100%|██████████| 2000/2000 [00:07<00:00, 275.13it/s]\n"
     ]
    },
    {
     "name": "stdout",
     "output_type": "stream",
     "text": [
      "samples=1000:  0.8495\n"
     ]
    },
    {
     "name": "stderr",
     "output_type": "stream",
     "text": [
      "100%|██████████| 8000/8000 [00:21<00:00, 378.15it/s]\n",
      "100%|██████████| 2000/2000 [00:07<00:00, 275.18it/s]\n"
     ]
    },
    {
     "name": "stdout",
     "output_type": "stream",
     "text": [
      "samples=10000:  0.885\n"
     ]
    },
    {
     "data": {
      "text/plain": "0.885"
     },
     "execution_count": 7,
     "metadata": {},
     "output_type": "execute_result"
    }
   ],
   "source": [
    "split=2\n",
    "cdim=13\n",
    "dm=10\n",
    "nsteps=5000\n",
    "x = .175e6\n",
    "tt = 18e-6\n",
    "data = Classify(compression=16, t_total= tt, pc_imag=x, pq_imag=x, nsteps=nsteps, \n",
    "                        intervals=split, cdim=cdim, dm=dm, measurement='pns trace', c_ops=True, anharm=False, ffilter=False,\n",
    "                                 method=\"2qubit\").train(trainSize=8000, testSize=2000, max_pool=13)\n",
    "std(data, 0)\n",
    "std(data, 1000)\n",
    "std(data, 10000)"
   ],
   "metadata": {
    "collapsed": false,
    "ExecuteTime": {
     "end_time": "2024-05-31T03:07:54.309791900Z",
     "start_time": "2024-05-31T02:57:16.676658600Z"
    }
   },
   "id": "cc1f3267d8ba78c1",
   "execution_count": 7
  },
  {
   "cell_type": "markdown",
   "source": [
    "## Testing multiple (overnight)"
   ],
   "metadata": {
    "collapsed": false
   },
   "id": "a94fba653644fa9b"
  },
  {
   "cell_type": "code",
   "outputs": [
    {
     "name": "stdout",
     "output_type": "stream",
     "text": [
      "x: 0.175, t_total: 18.0\n",
      "Retrieving datasets...\n"
     ]
    },
    {
     "name": "stderr",
     "output_type": "stream",
     "text": [
      "100%|██████████| 4000/4000 [00:01<00:00, 2361.82it/s]\n",
      "100%|██████████| 1000/1000 [00:00<00:00, 4269.21it/s]\n"
     ]
    },
    {
     "name": "stdout",
     "output_type": "stream",
     "text": [
      "Evolving Hamiltonians for each Image...\n"
     ]
    },
    {
     "name": "stderr",
     "output_type": "stream",
     "text": [
      "100%|██████████| 4000/4000 [04:49<00:00, 13.80it/s]\n",
      "100%|██████████| 1000/1000 [01:21<00:00, 12.31it/s]\n",
      "100%|██████████| 4000/4000 [00:21<00:00, 185.93it/s]\n",
      "100%|██████████| 1000/1000 [00:08<00:00, 124.67it/s]\n"
     ]
    },
    {
     "name": "stdout",
     "output_type": "stream",
     "text": [
      "std=0:  0.877\n"
     ]
    },
    {
     "name": "stderr",
     "output_type": "stream",
     "text": [
      "100%|██████████| 4000/4000 [00:20<00:00, 191.76it/s]\n",
      "100%|██████████| 1000/1000 [00:08<00:00, 124.99it/s]\n"
     ]
    },
    {
     "name": "stdout",
     "output_type": "stream",
     "text": [
      "samples=1000:  0.84\n"
     ]
    },
    {
     "name": "stderr",
     "output_type": "stream",
     "text": [
      "100%|██████████| 4000/4000 [00:20<00:00, 194.87it/s]\n",
      "100%|██████████| 1000/1000 [00:07<00:00, 127.11it/s]\n"
     ]
    },
    {
     "name": "stdout",
     "output_type": "stream",
     "text": [
      "samples=10000:  0.87\n",
      "x: 0.175, t_total: 17.5\n",
      "Retrieving datasets...\n"
     ]
    },
    {
     "name": "stderr",
     "output_type": "stream",
     "text": [
      "100%|██████████| 4000/4000 [00:00<00:00, 4363.43it/s]\n",
      "100%|██████████| 1000/1000 [00:00<00:00, 4329.25it/s]\n"
     ]
    },
    {
     "name": "stdout",
     "output_type": "stream",
     "text": [
      "Evolving Hamiltonians for each Image...\n"
     ]
    },
    {
     "name": "stderr",
     "output_type": "stream",
     "text": [
      "100%|██████████| 4000/4000 [05:58<00:00, 11.15it/s]\n",
      "100%|██████████| 1000/1000 [01:25<00:00, 11.70it/s]\n",
      "100%|██████████| 4000/4000 [00:20<00:00, 192.13it/s]\n",
      "100%|██████████| 1000/1000 [00:07<00:00, 127.69it/s]\n"
     ]
    },
    {
     "name": "stdout",
     "output_type": "stream",
     "text": [
      "std=0:  0.904\n"
     ]
    },
    {
     "name": "stderr",
     "output_type": "stream",
     "text": [
      "100%|██████████| 4000/4000 [00:20<00:00, 194.23it/s]\n",
      "100%|██████████| 1000/1000 [00:07<00:00, 129.40it/s]\n"
     ]
    },
    {
     "name": "stdout",
     "output_type": "stream",
     "text": [
      "samples=1000:  0.862\n"
     ]
    },
    {
     "name": "stderr",
     "output_type": "stream",
     "text": [
      "100%|██████████| 4000/4000 [00:20<00:00, 194.12it/s]\n",
      "100%|██████████| 1000/1000 [00:07<00:00, 128.77it/s]\n"
     ]
    },
    {
     "name": "stdout",
     "output_type": "stream",
     "text": [
      "samples=10000:  0.892\n",
      "x: 0.175, t_total: 18.5\n",
      "Retrieving datasets...\n"
     ]
    },
    {
     "name": "stderr",
     "output_type": "stream",
     "text": [
      "100%|██████████| 4000/4000 [00:00<00:00, 4435.88it/s]\n",
      "100%|██████████| 1000/1000 [00:00<00:00, 4316.27it/s]\n"
     ]
    },
    {
     "name": "stdout",
     "output_type": "stream",
     "text": [
      "Evolving Hamiltonians for each Image...\n"
     ]
    },
    {
     "name": "stderr",
     "output_type": "stream",
     "text": [
      "100%|██████████| 4000/4000 [05:59<00:00, 11.12it/s]\n",
      "100%|██████████| 1000/1000 [01:26<00:00, 11.62it/s]\n",
      "100%|██████████| 4000/4000 [00:20<00:00, 197.74it/s]\n",
      "100%|██████████| 1000/1000 [00:07<00:00, 135.49it/s]\n"
     ]
    },
    {
     "name": "stdout",
     "output_type": "stream",
     "text": [
      "std=0:  0.894\n"
     ]
    },
    {
     "name": "stderr",
     "output_type": "stream",
     "text": [
      "100%|██████████| 4000/4000 [00:20<00:00, 198.65it/s]\n",
      "100%|██████████| 1000/1000 [00:07<00:00, 136.24it/s]\n"
     ]
    },
    {
     "name": "stdout",
     "output_type": "stream",
     "text": [
      "samples=1000:  0.855\n"
     ]
    },
    {
     "name": "stderr",
     "output_type": "stream",
     "text": [
      "100%|██████████| 4000/4000 [00:20<00:00, 198.96it/s]\n",
      "100%|██████████| 1000/1000 [00:07<00:00, 135.59it/s]\n"
     ]
    },
    {
     "name": "stdout",
     "output_type": "stream",
     "text": [
      "samples=10000:  0.874\n",
      "x: 0.175, t_total: 19.000000000000004\n",
      "Retrieving datasets...\n"
     ]
    },
    {
     "name": "stderr",
     "output_type": "stream",
     "text": [
      "100%|██████████| 4000/4000 [00:00<00:00, 4337.43it/s]\n",
      "100%|██████████| 1000/1000 [00:00<00:00, 4429.13it/s]\n"
     ]
    },
    {
     "name": "stdout",
     "output_type": "stream",
     "text": [
      "Evolving Hamiltonians for each Image...\n"
     ]
    },
    {
     "name": "stderr",
     "output_type": "stream",
     "text": [
      "100%|██████████| 4000/4000 [06:03<00:00, 11.01it/s]\n",
      "100%|██████████| 1000/1000 [01:26<00:00, 11.50it/s]\n",
      "100%|██████████| 4000/4000 [00:20<00:00, 197.87it/s]\n",
      "100%|██████████| 1000/1000 [00:07<00:00, 135.58it/s]\n"
     ]
    },
    {
     "name": "stdout",
     "output_type": "stream",
     "text": [
      "std=0:  0.886\n"
     ]
    },
    {
     "name": "stderr",
     "output_type": "stream",
     "text": [
      "100%|██████████| 4000/4000 [00:20<00:00, 197.05it/s]\n",
      "100%|██████████| 1000/1000 [00:07<00:00, 137.07it/s]\n"
     ]
    },
    {
     "name": "stdout",
     "output_type": "stream",
     "text": [
      "samples=1000:  0.83\n"
     ]
    },
    {
     "name": "stderr",
     "output_type": "stream",
     "text": [
      "100%|██████████| 4000/4000 [00:20<00:00, 196.57it/s]\n",
      "100%|██████████| 1000/1000 [00:07<00:00, 137.22it/s]\n"
     ]
    },
    {
     "name": "stdout",
     "output_type": "stream",
     "text": [
      "samples=10000:  0.865\n",
      "x: 0.1765, t_total: 18.0\n",
      "Retrieving datasets...\n"
     ]
    },
    {
     "name": "stderr",
     "output_type": "stream",
     "text": [
      "100%|██████████| 4000/4000 [00:00<00:00, 4513.01it/s]\n",
      "100%|██████████| 1000/1000 [00:00<00:00, 4341.46it/s]\n"
     ]
    },
    {
     "name": "stdout",
     "output_type": "stream",
     "text": [
      "Evolving Hamiltonians for each Image...\n"
     ]
    },
    {
     "name": "stderr",
     "output_type": "stream",
     "text": [
      "100%|██████████| 4000/4000 [05:58<00:00, 11.17it/s]\n",
      "100%|██████████| 1000/1000 [01:24<00:00, 11.78it/s]\n",
      "100%|██████████| 4000/4000 [00:20<00:00, 198.91it/s]\n",
      "100%|██████████| 1000/1000 [00:07<00:00, 135.04it/s]\n"
     ]
    },
    {
     "name": "stdout",
     "output_type": "stream",
     "text": [
      "std=0:  0.906\n"
     ]
    },
    {
     "name": "stderr",
     "output_type": "stream",
     "text": [
      "100%|██████████| 4000/4000 [00:20<00:00, 199.40it/s]\n",
      "100%|██████████| 1000/1000 [00:07<00:00, 135.87it/s]\n"
     ]
    },
    {
     "name": "stdout",
     "output_type": "stream",
     "text": [
      "samples=1000:  0.848\n"
     ]
    },
    {
     "name": "stderr",
     "output_type": "stream",
     "text": [
      "100%|██████████| 4000/4000 [00:19<00:00, 201.24it/s]\n",
      "100%|██████████| 1000/1000 [00:07<00:00, 133.90it/s]\n"
     ]
    },
    {
     "name": "stdout",
     "output_type": "stream",
     "text": [
      "samples=10000:  0.886\n",
      "x: 0.1765, t_total: 17.5\n",
      "Retrieving datasets...\n"
     ]
    },
    {
     "name": "stderr",
     "output_type": "stream",
     "text": [
      "100%|██████████| 4000/4000 [00:00<00:00, 4328.53it/s]\n",
      "100%|██████████| 1000/1000 [00:00<00:00, 4314.60it/s]\n"
     ]
    },
    {
     "name": "stdout",
     "output_type": "stream",
     "text": [
      "Evolving Hamiltonians for each Image...\n"
     ]
    },
    {
     "name": "stderr",
     "output_type": "stream",
     "text": [
      "100%|██████████| 4000/4000 [05:58<00:00, 11.17it/s]\n",
      "100%|██████████| 1000/1000 [01:25<00:00, 11.68it/s]\n",
      "100%|██████████| 4000/4000 [00:19<00:00, 200.14it/s]\n",
      "100%|██████████| 1000/1000 [00:07<00:00, 137.77it/s]\n"
     ]
    },
    {
     "name": "stdout",
     "output_type": "stream",
     "text": [
      "std=0:  0.9\n"
     ]
    },
    {
     "name": "stderr",
     "output_type": "stream",
     "text": [
      "100%|██████████| 4000/4000 [00:20<00:00, 198.48it/s]\n",
      "100%|██████████| 1000/1000 [00:07<00:00, 135.39it/s]\n"
     ]
    },
    {
     "name": "stdout",
     "output_type": "stream",
     "text": [
      "samples=1000:  0.844\n"
     ]
    },
    {
     "name": "stderr",
     "output_type": "stream",
     "text": [
      "100%|██████████| 4000/4000 [00:20<00:00, 199.30it/s]\n",
      "100%|██████████| 1000/1000 [00:07<00:00, 131.89it/s]\n"
     ]
    },
    {
     "name": "stdout",
     "output_type": "stream",
     "text": [
      "samples=10000:  0.865\n",
      "x: 0.1765, t_total: 18.5\n",
      "Retrieving datasets...\n"
     ]
    },
    {
     "name": "stderr",
     "output_type": "stream",
     "text": [
      "100%|██████████| 4000/4000 [00:00<00:00, 4458.76it/s]\n",
      "100%|██████████| 1000/1000 [00:00<00:00, 4425.83it/s]\n"
     ]
    },
    {
     "name": "stdout",
     "output_type": "stream",
     "text": [
      "Evolving Hamiltonians for each Image...\n"
     ]
    },
    {
     "name": "stderr",
     "output_type": "stream",
     "text": [
      "100%|██████████| 4000/4000 [05:58<00:00, 11.16it/s]\n",
      "100%|██████████| 1000/1000 [01:26<00:00, 11.61it/s]\n",
      "100%|██████████| 4000/4000 [00:20<00:00, 195.73it/s]\n",
      "100%|██████████| 1000/1000 [00:07<00:00, 134.91it/s]\n"
     ]
    },
    {
     "name": "stdout",
     "output_type": "stream",
     "text": [
      "std=0:  0.877\n"
     ]
    },
    {
     "name": "stderr",
     "output_type": "stream",
     "text": [
      "100%|██████████| 4000/4000 [00:20<00:00, 198.72it/s]\n",
      "100%|██████████| 1000/1000 [00:07<00:00, 135.30it/s]\n"
     ]
    },
    {
     "name": "stdout",
     "output_type": "stream",
     "text": [
      "samples=1000:  0.821\n"
     ]
    },
    {
     "name": "stderr",
     "output_type": "stream",
     "text": [
      "100%|██████████| 4000/4000 [00:20<00:00, 198.92it/s]\n",
      "100%|██████████| 1000/1000 [00:07<00:00, 136.55it/s]\n"
     ]
    },
    {
     "name": "stdout",
     "output_type": "stream",
     "text": [
      "samples=10000:  0.859\n",
      "x: 0.1765, t_total: 19.000000000000004\n",
      "Retrieving datasets...\n"
     ]
    },
    {
     "name": "stderr",
     "output_type": "stream",
     "text": [
      "100%|██████████| 4000/4000 [00:00<00:00, 4422.30it/s]\n",
      "100%|██████████| 1000/1000 [00:00<00:00, 4189.00it/s]\n"
     ]
    },
    {
     "name": "stdout",
     "output_type": "stream",
     "text": [
      "Evolving Hamiltonians for each Image...\n"
     ]
    },
    {
     "name": "stderr",
     "output_type": "stream",
     "text": [
      "100%|██████████| 4000/4000 [06:03<00:00, 11.00it/s]\n",
      "100%|██████████| 1000/1000 [01:26<00:00, 11.52it/s]\n",
      "100%|██████████| 4000/4000 [00:20<00:00, 196.94it/s]\n",
      "100%|██████████| 1000/1000 [00:07<00:00, 134.95it/s]\n"
     ]
    },
    {
     "name": "stdout",
     "output_type": "stream",
     "text": [
      "std=0:  0.888\n"
     ]
    },
    {
     "name": "stderr",
     "output_type": "stream",
     "text": [
      "100%|██████████| 4000/4000 [00:20<00:00, 197.51it/s]\n",
      "100%|██████████| 1000/1000 [00:07<00:00, 137.12it/s]\n"
     ]
    },
    {
     "name": "stdout",
     "output_type": "stream",
     "text": [
      "samples=1000:  0.847\n"
     ]
    },
    {
     "name": "stderr",
     "output_type": "stream",
     "text": [
      "100%|██████████| 4000/4000 [00:20<00:00, 199.21it/s]\n",
      "100%|██████████| 1000/1000 [00:07<00:00, 135.25it/s]\n"
     ]
    },
    {
     "name": "stdout",
     "output_type": "stream",
     "text": [
      "samples=10000:  0.871\n",
      "x: 0.178, t_total: 18.0\n",
      "Retrieving datasets...\n"
     ]
    },
    {
     "name": "stderr",
     "output_type": "stream",
     "text": [
      "100%|██████████| 4000/4000 [00:00<00:00, 4301.23it/s]\n",
      "100%|██████████| 1000/1000 [00:00<00:00, 4298.89it/s]\n"
     ]
    },
    {
     "name": "stdout",
     "output_type": "stream",
     "text": [
      "Evolving Hamiltonians for each Image...\n"
     ]
    },
    {
     "name": "stderr",
     "output_type": "stream",
     "text": [
      "100%|██████████| 4000/4000 [05:57<00:00, 11.18it/s]\n",
      "100%|██████████| 1000/1000 [01:26<00:00, 11.57it/s]\n",
      "100%|██████████| 4000/4000 [00:20<00:00, 196.37it/s]\n",
      "100%|██████████| 1000/1000 [00:07<00:00, 134.99it/s]\n"
     ]
    },
    {
     "name": "stdout",
     "output_type": "stream",
     "text": [
      "std=0:  0.898\n"
     ]
    },
    {
     "name": "stderr",
     "output_type": "stream",
     "text": [
      "100%|██████████| 4000/4000 [00:20<00:00, 198.28it/s]\n",
      "100%|██████████| 1000/1000 [00:07<00:00, 136.07it/s]\n"
     ]
    },
    {
     "name": "stdout",
     "output_type": "stream",
     "text": [
      "samples=1000:  0.842\n"
     ]
    },
    {
     "name": "stderr",
     "output_type": "stream",
     "text": [
      "100%|██████████| 4000/4000 [00:20<00:00, 198.90it/s]\n",
      "100%|██████████| 1000/1000 [00:07<00:00, 136.32it/s]\n"
     ]
    },
    {
     "name": "stdout",
     "output_type": "stream",
     "text": [
      "samples=10000:  0.877\n",
      "x: 0.178, t_total: 17.5\n",
      "Retrieving datasets...\n"
     ]
    },
    {
     "name": "stderr",
     "output_type": "stream",
     "text": [
      "100%|██████████| 4000/4000 [00:00<00:00, 4454.72it/s]\n",
      "100%|██████████| 1000/1000 [00:00<00:00, 4280.81it/s]\n"
     ]
    },
    {
     "name": "stdout",
     "output_type": "stream",
     "text": [
      "Evolving Hamiltonians for each Image...\n"
     ]
    },
    {
     "name": "stderr",
     "output_type": "stream",
     "text": [
      "100%|██████████| 4000/4000 [05:57<00:00, 11.19it/s]\n",
      "100%|██████████| 1000/1000 [01:25<00:00, 11.65it/s]\n",
      "100%|██████████| 4000/4000 [00:20<00:00, 197.69it/s]\n",
      "100%|██████████| 1000/1000 [00:07<00:00, 134.56it/s]\n"
     ]
    },
    {
     "name": "stdout",
     "output_type": "stream",
     "text": [
      "std=0:  0.889\n"
     ]
    },
    {
     "name": "stderr",
     "output_type": "stream",
     "text": [
      "100%|██████████| 4000/4000 [00:20<00:00, 196.34it/s]\n",
      "100%|██████████| 1000/1000 [00:07<00:00, 136.88it/s]\n"
     ]
    },
    {
     "name": "stdout",
     "output_type": "stream",
     "text": [
      "samples=1000:  0.842\n"
     ]
    },
    {
     "name": "stderr",
     "output_type": "stream",
     "text": [
      "100%|██████████| 4000/4000 [00:20<00:00, 196.84it/s]\n",
      "100%|██████████| 1000/1000 [00:07<00:00, 136.75it/s]\n"
     ]
    },
    {
     "name": "stdout",
     "output_type": "stream",
     "text": [
      "samples=10000:  0.873\n",
      "x: 0.178, t_total: 18.5\n",
      "Retrieving datasets...\n"
     ]
    },
    {
     "name": "stderr",
     "output_type": "stream",
     "text": [
      "100%|██████████| 4000/4000 [00:00<00:00, 4347.59it/s]\n",
      "100%|██████████| 1000/1000 [00:00<00:00, 4309.67it/s]\n"
     ]
    },
    {
     "name": "stdout",
     "output_type": "stream",
     "text": [
      "Evolving Hamiltonians for each Image...\n"
     ]
    },
    {
     "name": "stderr",
     "output_type": "stream",
     "text": [
      "100%|██████████| 4000/4000 [05:59<00:00, 11.14it/s]\n",
      "100%|██████████| 1000/1000 [01:26<00:00, 11.55it/s]\n",
      "100%|██████████| 4000/4000 [00:20<00:00, 195.57it/s]\n",
      "100%|██████████| 1000/1000 [00:07<00:00, 136.29it/s]\n"
     ]
    },
    {
     "name": "stdout",
     "output_type": "stream",
     "text": [
      "std=0:  0.906\n"
     ]
    },
    {
     "name": "stderr",
     "output_type": "stream",
     "text": [
      "100%|██████████| 4000/4000 [00:20<00:00, 198.37it/s]\n",
      "100%|██████████| 1000/1000 [00:07<00:00, 135.00it/s]\n"
     ]
    },
    {
     "name": "stdout",
     "output_type": "stream",
     "text": [
      "samples=1000:  0.855\n"
     ]
    },
    {
     "name": "stderr",
     "output_type": "stream",
     "text": [
      "100%|██████████| 4000/4000 [00:20<00:00, 197.59it/s]\n",
      "100%|██████████| 1000/1000 [00:07<00:00, 136.53it/s]\n"
     ]
    },
    {
     "name": "stdout",
     "output_type": "stream",
     "text": [
      "samples=10000:  0.887\n",
      "x: 0.178, t_total: 19.000000000000004\n",
      "Retrieving datasets...\n"
     ]
    },
    {
     "name": "stderr",
     "output_type": "stream",
     "text": [
      "100%|██████████| 4000/4000 [00:00<00:00, 4359.20it/s]\n",
      "100%|██████████| 1000/1000 [00:00<00:00, 4408.42it/s]\n"
     ]
    },
    {
     "name": "stdout",
     "output_type": "stream",
     "text": [
      "Evolving Hamiltonians for each Image...\n"
     ]
    },
    {
     "name": "stderr",
     "output_type": "stream",
     "text": [
      "100%|██████████| 4000/4000 [06:02<00:00, 11.04it/s]\n",
      "100%|██████████| 1000/1000 [01:27<00:00, 11.49it/s]\n",
      "100%|██████████| 4000/4000 [00:20<00:00, 195.96it/s]\n",
      "100%|██████████| 1000/1000 [00:07<00:00, 135.11it/s]\n"
     ]
    },
    {
     "name": "stdout",
     "output_type": "stream",
     "text": [
      "std=0:  0.899\n"
     ]
    },
    {
     "name": "stderr",
     "output_type": "stream",
     "text": [
      "100%|██████████| 4000/4000 [00:20<00:00, 198.97it/s]\n",
      "100%|██████████| 1000/1000 [00:07<00:00, 135.72it/s]\n"
     ]
    },
    {
     "name": "stdout",
     "output_type": "stream",
     "text": [
      "samples=1000:  0.864\n"
     ]
    },
    {
     "name": "stderr",
     "output_type": "stream",
     "text": [
      "100%|██████████| 4000/4000 [00:20<00:00, 199.31it/s]\n",
      "100%|██████████| 1000/1000 [00:07<00:00, 134.19it/s]\n"
     ]
    },
    {
     "name": "stdout",
     "output_type": "stream",
     "text": [
      "samples=10000:  0.887\n",
      "x: 0.173, t_total: 18.0\n",
      "Retrieving datasets...\n"
     ]
    },
    {
     "name": "stderr",
     "output_type": "stream",
     "text": [
      "100%|██████████| 4000/4000 [00:00<00:00, 4411.41it/s]\n",
      "100%|██████████| 1000/1000 [00:00<00:00, 4151.17it/s]\n"
     ]
    },
    {
     "name": "stdout",
     "output_type": "stream",
     "text": [
      "Evolving Hamiltonians for each Image...\n"
     ]
    },
    {
     "name": "stderr",
     "output_type": "stream",
     "text": [
      "100%|██████████| 4000/4000 [05:58<00:00, 11.16it/s]\n",
      "100%|██████████| 1000/1000 [01:26<00:00, 11.51it/s]\n",
      "100%|██████████| 4000/4000 [00:20<00:00, 195.39it/s]\n",
      "100%|██████████| 1000/1000 [00:07<00:00, 134.67it/s]\n"
     ]
    },
    {
     "name": "stdout",
     "output_type": "stream",
     "text": [
      "std=0:  0.893\n"
     ]
    },
    {
     "name": "stderr",
     "output_type": "stream",
     "text": [
      "100%|██████████| 4000/4000 [00:20<00:00, 195.79it/s]\n",
      "100%|██████████| 1000/1000 [00:07<00:00, 135.41it/s]\n"
     ]
    },
    {
     "name": "stdout",
     "output_type": "stream",
     "text": [
      "samples=1000:  0.85\n"
     ]
    },
    {
     "name": "stderr",
     "output_type": "stream",
     "text": [
      "100%|██████████| 4000/4000 [00:20<00:00, 199.94it/s]\n",
      "100%|██████████| 1000/1000 [00:07<00:00, 134.86it/s]\n"
     ]
    },
    {
     "name": "stdout",
     "output_type": "stream",
     "text": [
      "samples=10000:  0.881\n",
      "x: 0.173, t_total: 17.5\n",
      "Retrieving datasets...\n"
     ]
    },
    {
     "name": "stderr",
     "output_type": "stream",
     "text": [
      "100%|██████████| 4000/4000 [00:00<00:00, 4515.63it/s]\n",
      "100%|██████████| 1000/1000 [00:00<00:00, 4285.92it/s]\n"
     ]
    },
    {
     "name": "stdout",
     "output_type": "stream",
     "text": [
      "Evolving Hamiltonians for each Image...\n"
     ]
    },
    {
     "name": "stderr",
     "output_type": "stream",
     "text": [
      "100%|██████████| 4000/4000 [05:55<00:00, 11.26it/s]\n",
      "100%|██████████| 1000/1000 [01:25<00:00, 11.64it/s]\n",
      "100%|██████████| 4000/4000 [00:20<00:00, 195.28it/s]\n",
      "100%|██████████| 1000/1000 [00:07<00:00, 135.82it/s]\n"
     ]
    },
    {
     "name": "stdout",
     "output_type": "stream",
     "text": [
      "std=0:  0.9\n"
     ]
    },
    {
     "name": "stderr",
     "output_type": "stream",
     "text": [
      "100%|██████████| 4000/4000 [00:20<00:00, 196.90it/s]\n",
      "100%|██████████| 1000/1000 [00:07<00:00, 135.57it/s]\n"
     ]
    },
    {
     "name": "stdout",
     "output_type": "stream",
     "text": [
      "samples=1000:  0.847\n"
     ]
    },
    {
     "name": "stderr",
     "output_type": "stream",
     "text": [
      "100%|██████████| 4000/4000 [00:20<00:00, 195.93it/s]\n",
      "100%|██████████| 1000/1000 [00:07<00:00, 136.93it/s]\n"
     ]
    },
    {
     "name": "stdout",
     "output_type": "stream",
     "text": [
      "samples=10000:  0.883\n",
      "x: 0.173, t_total: 18.5\n",
      "Retrieving datasets...\n"
     ]
    },
    {
     "name": "stderr",
     "output_type": "stream",
     "text": [
      "100%|██████████| 4000/4000 [00:00<00:00, 4390.27it/s]\n",
      "100%|██████████| 1000/1000 [00:00<00:00, 4486.47it/s]\n"
     ]
    },
    {
     "name": "stdout",
     "output_type": "stream",
     "text": [
      "Evolving Hamiltonians for each Image...\n"
     ]
    },
    {
     "name": "stderr",
     "output_type": "stream",
     "text": [
      "100%|██████████| 4000/4000 [05:58<00:00, 11.15it/s]\n",
      "100%|██████████| 1000/1000 [01:25<00:00, 11.73it/s]\n",
      "100%|██████████| 4000/4000 [00:20<00:00, 195.24it/s]\n",
      "100%|██████████| 1000/1000 [00:07<00:00, 135.40it/s]\n"
     ]
    },
    {
     "name": "stdout",
     "output_type": "stream",
     "text": [
      "std=0:  0.893\n"
     ]
    },
    {
     "name": "stderr",
     "output_type": "stream",
     "text": [
      "100%|██████████| 4000/4000 [00:20<00:00, 197.33it/s]\n",
      "100%|██████████| 1000/1000 [00:07<00:00, 136.39it/s]\n"
     ]
    },
    {
     "name": "stdout",
     "output_type": "stream",
     "text": [
      "samples=1000:  0.837\n"
     ]
    },
    {
     "name": "stderr",
     "output_type": "stream",
     "text": [
      "100%|██████████| 4000/4000 [00:20<00:00, 199.98it/s]\n",
      "100%|██████████| 1000/1000 [00:07<00:00, 135.85it/s]\n"
     ]
    },
    {
     "name": "stdout",
     "output_type": "stream",
     "text": [
      "samples=10000:  0.869\n",
      "x: 0.173, t_total: 19.000000000000004\n",
      "Retrieving datasets...\n"
     ]
    },
    {
     "name": "stderr",
     "output_type": "stream",
     "text": [
      "100%|██████████| 4000/4000 [00:00<00:00, 4466.84it/s]\n",
      "100%|██████████| 1000/1000 [00:00<00:00, 4245.28it/s]\n"
     ]
    },
    {
     "name": "stdout",
     "output_type": "stream",
     "text": [
      "Evolving Hamiltonians for each Image...\n"
     ]
    },
    {
     "name": "stderr",
     "output_type": "stream",
     "text": [
      "100%|██████████| 4000/4000 [06:00<00:00, 11.11it/s]\n",
      "100%|██████████| 1000/1000 [01:27<00:00, 11.42it/s]\n",
      "100%|██████████| 4000/4000 [00:20<00:00, 194.20it/s]\n",
      "100%|██████████| 1000/1000 [00:07<00:00, 136.54it/s]\n"
     ]
    },
    {
     "name": "stdout",
     "output_type": "stream",
     "text": [
      "std=0:  0.906\n"
     ]
    },
    {
     "name": "stderr",
     "output_type": "stream",
     "text": [
      "100%|██████████| 4000/4000 [00:20<00:00, 195.02it/s]\n",
      "100%|██████████| 1000/1000 [00:07<00:00, 133.36it/s]\n"
     ]
    },
    {
     "name": "stdout",
     "output_type": "stream",
     "text": [
      "samples=1000:  0.846\n"
     ]
    },
    {
     "name": "stderr",
     "output_type": "stream",
     "text": [
      "100%|██████████| 4000/4000 [00:20<00:00, 197.26it/s]\n",
      "100%|██████████| 1000/1000 [00:07<00:00, 135.28it/s]"
     ]
    },
    {
     "name": "stdout",
     "output_type": "stream",
     "text": [
      "samples=10000:  0.886\n"
     ]
    },
    {
     "name": "stderr",
     "output_type": "stream",
     "text": [
      "\n"
     ]
    }
   ],
   "source": [
    "\n",
    "split=3\n",
    "d=10\n",
    "nsteps=5000\n",
    "for x in [0.175e6, 0.1765e6, 0.178e6, 0.173e6]:\n",
    "    for tt in [18e-6, 17.5e-6, 18.5e-6, 19e-6]:\n",
    "        print(f\"x: {x/1e6}, t_total: {tt/1e-6}\")\n",
    "        data = Classify(compression=16, t_total= tt, pc_imag=x, pq_imag=x, nsteps=nsteps, \n",
    "                        intervals=split, cdim=d+3, dm=d, measurement='pns trace', c_ops=True, anharm=False, ffilter=False,\n",
    "                                 method=\"2qubit\").train(trainSize=4000, testSize=1000, max_pool=13)\n",
    "        std(data, 0)\n",
    "        std(data, 1000)\n",
    "        std(data, 10000)"
   ],
   "metadata": {
    "collapsed": false,
    "ExecuteTime": {
     "end_time": "2024-05-30T19:21:40.041299500Z",
     "start_time": "2024-05-30T17:00:58.154358600Z"
    }
   },
   "id": "8ca7163fddb6c2c5",
   "execution_count": 2
  },
  {
   "cell_type": "code",
   "outputs": [],
   "source": [
    "with open(\"data_pns.pickle\", \"rb\") as f:\n",
    "    data9b = pickle.load(f)\n"
   ],
   "metadata": {
    "collapsed": false
   },
   "id": "241a13732860c24",
   "execution_count": null
  },
  {
   "cell_type": "code",
   "outputs": [],
   "source": [
    "from helper_functions import std as stdd\n",
    "stdd(data9b, 10000)"
   ],
   "metadata": {
    "collapsed": false
   },
   "id": "a6ab01f23eda2927",
   "execution_count": null
  },
  {
   "cell_type": "code",
   "outputs": [],
   "source": [],
   "metadata": {
    "collapsed": false
   },
   "id": "83f210e5d27aa0c0"
  }
 ],
 "metadata": {
  "kernelspec": {
   "display_name": "Python 3",
   "language": "python",
   "name": "python3"
  },
  "language_info": {
   "codemirror_mode": {
    "name": "ipython",
    "version": 2
   },
   "file_extension": ".py",
   "mimetype": "text/x-python",
   "name": "python",
   "nbconvert_exporter": "python",
   "pygments_lexer": "ipython2",
   "version": "2.7.6"
  }
 },
 "nbformat": 4,
 "nbformat_minor": 5
}

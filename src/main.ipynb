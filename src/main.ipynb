{
 "cells": [
  {
   "cell_type": "code",
   "outputs": [],
   "source": [
    "# TODO: CREATE VISUALS FOR IMAGES"
   ],
   "metadata": {
    "collapsed": false,
    "ExecuteTime": {
     "end_time": "2024-03-19T08:09:57.633478200Z",
     "start_time": "2024-03-19T08:09:57.631215900Z"
    }
   },
   "id": "2d200ab298dde1f7",
   "execution_count": 54
  },
  {
   "cell_type": "code",
   "outputs": [],
   "source": [
    "''' DEFAULT PARAMETERS\n",
    "# Hamiltonian parameters\n",
    "N = 20\n",
    "g = 1\n",
    "\n",
    "# Time parameters of evolution\n",
    "t_total = 12\n",
    "t_steps = 50\n",
    "\n",
    "# Coefficients of pump\n",
    "coef_pc = 0.25\n",
    "coef_pq = 0.25\n",
    "\n",
    "# Wigner Range\n",
    "xRange = (-2.5, 2)\n",
    "yRange=(-2, 4.5)\n",
    "'''\n",
    "import src.encoding.classify as cl\n",
    "import src.encoding.evolution as el\n",
    "import importlib\n",
    "importlib.reload(cl)\n",
    "importlib.reload(el)\n",
    "from src.encoding.classify import Classify\n",
    "import numpy as np\n",
    "from IPython.display import clear_output\n",
    "from tqdm import tqdm\n",
    "from qutip import *\n",
    "import matplotlib.pyplot as plt\n",
    "from scipy.optimize import minimize"
   ],
   "metadata": {
    "collapsed": true,
    "ExecuteTime": {
     "end_time": "2024-03-27T08:51:18.723133900Z",
     "start_time": "2024-03-27T08:51:18.713196900Z"
    }
   },
   "id": "initial_id",
   "execution_count": 105
  },
  {
   "cell_type": "markdown",
   "source": [
    "# 4x4"
   ],
   "metadata": {
    "collapsed": false
   },
   "id": "bb2903f67a5972ec"
  },
  {
   "cell_type": "code",
   "outputs": [
    {
     "name": "stdout",
     "output_type": "stream",
     "text": [
      "Retrieving datasets...\n"
     ]
    },
    {
     "name": "stderr",
     "output_type": "stream",
     "text": [
      "100%|██████████| 4000/4000 [00:01<00:00, 2361.72it/s]\n",
      "100%|██████████| 1000/1000 [00:00<00:00, 5045.72it/s]\n"
     ]
    },
    {
     "name": "stdout",
     "output_type": "stream",
     "text": [
      "Evolving Hamiltonians for each Image...\n"
     ]
    },
    {
     "name": "stderr",
     "output_type": "stream",
     "text": [
      "100%|██████████| 4000/4000 [06:30<00:00, 10.24it/s]\n",
      "100%|██████████| 1000/1000 [01:02<00:00, 16.09it/s]\n"
     ]
    }
   ],
   "source": [
    "c = 0.238*1e6\n",
    "data = Classify(compression=4, t_total=2*1e-6, pc_real=c, pq_real=c, nsteps=1500, intervals=5, N=11, g=1.4*1e6\n",
    "                 ).train(trainSize=4000, testSize=1000, max_pool=13)\n"
   ],
   "metadata": {
    "collapsed": false,
    "ExecuteTime": {
     "end_time": "2024-03-27T08:58:54.514807100Z",
     "start_time": "2024-03-27T08:51:19.170064400Z"
    }
   },
   "id": "ae654c2d81b0ad24",
   "execution_count": 106
  },
  {
   "cell_type": "code",
   "outputs": [
    {
     "name": "stdout",
     "output_type": "stream",
     "text": [
      "Vectorizing quantum states...\n"
     ]
    },
    {
     "name": "stderr",
     "output_type": "stream",
     "text": [
      "100%|██████████| 4000/4000 [05:16<00:00, 12.62it/s]\n",
      "100%|██████████| 1000/1000 [02:02<00:00,  8.18it/s]\n"
     ]
    },
    {
     "name": "stdout",
     "output_type": "stream",
     "text": [
      "Logistic Regression (Without Quantum processing) yields: 0.783\n",
      "Ridge Classifier (With Quantum processing) yields: 0.871\n",
      "Ridge Classifier (With Quantum processing) yields: 0.878\n",
      "Ridge Classifier (With Quantum processing) yields: 0.871\n",
      "Ridge Classifier (With Quantum processing) yields: 0.868\n",
      "Ridge Classifier (With Quantum processing) yields: 0.865\n"
     ]
    }
   ],
   "source": [
    "data.process_disp()\n",
    "data.score(q_alpha=1e-9, n_regressors=(\"Log\",), q_regressors=(\"Ridge\",))\n",
    "data.score(q_alpha=1e-15, n_regressors=(), q_regressors=(\"Ridge\",))\n",
    "data.score(q_alpha=1e-19, n_regressors=(), q_regressors=(\"Ridge\",))\n",
    "data.score(q_alpha=1e-24, n_regressors=(), q_regressors=(\"Ridge\",))\n",
    "data.score(q_alpha=0, n_regressors=(), q_regressors=(\"Ridge\",))"
   ],
   "metadata": {
    "collapsed": false,
    "ExecuteTime": {
     "end_time": "2024-03-27T09:06:17.273286400Z",
     "start_time": "2024-03-27T08:58:54.514807100Z"
    }
   },
   "id": "76b8a186f636a7d7",
   "execution_count": 107
  },
  {
   "cell_type": "code",
   "outputs": [],
   "source": [
    "c = 0.238*1e6\n",
    "data = Classify(compression=4, t_total=2*1e-6, pc_real=c, pq_real=c, nsteps=1000, intervals=4, N=12, g=1.4*1e6\n",
    "                 ).train(trainSize=60000, testSize=10000, max_pool=13).process_rho()\n",
    "data.score(q_alpha=1e-9, n_regressors=(\"Log\",), q_regressors=(\"Ridge\",))\n",
    "data.score(q_alpha=1e-15, n_regressors=(), q_regressors=(\"Ridge\",))\n",
    "data.score(q_alpha=1e-19, n_regressors=(), q_regressors=(\"Ridge\",))\n",
    "data.score(q_alpha=1e-24, n_regressors=(), q_regressors=(\"Ridge\",))\n",
    "data.score(q_alpha=0, n_regressors=(), q_regressors=(\"Ridge\",))"
   ],
   "metadata": {
    "collapsed": false,
    "ExecuteTime": {
     "start_time": "2024-03-19T03:53:13.764462500Z"
    }
   },
   "id": "618c6dc0ea106d1",
   "execution_count": null
  },
  {
   "cell_type": "code",
   "outputs": [
    {
     "name": "stderr",
     "output_type": "stream",
     "text": [
      "100%|██████████| 8000/8000 [01:44<00:00, 76.83it/s]\n",
      "100%|██████████| 2000/2000 [00:25<00:00, 77.29it/s]\n",
      "100%|██████████| 8000/8000 [00:01<00:00, 6339.79it/s]\n",
      "100%|██████████| 2000/2000 [00:00<00:00, 6964.86it/s]\n"
     ]
    },
    {
     "name": "stdout",
     "output_type": "stream",
     "text": [
      "Logistic Regression (Without Quantum processing) yields: 0.792\n",
      "Ridge Classifier (With Quantum processing) yields: 0.877\n",
      "Ridge Classifier (With Quantum processing) yields: 0.893\n"
     ]
    },
    {
     "name": "stderr",
     "output_type": "stream",
     "text": [
      "C:\\Users\\phant\\PycharmProjects\\qced-encoding\\.venv2\\Lib\\site-packages\\sklearn\\linear_model\\_ridge.py:204: LinAlgWarning: Ill-conditioned matrix (rcond=1.1478e-19): result may not be accurate.\n",
      "  return linalg.solve(A, Xy, assume_a=\"pos\", overwrite_a=True).T\n"
     ]
    },
    {
     "name": "stdout",
     "output_type": "stream",
     "text": [
      "Ridge Classifier (With Quantum processing) yields: 0.8975\n",
      "Ridge Classifier (With Quantum processing) yields: 0.8965\n",
      "Ridge Classifier (With Quantum processing) yields: 0.8985\n"
     ]
    }
   ],
   "source": [
    "c = 0.238*1e6\n",
    "data = Classify(compression=4, t_total=2*1e-6, pc_real=c, pq_real=c, nsteps=1000, intervals=4, N=11, g=1.4*1e6\n",
    "                 ).train(trainSize=8000, testSize=2000, max_pool=13).process_rho()\n",
    "data.score(q_alpha=1e-9, n_regressors=(\"Log\",), q_regressors=(\"Ridge\",))\n",
    "data.score(q_alpha=1e-15, n_regressors=(), q_regressors=(\"Ridge\",))\n",
    "data.score(q_alpha=1e-19, n_regressors=(), q_regressors=(\"Ridge\",))\n",
    "data.score(q_alpha=1e-24, n_regressors=(), q_regressors=(\"Ridge\",))\n",
    "data.score(q_alpha=0, n_regressors=(), q_regressors=(\"Ridge\",))"
   ],
   "metadata": {
    "collapsed": false,
    "ExecuteTime": {
     "end_time": "2024-03-18T08:37:23.464251300Z",
     "start_time": "2024-03-18T08:35:08.641859Z"
    }
   },
   "id": "4c1ea0a5b9f781d6",
   "execution_count": 68
  },
  {
   "cell_type": "markdown",
   "source": [
    "# 13x13"
   ],
   "metadata": {
    "collapsed": false
   },
   "id": "2e7441f827f13fe2"
  }
 ],
 "metadata": {
  "kernelspec": {
   "display_name": "Python 3",
   "language": "python",
   "name": "python3"
  },
  "language_info": {
   "codemirror_mode": {
    "name": "ipython",
    "version": 2
   },
   "file_extension": ".py",
   "mimetype": "text/x-python",
   "name": "python",
   "nbconvert_exporter": "python",
   "pygments_lexer": "ipython2",
   "version": "2.7.6"
  }
 },
 "nbformat": 4,
 "nbformat_minor": 5
}

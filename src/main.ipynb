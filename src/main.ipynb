{
 "cells": [
  {
   "cell_type": "code",
   "execution_count": 1,
   "id": "initial_id",
   "metadata": {
    "collapsed": true,
    "ExecuteTime": {
     "end_time": "2024-03-10T05:24:18.835729Z",
     "start_time": "2024-03-10T05:24:17.518988400Z"
    }
   },
   "outputs": [],
   "source": [
    "''' DEFAULT PARAMETERS\n",
    "# Hamiltonian parameters\n",
    "N = 20\n",
    "g = 1\n",
    "\n",
    "# Time parameters of evolution\n",
    "t_total = 12\n",
    "t_steps = 50\n",
    "\n",
    "# Coefficients of pump\n",
    "coef_pc = 0.25\n",
    "coef_pq = 0.25\n",
    "\n",
    "# Wigner Range\n",
    "xRange = (-2.5, 2)\n",
    "yRange=(-2, 4.5)\n",
    "'''\n",
    "import src.encoding.classify as cl\n",
    "import importlib\n",
    "importlib.reload(cl)\n",
    "from src.encoding.classify import Classify"
   ]
  },
  {
   "cell_type": "code",
   "outputs": [
    {
     "name": "stderr",
     "output_type": "stream",
     "text": [
      "100%|██████████| 5000/5000 [00:53<00:00, 93.59it/s] \n",
      "100%|██████████| 1000/1000 [00:09<00:00, 103.87it/s]\n"
     ]
    }
   ],
   "source": [
    "if __name__ == \"__main__\":\n",
    "    data4 = Classify(compression=4, t_total=12, t_steps=50, coef_pc=.25, coef_pq=.25\n",
    "             ).train(trainSize=5000, testSize=1000, max_pool=1)"
   ],
   "metadata": {
    "collapsed": false,
    "ExecuteTime": {
     "end_time": "2024-03-10T05:51:04.111535800Z",
     "start_time": "2024-03-10T05:50:01.042228200Z"
    }
   },
   "id": "1bf3888033e045e1",
   "execution_count": 10
  },
  {
   "cell_type": "code",
   "outputs": [
    {
     "name": "stderr",
     "output_type": "stream",
     "text": [
      "100%|██████████| 5000/5000 [01:26<00:00, 57.72it/s]\n",
      "100%|██████████| 1000/1000 [00:17<00:00, 57.79it/s]\n"
     ]
    },
    {
     "name": "stdout",
     "output_type": "stream",
     "text": [
      "Logistic Regression CV (Without Quantum processing) yields: 0.806\n",
      "Ridge Classifier (With Quantum processing) yields: 0.869\n"
     ]
    },
    {
     "name": "stderr",
     "output_type": "stream",
     "text": [
      "C:\\Users\\phant\\PycharmProjects\\qced-encoding\\.venv\\Lib\\site-packages\\sklearn\\linear_model\\_ridge.py:243: UserWarning: Singular matrix in solving dual problem. Using least-squares solution instead.\n",
      "  warnings.warn(\n"
     ]
    },
    {
     "name": "stdout",
     "output_type": "stream",
     "text": [
      "Ridge Classifier (With Quantum processing) yields: 0.862\n"
     ]
    },
    {
     "name": "stderr",
     "output_type": "stream",
     "text": [
      "C:\\Users\\phant\\PycharmProjects\\qced-encoding\\.venv\\Lib\\site-packages\\sklearn\\linear_model\\_ridge.py:243: UserWarning: Singular matrix in solving dual problem. Using least-squares solution instead.\n",
      "  warnings.warn(\n"
     ]
    },
    {
     "name": "stdout",
     "output_type": "stream",
     "text": [
      "Ridge Classifier (With Quantum processing) yields: 0.852\n"
     ]
    }
   ],
   "source": [
    "data4.process(copies=8)\n",
    "data4.score(q_alpha=1e-9, n_regressors=(\"LogCV\",), q_regressors=(\"Ridge\",))\n",
    "data4.score(q_alpha=1e-15, n_regressors=(), q_regressors=(\"Ridge\",))\n",
    "data4.score(q_alpha=0, n_regressors=(), q_regressors=(\"Ridge\",))"
   ],
   "metadata": {
    "collapsed": false,
    "ExecuteTime": {
     "end_time": "2024-03-10T05:53:41.805301900Z",
     "start_time": "2024-03-10T05:51:04.113528500Z"
    }
   },
   "id": "39acf29b009b0a06",
   "execution_count": 11
  },
  {
   "cell_type": "code",
   "outputs": [
    {
     "name": "stderr",
     "output_type": "stream",
     "text": [
      "100%|██████████| 15000/15000 [1:09:09<00:00,  3.62it/s]\n",
      "100%|██████████| 3000/3000 [13:18<00:00,  3.76it/s]\n"
     ]
    }
   ],
   "source": [
    "if __name__ == \"__main__\":\n",
    "    data7 = Classify(compression=7, t_total=12, t_steps=50, coef_pc=.25, coef_pq=.25\n",
    "             ).train(trainSize=30000, testSize=6000, max_pool=1)"
   ],
   "metadata": {
    "collapsed": false,
    "ExecuteTime": {
     "end_time": "2024-03-09T20:50:30.212402Z",
     "start_time": "2024-03-09T19:28:01.491343300Z"
    }
   },
   "id": "f26fc8715e053af9",
   "execution_count": 32
  },
  {
   "cell_type": "code",
   "outputs": [
    {
     "name": "stderr",
     "output_type": "stream",
     "text": [
      "100%|██████████| 15000/15000 [06:25<00:00, 38.89it/s]\n",
      "100%|██████████| 3000/3000 [01:15<00:00, 39.83it/s]\n"
     ]
    },
    {
     "data": {
      "text/plain": "<src.encoding.classify.Classify at 0x1da1baa8690>"
     },
     "execution_count": 33,
     "metadata": {},
     "output_type": "execute_result"
    }
   ],
   "source": [
    "data7.process(copies=8)\n",
    "data7.score(q_alpha=1e-19, n_regressors=(\"LogCV\",), q_regressors=(\"Ridge\",))\n",
    "data7.score(q_alpha=0, n_regressors=(\"LogCV\",), q_regressors=(\"Ridge\",))"
   ],
   "metadata": {
    "collapsed": false,
    "ExecuteTime": {
     "end_time": "2024-03-09T20:58:11.264167900Z",
     "start_time": "2024-03-09T20:50:30.208405Z"
    }
   },
   "id": "41edbcf065995e9",
   "execution_count": 33
  },
  {
   "cell_type": "code",
   "outputs": [
    {
     "name": "stderr",
     "output_type": "stream",
     "text": [
      "100%|██████████| 15000/15000 [1:32:29<00:00,  2.70it/s] \n",
      "100%|██████████| 3000/3000 [18:17<00:00,  2.73it/s]\n"
     ]
    }
   ],
   "source": [
    "if __name__ == \"__main__\":\n",
    "    data10 = Classify(compression=10, t_total=12, t_steps=50, coef_pc=.25, coef_pq=.25\n",
    "             ).train(trainSize=15000, testSize=3000, max_pool=1)\n"
   ],
   "metadata": {
    "collapsed": false,
    "ExecuteTime": {
     "end_time": "2024-03-09T22:55:48.785807800Z",
     "start_time": "2024-03-09T21:05:00.785134800Z"
    }
   },
   "id": "879f7e6e8be723b7",
   "execution_count": 36
  },
  {
   "cell_type": "code",
   "outputs": [
    {
     "name": "stderr",
     "output_type": "stream",
     "text": [
      "100%|██████████| 15000/15000 [06:46<00:00, 36.88it/s]\n",
      "100%|██████████| 3000/3000 [01:19<00:00, 37.64it/s]\n"
     ]
    },
    {
     "data": {
      "text/plain": "<src.encoding.classify.Classify at 0x1db51f27950>"
     },
     "execution_count": 37,
     "metadata": {},
     "output_type": "execute_result"
    }
   ],
   "source": [
    "data10.process(copies=8)\n",
    "data10.score(q_alpha=1e-19, n_regressors=(\"LogCV\",), q_regressors=(\"Ridge\",))\n",
    "data10.score(q_alpha=0, n_regressors=(\"LogCV\",), q_regressors=(\"Ridge\",))"
   ],
   "metadata": {
    "collapsed": false,
    "ExecuteTime": {
     "end_time": "2024-03-09T23:03:55.197640200Z",
     "start_time": "2024-03-09T22:55:48.782798Z"
    }
   },
   "id": "6dbaf1a5cbd1b38d",
   "execution_count": 37
  },
  {
   "cell_type": "code",
   "outputs": [
    {
     "name": "stderr",
     "output_type": "stream",
     "text": [
      "  0%|          | 2/5000 [01:27<61:03:41, 43.98s/it]\n",
      "\n",
      "KeyboardInterrupt\n",
      "\n"
     ]
    }
   ],
   "source": [
    "if __name__ == \"__main__\":\n",
    "    data28 = Classify(compression=28, t_total=12, t_steps=60, coef_pc=.25, coef_pq=.25\n",
    "             ).train(trainSize=5000, testSize=1000, max_pool=13)"
   ],
   "metadata": {
    "collapsed": false,
    "ExecuteTime": {
     "end_time": "2024-03-10T05:23:03.946946300Z",
     "start_time": "2024-03-10T05:21:35.032267Z"
    }
   },
   "id": "227a58183af548b",
   "execution_count": 26
  },
  {
   "cell_type": "code",
   "outputs": [
    {
     "name": "stderr",
     "output_type": "stream",
     "text": [
      "100%|██████████| 5000/5000 [04:39<00:00, 17.86it/s]\n",
      "100%|██████████| 890/890 [00:51<00:00, 17.20it/s]\n"
     ]
    },
    {
     "data": {
      "text/plain": "<src.encoding.classify.Classify at 0x1710cd20690>"
     },
     "execution_count": 7,
     "metadata": {},
     "output_type": "execute_result"
    }
   ],
   "source": [
    "data28.process(copies=8)\n",
    "data28.score(q_alpha=1e-19, n_regressors=(\"LogCV\",), q_regressors=(\"Ridge\",))\n",
    "data28.score(q_alpha=0, n_regressors=(\"LogCV\",), q_regressors=(\"Ridge\",))"
   ],
   "metadata": {
    "collapsed": false,
    "ExecuteTime": {
     "end_time": "2024-03-10T04:35:43.575273800Z",
     "start_time": "2024-03-10T04:30:11.870106100Z"
    }
   },
   "id": "86d83038dd192f2c",
   "execution_count": 7
  },
  {
   "cell_type": "code",
   "outputs": [
    {
     "name": "stderr",
     "output_type": "stream",
     "text": [
      "100%|██████████| 15000/15000 [22:33<00:00, 11.09it/s] \n",
      "100%|██████████| 3000/3000 [04:51<00:00, 10.30it/s]\n"
     ]
    }
   ],
   "source": [
    "if __name__ == \"__main__\":\n",
    "    fdata4 = Classify(compression=4, t_total=12, t_steps=50, coef_pc=.25, coef_pq=.25, dataset=\"fashion\"\n",
    "             ).train(trainSize=15000, testSize=3000, max_pool=13)"
   ],
   "metadata": {
    "collapsed": false,
    "ExecuteTime": {
     "end_time": "2024-03-10T06:33:06.260148Z",
     "start_time": "2024-03-10T06:05:34.954101700Z"
    }
   },
   "id": "8ea553cac3fc345e",
   "execution_count": 14
  },
  {
   "cell_type": "code",
   "outputs": [
    {
     "name": "stderr",
     "output_type": "stream",
     "text": [
      "100%|██████████| 15000/15000 [04:34<00:00, 54.61it/s]\n",
      "100%|██████████| 3000/3000 [00:55<00:00, 54.01it/s]\n"
     ]
    },
    {
     "name": "stdout",
     "output_type": "stream",
     "text": [
      "Logistic Regression CV (Without Quantum processing) yields: 0.7633333333333333\n",
      "Ridge Classifier (With Quantum processing) yields: 0.7693333333333333\n",
      "Ridge Classifier (With Quantum processing) yields: 0.7743333333333333\n",
      "Ridge Classifier (With Quantum processing) yields: 0.7633333333333333\n"
     ]
    }
   ],
   "source": [
    "fdata4.process(copies=8)\n",
    "fdata4.score(q_alpha=1e-9, n_regressors=(\"LogCV\",), q_regressors=(\"Ridge\",))\n",
    "fdata4.score(q_alpha=1e-15, n_regressors=(), q_regressors=(\"Ridge\",))\n",
    "fdata4.score(q_alpha=0, n_regressors=(), q_regressors=(\"Ridge\",))"
   ],
   "metadata": {
    "collapsed": false,
    "ExecuteTime": {
     "end_time": "2024-03-10T06:42:30.078118100Z",
     "start_time": "2024-03-10T06:33:06.257104400Z"
    }
   },
   "id": "30d1eca8de6c3a37",
   "execution_count": 15
  },
  {
   "cell_type": "code",
   "outputs": [
    {
     "name": "stderr",
     "output_type": "stream",
     "text": [
      "100%|██████████| 10000/10000 [46:56<00:00,  3.55it/s] \n",
      "100%|██████████| 2000/2000 [09:20<00:00,  3.57it/s]\n"
     ]
    }
   ],
   "source": [
    "if __name__ == \"__main__\":\n",
    "    fdata7 = Classify(compression=7, t_total=12, t_steps=50, coef_pc=.25, coef_pq=.25, dataset=\"fashion\"\n",
    "             ).train(trainSize=10000, testSize=2000, max_pool=13)"
   ],
   "metadata": {
    "collapsed": false,
    "ExecuteTime": {
     "end_time": "2024-03-10T07:38:47.606272500Z",
     "start_time": "2024-03-10T06:42:30.073117500Z"
    }
   },
   "id": "6b729565ff1f8c41",
   "execution_count": 16
  },
  {
   "cell_type": "code",
   "outputs": [
    {
     "name": "stderr",
     "output_type": "stream",
     "text": [
      "100%|██████████| 10000/10000 [03:09<00:00, 52.73it/s]\n",
      "100%|██████████| 2000/2000 [00:38<00:00, 52.53it/s]\n"
     ]
    },
    {
     "name": "stdout",
     "output_type": "stream",
     "text": [
      "Logistic Regression CV (Without Quantum processing) yields: 0.815\n",
      "Ridge Classifier (With Quantum processing) yields: 0.777\n",
      "Ridge Classifier (With Quantum processing) yields: 0.775\n",
      "Ridge Classifier (With Quantum processing) yields: 0.76\n"
     ]
    }
   ],
   "source": [
    "fdata7.process(copies=8)\n",
    "fdata7.score(q_alpha=1e-9, n_regressors=(\"LogCV\",), q_regressors=(\"Ridge\",))\n",
    "fdata7.score(q_alpha=1e-15, n_regressors=(), q_regressors=(\"Ridge\",))\n",
    "fdata7.score(q_alpha=0, n_regressors=(), q_regressors=(\"Ridge\",))"
   ],
   "metadata": {
    "collapsed": false,
    "ExecuteTime": {
     "end_time": "2024-03-10T07:46:48.692663200Z",
     "start_time": "2024-03-10T07:38:47.601820Z"
    }
   },
   "id": "9a32676c5f7278ca",
   "execution_count": 17
  },
  {
   "cell_type": "code",
   "outputs": [
    {
     "name": "stderr",
     "output_type": "stream",
     "text": [
      "100%|██████████| 10000/10000 [04:59<00:00, 33.39it/s]\n",
      "100%|██████████| 2000/2000 [01:13<00:00, 27.17it/s]\n"
     ]
    }
   ],
   "source": [
    "if __name__ == \"__main__\":\n",
    "    fdata10 = Classify(compression=7, t_total=12, t_steps=50, coef_pc=.25, coef_pq=.25, dataset=\"fashion\"\n",
    "             ).train(trainSize=10000, testSize=2000, max_pool=13)"
   ],
   "metadata": {
    "collapsed": false,
    "ExecuteTime": {
     "end_time": "2024-03-10T07:53:01.820577Z",
     "start_time": "2024-03-10T07:46:48.683646200Z"
    }
   },
   "id": "ca1e1264d31ef909",
   "execution_count": 18
  },
  {
   "cell_type": "code",
   "outputs": [
    {
     "name": "stderr",
     "output_type": "stream",
     "text": [
      "100%|██████████| 10000/10000 [03:27<00:00, 48.29it/s]\n",
      "100%|██████████| 2000/2000 [00:41<00:00, 47.91it/s]\n"
     ]
    },
    {
     "name": "stdout",
     "output_type": "stream",
     "text": [
      "Logistic Regression CV (Without Quantum processing) yields: 0.815\n",
      "Ridge Classifier (With Quantum processing) yields: 0.777\n",
      "Ridge Classifier (With Quantum processing) yields: 0.775\n",
      "Ridge Classifier (With Quantum processing) yields: 0.76\n"
     ]
    }
   ],
   "source": [
    "fdata10.process(copies=8)\n",
    "fdata10.score(q_alpha=1e-9, n_regressors=(\"LogCV\",), q_regressors=(\"Ridge\",))\n",
    "fdata10.score(q_alpha=1e-15, n_regressors=(), q_regressors=(\"Ridge\",))\n",
    "fdata10.score(q_alpha=0, n_regressors=(), q_regressors=(\"Ridge\",))\n"
   ],
   "metadata": {
    "collapsed": false,
    "ExecuteTime": {
     "end_time": "2024-03-10T08:01:48.237997600Z",
     "start_time": "2024-03-10T07:53:01.821585800Z"
    }
   },
   "id": "381cbbb9c2bc1276",
   "execution_count": 19
  },
  {
   "cell_type": "code",
   "outputs": [
    {
     "name": "stdout",
     "output_type": "stream",
     "text": [
      "Logistic Regression CV (With Quantum processing) yields: 0.753\n",
      "Ridge Classifier (With Quantum processing) yields: 0.765\n"
     ]
    }
   ],
   "source": [
    "fdata10.score(q_alpha=0, n_regressors=(), q_regressors=(\"LogCV\",))\n",
    "fdata10.score(q_alpha=1e-5, n_regressors=(), q_regressors=(\"Ridge\",))"
   ],
   "metadata": {
    "collapsed": false,
    "ExecuteTime": {
     "end_time": "2024-03-10T08:46:44.628048700Z",
     "start_time": "2024-03-10T08:37:17.504652800Z"
    }
   },
   "id": "3f3f6af13c26504d",
   "execution_count": 20
  },
  {
   "cell_type": "code",
   "outputs": [],
   "source": [],
   "metadata": {
    "collapsed": false
   },
   "id": "ad18f8642d599972"
  }
 ],
 "metadata": {
  "kernelspec": {
   "display_name": "Python 3",
   "language": "python",
   "name": "python3"
  },
  "language_info": {
   "codemirror_mode": {
    "name": "ipython",
    "version": 2
   },
   "file_extension": ".py",
   "mimetype": "text/x-python",
   "name": "python",
   "nbconvert_exporter": "python",
   "pygments_lexer": "ipython2",
   "version": "2.7.6"
  }
 },
 "nbformat": 4,
 "nbformat_minor": 5
}
